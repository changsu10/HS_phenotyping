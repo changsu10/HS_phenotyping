{
 "cells": [
  {
   "cell_type": "markdown",
   "metadata": {},
   "source": [
    "*This notebook aims to create a matrix for logistic regression. It follows the 'all_demographic_no_timewindow.ipynb' notebook and will process SNOMED/Phecode mapping.*"
   ]
  },
  {
   "cell_type": "markdown",
   "metadata": {},
   "source": [
    "process\n",
    "1. load condition data\n",
    "2. organize the source code (snomed - ICD, ICD - phecode)\n",
    "3. "
   ]
  },
  {
   "cell_type": "code",
   "execution_count": null,
   "metadata": {},
   "outputs": [],
   "source": [
    "'''\n",
    "\n",
    "To preprocess data for analysis\n",
    "\n",
    "'''\n",
    "import pandas as pd\n",
    "import os\n",
    "import numpy as np\n",
    "import gc\n",
    "import pickle\n",
    "\n",
    "condition_data = pd.read_csv('condition_dataset.csv')"
   ]
  },
  {
   "cell_type": "code",
   "execution_count": 2,
   "metadata": {
    "code_folding": []
   },
   "outputs": [
    {
     "data": {
      "application/vnd.jupyter.widget-view+json": {
       "model_id": "bc47872c0f724ed3a0ebc011897aeea2",
       "version_major": 2,
       "version_minor": 0
      },
      "text/plain": [
       "Downloading:   0%|          | 0/85408686 [00:00<?, ?rows/s]"
      ]
     },
     "metadata": {},
     "output_type": "display_data"
    }
   ],
   "source": [
    "## select patients from age 18-90; return dataset_45023455_condition_df\n",
    "\n",
    "# This query represents dataset \"whole-cohort-all-condition\" for domain \"condition\" and was generated for All of Us Controlled Tier Dataset v7\n",
    "dataset_45023455_condition_sql = \"\"\"\n",
    "    SELECT\n",
    "        c_occurrence.person_id,\n",
    "        c_occurrence.condition_concept_id,\n",
    "        c_standard_concept.concept_name as standard_concept_name,\n",
    "        c_standard_concept.concept_code as standard_concept_code,\n",
    "        c_standard_concept.vocabulary_id as standard_vocabulary,\n",
    "        c_occurrence.condition_start_datetime,\n",
    "        c_occurrence.condition_end_datetime,\n",
    "        c_occurrence.condition_type_concept_id,\n",
    "        c_type.concept_name as condition_type_concept_name,\n",
    "        c_occurrence.stop_reason,\n",
    "        c_occurrence.visit_occurrence_id,\n",
    "        visit.concept_name as visit_occurrence_concept_name,\n",
    "        c_occurrence.condition_source_value,\n",
    "        c_occurrence.condition_source_concept_id,\n",
    "        c_source_concept.concept_name as source_concept_name,\n",
    "        c_source_concept.concept_code as source_concept_code,\n",
    "        c_source_concept.vocabulary_id as source_vocabulary,\n",
    "        c_occurrence.condition_status_source_value,\n",
    "        c_occurrence.condition_status_concept_id,\n",
    "        c_status.concept_name as condition_status_concept_name \n",
    "    FROM\n",
    "        ( SELECT\n",
    "            * \n",
    "        FROM\n",
    "            `\"\"\" + os.environ[\"WORKSPACE_CDR\"] + \"\"\".condition_occurrence` c_occurrence \n",
    "        WHERE\n",
    "            (\n",
    "                condition_concept_id IN (\n",
    "                    SELECT\n",
    "                        DISTINCT c.concept_id \n",
    "                    FROM\n",
    "                        `\"\"\" + os.environ[\"WORKSPACE_CDR\"] + \"\"\".cb_criteria` c \n",
    "                    JOIN\n",
    "                        (\n",
    "                            SELECT\n",
    "                                CAST(cr.id as string) AS id       \n",
    "                            FROM\n",
    "                                `\"\"\" + os.environ[\"WORKSPACE_CDR\"] + \"\"\".cb_criteria` cr       \n",
    "                            WHERE\n",
    "                                concept_id IN (\n",
    "                                    137193, 137977, 3663207, 37311320, 4011630, 4021667, 4024705, 4027304, 4041287, 4042140, 40480457, 4070767, 4089228, 4094294, 4132559, 4167864, 4168498, 4172024, 4179304, 4196732, 4213737, 4274025, 4275722, 4297708, 43021226, 4303401, 432453, 433595, 437312, 437382\n",
    "                                )       \n",
    "                                AND full_text LIKE '%_rank1]%'      \n",
    "                        ) a \n",
    "                            ON (\n",
    "                                c.path LIKE CONCAT('%.',\n",
    "                            a.id,\n",
    "                            '.%') \n",
    "                            OR c.path LIKE CONCAT('%.',\n",
    "                            a.id) \n",
    "                            OR c.path LIKE CONCAT(a.id,\n",
    "                            '.%') \n",
    "                            OR c.path = a.id) \n",
    "                        WHERE\n",
    "                            is_standard = 1 \n",
    "                            AND is_selectable = 1\n",
    "                        )\n",
    "                )  \n",
    "                AND (\n",
    "                    c_occurrence.PERSON_ID IN (\n",
    "                        SELECT\n",
    "                            distinct person_id  \n",
    "                        FROM\n",
    "                            `\"\"\" + os.environ[\"WORKSPACE_CDR\"] + \"\"\".cb_search_person` cb_search_person  \n",
    "                        WHERE\n",
    "                            cb_search_person.person_id IN (\n",
    "                                SELECT\n",
    "                                    person_id \n",
    "                                FROM\n",
    "                                    `\"\"\" + os.environ[\"WORKSPACE_CDR\"] + \"\"\".cb_search_person` p \n",
    "                                WHERE\n",
    "                                    age_at_consent BETWEEN 18 AND 90 \n",
    "                            ) \n",
    "                        )\n",
    "                )\n",
    "            ) c_occurrence \n",
    "        LEFT JOIN\n",
    "            `\"\"\" + os.environ[\"WORKSPACE_CDR\"] + \"\"\".concept` c_standard_concept \n",
    "                ON c_occurrence.condition_concept_id = c_standard_concept.concept_id \n",
    "        LEFT JOIN\n",
    "            `\"\"\" + os.environ[\"WORKSPACE_CDR\"] + \"\"\".concept` c_type \n",
    "                ON c_occurrence.condition_type_concept_id = c_type.concept_id \n",
    "        LEFT JOIN\n",
    "            `\"\"\" + os.environ[\"WORKSPACE_CDR\"] + \"\"\".visit_occurrence` v \n",
    "                ON c_occurrence.visit_occurrence_id = v.visit_occurrence_id \n",
    "        LEFT JOIN\n",
    "            `\"\"\" + os.environ[\"WORKSPACE_CDR\"] + \"\"\".concept` visit \n",
    "                ON v.visit_concept_id = visit.concept_id \n",
    "        LEFT JOIN\n",
    "            `\"\"\" + os.environ[\"WORKSPACE_CDR\"] + \"\"\".concept` c_source_concept \n",
    "                ON c_occurrence.condition_source_concept_id = c_source_concept.concept_id \n",
    "        LEFT JOIN\n",
    "            `\"\"\" + os.environ[\"WORKSPACE_CDR\"] + \"\"\".concept` c_status \n",
    "                ON c_occurrence.condition_status_concept_id = c_status.concept_id\"\"\"\n",
    "\n",
    "dataset_45023455_condition_df = pd.read_gbq(\n",
    "    dataset_45023455_condition_sql,\n",
    "    dialect=\"standard\",\n",
    "    use_bqstorage_api=(\"BIGQUERY_STORAGE_API_ENABLED\" in os.environ),\n",
    "    progress_bar_type=\"tqdm_notebook\")\n",
    "\n",
    "#dataset_45023455_condition_df.head(5)"
   ]
  },
  {
   "cell_type": "code",
   "execution_count": 3,
   "metadata": {
    "code_folding": []
   },
   "outputs": [
    {
     "data": {
      "application/vnd.jupyter.widget-view+json": {
       "model_id": "8e2d2f133c7b45a5afff7c56df8bfa7e",
       "version_major": 2,
       "version_minor": 0
      },
      "text/plain": [
       "Downloading:   0%|          | 0/412573 [00:00<?, ?rows/s]"
      ]
     },
     "metadata": {},
     "output_type": "display_data"
    }
   ],
   "source": [
    "## select patients from age 18-90; return dataset_45023455_person_df\n",
    "# This query represents dataset \"whole-cohort-all-condition\" for domain \"person\" and was generated for All of Us Controlled Tier Dataset v7\n",
    "dataset_45023455_person_sql = \"\"\"\n",
    "    SELECT\n",
    "        person.person_id,\n",
    "        person.gender_concept_id,\n",
    "        p_gender_concept.concept_name as gender,\n",
    "        person.birth_datetime as date_of_birth,\n",
    "        person.race_concept_id,\n",
    "        p_race_concept.concept_name as race,\n",
    "        person.ethnicity_concept_id,\n",
    "        p_ethnicity_concept.concept_name as ethnicity,\n",
    "        person.sex_at_birth_concept_id,\n",
    "        p_sex_at_birth_concept.concept_name as sex_at_birth \n",
    "    FROM\n",
    "        `\"\"\" + os.environ[\"WORKSPACE_CDR\"] + \"\"\".person` person \n",
    "    LEFT JOIN\n",
    "        `\"\"\" + os.environ[\"WORKSPACE_CDR\"] + \"\"\".concept` p_gender_concept \n",
    "            ON person.gender_concept_id = p_gender_concept.concept_id \n",
    "    LEFT JOIN\n",
    "        `\"\"\" + os.environ[\"WORKSPACE_CDR\"] + \"\"\".concept` p_race_concept \n",
    "            ON person.race_concept_id = p_race_concept.concept_id \n",
    "    LEFT JOIN\n",
    "        `\"\"\" + os.environ[\"WORKSPACE_CDR\"] + \"\"\".concept` p_ethnicity_concept \n",
    "            ON person.ethnicity_concept_id = p_ethnicity_concept.concept_id \n",
    "    LEFT JOIN\n",
    "        `\"\"\" + os.environ[\"WORKSPACE_CDR\"] + \"\"\".concept` p_sex_at_birth_concept \n",
    "            ON person.sex_at_birth_concept_id = p_sex_at_birth_concept.concept_id  \n",
    "    WHERE\n",
    "        person.PERSON_ID IN (\n",
    "            SELECT\n",
    "                distinct person_id  \n",
    "            FROM\n",
    "                `\"\"\" + os.environ[\"WORKSPACE_CDR\"] + \"\"\".cb_search_person` cb_search_person  \n",
    "            WHERE\n",
    "                cb_search_person.person_id IN (\n",
    "                    SELECT\n",
    "                        person_id \n",
    "                    FROM\n",
    "                        `\"\"\" + os.environ[\"WORKSPACE_CDR\"] + \"\"\".cb_search_person` p \n",
    "                    WHERE\n",
    "                        age_at_consent BETWEEN 18 AND 90 \n",
    "                ) \n",
    "            )\"\"\"\n",
    "\n",
    "dataset_45023455_person_df = pd.read_gbq(\n",
    "    dataset_45023455_person_sql,\n",
    "    dialect=\"standard\",\n",
    "    use_bqstorage_api=(\"BIGQUERY_STORAGE_API_ENABLED\" in os.environ),\n",
    "    progress_bar_type=\"tqdm_notebook\")\n",
    "\n",
    "#dataset_45023455_person_df.head(5)\n"
   ]
  },
  {
   "cell_type": "code",
   "execution_count": 4,
   "metadata": {},
   "outputs": [
    {
     "data": {
      "text/plain": [
       "253861"
      ]
     },
     "execution_count": 4,
     "metadata": {},
     "output_type": "execute_result"
    }
   ],
   "source": [
    "dataset_45023455_condition_df['person_id'].nunique()"
   ]
  },
  {
   "cell_type": "code",
   "execution_count": 5,
   "metadata": {},
   "outputs": [
    {
     "data": {
      "text/plain": [
       "412573"
      ]
     },
     "execution_count": 5,
     "metadata": {},
     "output_type": "execute_result"
    }
   ],
   "source": [
    "dataset_45023455_person_df['person_id'].nunique()"
   ]
  },
  {
   "cell_type": "markdown",
   "metadata": {},
   "source": [
    "### Load mapping dictionary file"
   ]
  },
  {
   "cell_type": "code",
   "execution_count": 5,
   "metadata": {},
   "outputs": [],
   "source": [
    "# load mapping dictionary: snomed2icd10\n",
    "snomed2icd = pd.read_csv('snomed_icd_mapping.csv',dtype={'SNOMED': str, 'ICD10':str})\n",
    "snomed2icd = snomed2icd.rename(columns ={'SNOMED':'source_concept_code','ICD10CM':'ICDcode'})\n"
   ]
  },
  {
   "cell_type": "code",
   "execution_count": null,
   "metadata": {},
   "outputs": [],
   "source": [
    "'''\n",
    "Map the SNOMED to ICD-10-CM\n",
    "'''\n",
    "# Load SNOMED to ICD mapping table \n",
    "snomed2icd = pd.read_csv('snomed_icd_mapping.csv',dtype={'SNOMED': str, 'ICD10':str})\n",
    "snomed2icd = snomed2icd.rename(columns ={'SNOMED':'source_concept_code',\n",
    "                                         'ICD10CM':'ICDcode'}) # Ensure column name is matching\n",
    "\n",
    "# Select interested columns\n",
    "df_condition_all = condition_data[['person_id','standard_concept_code','source_concept_code','source_vocabulary','condition_start_datetime']]\n",
    "\n",
    "# Subset records that already use ICD codes\n",
    "df_condition_icd = df_condition_all.loc[df_condition_all['source_vocabulary'].isin(['ICD10CM', 'ICD9CM'])]\n",
    "\n",
    "# Subset records that use SNOMED codes\n",
    "df_condition_snomed = df_condition_all.loc[dataset_condition_df['source_vocabulary'] == 'SNOMED' ]\n",
    "df_condition_snomed = df_condition_snomed.reset_index(drop = True)\n",
    "\n",
    "# Map SNOMED codes to ICD using the reference table\n",
    "df_condition_snomed_mapped = df_condition_snomed.merge(snomed2icd, how='left', on = 'source_concept_code')\n",
    "\n",
    "# Remove records with no valid ICD mapping\n",
    "df_condition_snomed_mapped = df_condition_snomed_mapped.dropna(subset=['ICDcode'])\n",
    "\n",
    "# Standardize ICD column format for both sources\n",
    "df_condition_icd.loc[:, 'ICDcode'] = df_condition_icd['source_concept_code']\n",
    "df_condition_icd.loc[:, 'ICDsource'] = df_condition_icd['source_vocabulary']\n",
    "\n",
    "# Concatenate both sources into a unified ICD-coded dataset\n",
    "df_condition_with_icd= pd.concat([df_condition_icd,df_condition_snomed_mapped],ignore_index=True)\n",
    "df_condition_with_icd.head()"
   ]
  },
  {
   "cell_type": "code",
   "execution_count": null,
   "metadata": {},
   "outputs": [],
   "source": [
    "'''\n",
    "Map ICD to Phecode\n",
    "'''\n",
    "# Load ICD to Phecode mapping table\n",
    "icd9phe = pd.read_csv('ICD_9CM_phecode.csv',dtype = {'Phecode':str, 'ICD':str})\n",
    "icd10phe = pd.read_csv('ICD_10CM_phecode.csv',dtype = {'Phecode':str, 'ICD':str})\n",
    "\n",
    "icd9phe = icd9phe.rename(columns = {'ICD':'ICDcode'})\n",
    "\n",
    "icd10phe = icd10phe.rename(columns = {'ICD':'ICDcode'})\n",
    "\n",
    "\n",
    "dataset_condition_concat_icd9_df = df_condition_with_icd[df_condition_with_icd['source_vocabulary'] == 'ICD9CM']\n",
    "dataset_condition_concat_icd10_df = df_condition_with_icd[(df_condition_with_icd['source_vocabulary'] == 'ICD10CM') |(df_condition_with_icd['source_vocabulary'] == 'SNOMED')]\n",
    "\n",
    "phe_icd9_df = dataset_condition_concat_icd9_df.merge(icd9phe, how = 'left',on='ICDcode')\n",
    "phe_icd10_df = dataset_condition_concat_icd10_df.merge(icd10phe, how = 'left',on='ICDcode')\n",
    "phe_condition_df = pd.concat([phe_icd9_df,phe_icd10_df])\n",
    "non_mapping_code = phe_condition_df[phe_condition_df['Phecode'].isna()]\n",
    "non_mapping_code = non_mapping_code[['ICDcode','ICDsource']].drop_duplicates()\n",
    "\n",
    "# check_list = non_mapping_code[non_mapping_code['ICDsource'] == 'ICD9CM'][['ICDcode']]\n",
    "# check_list = non_mapping_code[non_mapping_code['ICDsource'] == 'ICD10CM'][['ICDcode']]\n",
    "# check_list = non_mapping_code[non_mapping_code['ICDsource'] == 'ICD10CM_Mapping'][['ICDcode']]\n",
    "# icd2phe[icd2phe['source_concept_code'].isin(check_list)]\n",
    "\n",
    "phe_condition_drop_df = phe_condition_df.dropna(subset=['Phecode'])\n",
    "phe_condition_drop_df = phe_condition_drop_df.drop_duplicates()\n",
    "\n",
    "print ('number of phecode')\n",
    "all_phecode= set(phe_condition_drop_df['Phecode'])\n",
    "len(all_phecode)#1847 phecode => 1848"
   ]
  },
  {
   "cell_type": "code",
   "execution_count": null,
   "metadata": {},
   "outputs": [],
   "source": [
    "'''\n",
    "Map ICD codes to Phecodes\n",
    "'''\n",
    "\n",
    "# Load ICD-to-Phecode mapping tables\n",
    "df_icd9_to_phe = pd.read_csv('ICD_9CM_phecode.csv', dtype={'Phecode': str, 'ICD': str})\n",
    "df_icd10_to_phe = pd.read_csv('ICD_10CM_phecode.csv', dtype={'Phecode': str, 'ICD': str})\n",
    "\n",
    "# Standardize column names\n",
    "df_icd9_to_phe = df_icd9_to_phe.rename(columns={'ICD': 'ICDcode'})\n",
    "df_icd10_to_phe = df_icd10_to_phe.rename(columns={'ICD': 'ICDcode'})\n",
    "\n",
    "# Subset ICD9-coded conditions\n",
    "df_condition_icd9 = df_condition_with_icd[\n",
    "    df_condition_with_icd['source_vocabulary'] == 'ICD9CM'\n",
    "]\n",
    "\n",
    "# Subset ICD10-coded conditions, including SNOMED-mapped\n",
    "df_condition_icd10 = df_condition_with_icd[\n",
    "    (df_condition_with_icd['source_vocabulary'] == 'ICD10CM') |\n",
    "    (df_condition_with_icd['source_vocabulary'] == 'SNOMED')\n",
    "]\n",
    "# Map ICD-9-CM codes to Phecodes\n",
    "df_phe_icd9 = df_condition_icd9.merge(df_icd9_to_phe, how='left', on='ICDcode')\n",
    "\n",
    "# Map ICD-10-CM codes to Phecodes\n",
    "df_phe_icd10 = df_condition_icd10.merge(df_icd10_to_phe, how='left', on='ICDcode')\n",
    "\n",
    "# Concatenate all Phecode-mapped condition records\n",
    "df_phe_condition = pd.concat([df_phe_icd9, df_phe_icd10])\n",
    "\n",
    "# Identify unmapped ICD codes\n",
    "df_unmapped_icd = df_phe_condition[df_phe_condition['Phecode'].isna()]\n",
    "df_unmapped_icd = df_unmapped_icd[['ICDcode', 'ICDsource']].drop_duplicates()\n",
    "print('ICD codes not mapped to any Phecode:', df_unmapped_icd.ICDcode.unique())\n",
    "\n",
    "# Remove unmapped records and duplicates\n",
    "df_phe_condition_mapped = df_phe_condition.dropna(subset=['Phecode'])\n",
    "df_phe_condition_mapped = df_phe_condition_mapped.drop_duplicates()\n",
    "\n",
    "print('Number of unique Phecodes:',len(set(df_phe_condition_mapped['Phecode'])))"
   ]
  },
  {
   "cell_type": "code",
   "execution_count": null,
   "metadata": {},
   "outputs": [],
   "source": [
    "'''\n",
    "Identify HS case and clean control groups\n",
    "'''\n",
    "\n",
    "# --- Define HS-related codes ---\n",
    "HS_SNOMED_list = ['69741000', '59393003', '402826001', '402828000', '18638007']\n",
    "HS_ICD_code = ['705.83', 'L73.2']\n",
    "white_list = [\n",
    "    \"724834006\", \"1254916008\", \"275448003\", \"59393003\", \"18638007\",\n",
    "    \"404176003\", \"402825002\", \"238992001\", \"403640008\", \"69741000\",\n",
    "    \"402827005\", \"785724007\", \"238754005\", \"402826001\", \"1254915007\",\n",
    "    \"402828000\", \"402706007\", \"404175004\", \"402752000\", \"74578003\"\n",
    "]\n",
    "\n",
    "# --- Identify HS case person_ids ---\n",
    "df_hs_pid = df_phe_condition_mapped[\n",
    "    df_phe_condition_mapped['standard_concept_code'].isin(HS_SNOMED_list) |\n",
    "    df_phe_condition_mapped['ICDcode'].isin(HS_ICD_code)\n",
    "][['person_id']].drop_duplicates()\n",
    "\n",
    "# --- Identify control person_ids: not in HS group ---\n",
    "df_control_condition = df_phe_condition_mapped[\n",
    "    ~df_phe_condition_mapped['person_id'].isin(df_hs_pid['person_id'])\n",
    "]\n",
    "\n",
    "# --- Remove control individuals who appear in white-listed SNOMED codes ---\n",
    "df_white_list_pid = df_control_condition[df_control_condition['standard_concept_code'].isin(white_list)]['person_id'].unique()\n",
    "df_control_clean = df_control_condition[~df_control_condition['person_id'].isin(df_white_list_pid)]\n",
    "\n",
    "# --- Final unique IDs ---\n",
    "print('Number of case individuals:', len(df_hs_pid))\n",
    "print('Number of control individuals:', df_control_clean['person_id'].nunique())\n",
    "\n",
    "# --- Save PIDs\n",
    "df_hs_pid.to_csv('HS_pid.csv', index=False)\n",
    "df_control_clean_pid = df_control_clean[['person_id']].drop_duplicates()\n",
    "df_control_clean_pid.to_csv('control_pid.csv', index=False)\n",
    "\n",
    "# --- Select cohort\n",
    "df_cohort = df_phe_condition_mapped[\n",
    "    df_phe_condition_mapped['person_id'].isin(df_hs_pid['person_id']) |\n",
    "    df_phe_condition_mapped['person_id'].isin(df_control_clean['person_id'])\n",
    "]\n",
    "df_cohort['HS'] = None\n",
    "df_cohort.loc[df_cohort['person_id'].isin(df_hs_pid['person_id']), 'HS'] = 1\n",
    "df_cohort.loc[df_cohort['person_id'].isin(df_control_clean['person_id']), 'HS'] = 0"
   ]
  },
  {
   "cell_type": "code",
   "execution_count": null,
   "metadata": {},
   "outputs": [],
   "source": [
    "# back up"
   ]
  },
  {
   "cell_type": "code",
   "execution_count": null,
   "metadata": {},
   "outputs": [],
   "source": [
    "'''\n",
    "Identify case and control groupㄋ\n",
    "'''\n",
    "# Define HS case codes\n",
    "HS_SNOWMED_list=['69741000','59393003','402826001','402828000','18638007']\n",
    "HS_ICD_code = ['705.83','L73.2']\n",
    "\n",
    "# Define white-listed SNOMED codes\n",
    "white_list = [\n",
    "    \"724834006\", \"1254916008\", \"275448003\", \"59393003\", \"18638007\",\n",
    "    \"404176003\", \"402825002\", \"238992001\", \"403640008\", \"69741000\",\n",
    "    \"402827005\", \"785724007\", \"238754005\", \"402826001\", \"1254915007\",\n",
    "    \"402828000\", \"402706007\", \"404175004\", \"402752000\", \"74578003\"\n",
    "]\n",
    "# Identify HS cases by SNOMED code\n",
    "df_hs_condition_snomed = df_phe_condition_mapped[\n",
    "    df_phe_condition_mapped['standard_concept_code'].isin(HS_SNOMED_list)\n",
    "]\n",
    "# Identify HS cases by ICD code\n",
    "df_hs_condition_icd = df_phe_condition_mapped[\n",
    "    df_phe_condition_mapped['ICDcode'].isin(HS_ICD_code)\n",
    "]\n",
    "# Extract unique person IDs for HS cases\n",
    "df_hs_pid_snomed = df_hs_condition_snomed[['person_id']].drop_duplicates()\n",
    "df_hs_pid_icd = df_hs_condition_icd[['person_id']].drop_duplicates()\n",
    "\n",
    "# Combine SNOMED-based and ICD-based HS cases\n",
    "df_hs_pid = pd.concat([df_hs_pid_icd, df_hs_pid_snomed]).drop_duplicates().reset_index(drop=True)\n",
    "hs_pid_list = df_hs_pid['person_id']\n",
    "\n",
    "# Identify control group: individuals without any HS code\n",
    "df_control_condition = df_phe_condition_mapped[\n",
    "    ~df_phe_condition_mapped['person_id'].isin(hs_pid_list)\n",
    "]\n",
    "df_control_pid = df_control_condition[['person_id']].drop_duplicates()\n",
    "\n",
    "print('Number of case individuals:' , len(df_hs_pid))\n",
    "print('Number of control individuals:', len(df_control_pid))\n",
    "\n",
    "# Remove control pid within whitelist\n",
    "\n",
    "df_white_list_condition = df_control_condition[df_control_condition['standard_concept_code'].isin(white_list)]\n",
    "white_list_pid = df_white_list_condition.person_id.drop_duplicates()\n",
    "df_control_clean = df_control_condition[~df_control_condition['person_id'].isin(white_list_pid)]"
   ]
  },
  {
   "cell_type": "code",
   "execution_count": null,
   "metadata": {},
   "outputs": [],
   "source": []
  },
  {
   "cell_type": "code",
   "execution_count": null,
   "metadata": {},
   "outputs": [],
   "source": []
  },
  {
   "cell_type": "code",
   "execution_count": null,
   "metadata": {},
   "outputs": [],
   "source": []
  },
  {
   "cell_type": "code",
   "execution_count": null,
   "metadata": {},
   "outputs": [],
   "source": []
  },
  {
   "cell_type": "code",
   "execution_count": null,
   "metadata": {},
   "outputs": [],
   "source": []
  },
  {
   "cell_type": "code",
   "execution_count": null,
   "metadata": {},
   "outputs": [],
   "source": []
  },
  {
   "cell_type": "code",
   "execution_count": null,
   "metadata": {},
   "outputs": [],
   "source": [
    "'''\n",
    "Create Phecode Matrix\n",
    "'''\n",
    "def create_matrix(df):\n",
    "    # Drop duplicate entries for person_id and Phecode\n",
    "    df = df.drop_duplicates(subset=['person_id', 'Phecode'])\n",
    "    \n",
    "    # Create the binary matrix using pivot_table\n",
    "    binary_matrix = df.assign(value=1).pivot_table(\n",
    "        index='person_id',columns='Phecode', values='value', fill_value=0)\n",
    "        \n",
    "    return binary_matrix\n",
    "\n",
    "phecode_matrix = create_matrix(phe_condition_select)\n",
    "df_demo = demographic_data[[\n",
    "    'person_id','sex_at_birth','date_of_birth','race','ethnicity'\n",
    "]].drop_duplicates()\n",
    "\n",
    "phecode_matrix_demo = phecode_matrix.merge(df_demo, on = 'person_id', how = 'left')\n",
    "phecode_matrix_demo = phecode_matrix_demo.merge(df_cohort[['person_id', 'HS']], on='person_id', how='left')"
   ]
  },
  {
   "cell_type": "code",
   "execution_count": 47,
   "metadata": {
    "hidden": true
   },
   "outputs": [],
   "source": [
    "# # only keep code related columns to reduce memory\n",
    "# dataset_condition_df = dataset_45023455_condition_df[['person_id','standard_concept_code','source_concept_code','source_vocabulary','condition_start_datetime']]\n",
    "# # select subset that have ICD code\n",
    "#dataset_condition_ICD_df = dataset_condition_df.loc[dataset_condition_df['source_vocabulary'].isin(['ICD10CM', 'ICD9CM'])]\n",
    "# select subset that have SNOMED code\n",
    "dataset_condition_nonICD_df_1 = dataset_condition_df.loc[dataset_condition_df['source_vocabulary'] == 'SNOMED' ]\n",
    "dataset_condition_nonICD_df_1 = dataset_condition_nonICD_df_1.reset_index(drop = True)\n",
    "#dataset_condition_nonICD_df = dataset_condition_nonICD_df.set_index('standard_concept_code')"
   ]
  },
  {
   "cell_type": "code",
   "execution_count": 48,
   "metadata": {
    "hidden": true
   },
   "outputs": [
    {
     "data": {
      "text/plain": [
       "(6290946, 5)"
      ]
     },
     "execution_count": 48,
     "metadata": {},
     "output_type": "execute_result"
    }
   ],
   "source": [
    "dataset_condition_nonICD_df_1.shape #(6290946, 19)"
   ]
  },
  {
   "cell_type": "code",
   "execution_count": 49,
   "metadata": {
    "hidden": true,
    "scrolled": true
   },
   "outputs": [
    {
     "data": {
      "text/html": [
       "<div>\n",
       "<style scoped>\n",
       "    .dataframe tbody tr th:only-of-type {\n",
       "        vertical-align: middle;\n",
       "    }\n",
       "\n",
       "    .dataframe tbody tr th {\n",
       "        vertical-align: top;\n",
       "    }\n",
       "\n",
       "    .dataframe thead th {\n",
       "        text-align: right;\n",
       "    }\n",
       "</style>\n",
       "<table border=\"1\" class=\"dataframe\">\n",
       "  <thead>\n",
       "    <tr style=\"text-align: right;\">\n",
       "      <th></th>\n",
       "      <th>source_concept_code</th>\n",
       "      <th>ICDcode</th>\n",
       "      <th>effectiveTime</th>\n",
       "      <th>ICDsource</th>\n",
       "    </tr>\n",
       "  </thead>\n",
       "  <tbody>\n",
       "    <tr>\n",
       "      <th>0</th>\n",
       "      <td>127009</td>\n",
       "      <td>O03.84</td>\n",
       "      <td>20170901</td>\n",
       "      <td>ICD10CM_Mapping_1</td>\n",
       "    </tr>\n",
       "    <tr>\n",
       "      <th>1</th>\n",
       "      <td>134006</td>\n",
       "      <td>L67.8</td>\n",
       "      <td>20170901</td>\n",
       "      <td>ICD10CM_Mapping_1</td>\n",
       "    </tr>\n",
       "    <tr>\n",
       "      <th>2</th>\n",
       "      <td>150003</td>\n",
       "      <td>R32</td>\n",
       "      <td>20170901</td>\n",
       "      <td>ICD10CM_Mapping_1</td>\n",
       "    </tr>\n",
       "    <tr>\n",
       "      <th>3</th>\n",
       "      <td>151004</td>\n",
       "      <td>A54.81</td>\n",
       "      <td>20170901</td>\n",
       "      <td>ICD10CM_Mapping_1</td>\n",
       "    </tr>\n",
       "    <tr>\n",
       "      <th>4</th>\n",
       "      <td>162004</td>\n",
       "      <td>F31.13</td>\n",
       "      <td>20170901</td>\n",
       "      <td>ICD10CM_Mapping_1</td>\n",
       "    </tr>\n",
       "  </tbody>\n",
       "</table>\n",
       "</div>"
      ],
      "text/plain": [
       "  source_concept_code ICDcode  effectiveTime          ICDsource\n",
       "0              127009  O03.84       20170901  ICD10CM_Mapping_1\n",
       "1              134006   L67.8       20170901  ICD10CM_Mapping_1\n",
       "2              150003     R32       20170901  ICD10CM_Mapping_1\n",
       "3              151004  A54.81       20170901  ICD10CM_Mapping_1\n",
       "4              162004  F31.13       20170901  ICD10CM_Mapping_1"
      ]
     },
     "execution_count": 49,
     "metadata": {},
     "output_type": "execute_result"
    }
   ],
   "source": [
    "snomed2icd_1['ICDsource'] = 'ICD10CM_Mapping_1'\n",
    "snomed2icd_1.head(5)"
   ]
  },
  {
   "cell_type": "code",
   "execution_count": 50,
   "metadata": {
    "hidden": true
   },
   "outputs": [],
   "source": [
    "merge_condition_nonICD_1 = dataset_condition_nonICD_df_1.merge(snomed2icd_1, how='left', on = 'source_concept_code')"
   ]
  },
  {
   "cell_type": "code",
   "execution_count": 51,
   "metadata": {
    "hidden": true
   },
   "outputs": [
    {
     "data": {
      "text/html": [
       "<div>\n",
       "<style scoped>\n",
       "    .dataframe tbody tr th:only-of-type {\n",
       "        vertical-align: middle;\n",
       "    }\n",
       "\n",
       "    .dataframe tbody tr th {\n",
       "        vertical-align: top;\n",
       "    }\n",
       "\n",
       "    .dataframe thead th {\n",
       "        text-align: right;\n",
       "    }\n",
       "</style>\n",
       "<table border=\"1\" class=\"dataframe\">\n",
       "  <thead>\n",
       "    <tr style=\"text-align: right;\">\n",
       "      <th></th>\n",
       "      <th>person_id</th>\n",
       "      <th>standard_concept_code</th>\n",
       "      <th>source_concept_code</th>\n",
       "      <th>source_vocabulary</th>\n",
       "      <th>condition_start_datetime</th>\n",
       "      <th>ICDcode</th>\n",
       "      <th>effectiveTime</th>\n",
       "      <th>ICDsource</th>\n",
       "    </tr>\n",
       "  </thead>\n",
       "  <tbody>\n",
       "    <tr>\n",
       "      <th>0</th>\n",
       "      <td>1247519</td>\n",
       "      <td>285058000</td>\n",
       "      <td>285058000</td>\n",
       "      <td>SNOMED</td>\n",
       "      <td>2020-10-20 00:00:00+00:00</td>\n",
       "      <td>NaN</td>\n",
       "      <td>NaN</td>\n",
       "      <td>NaN</td>\n",
       "    </tr>\n",
       "    <tr>\n",
       "      <th>1</th>\n",
       "      <td>1600303</td>\n",
       "      <td>285058000</td>\n",
       "      <td>285058000</td>\n",
       "      <td>SNOMED</td>\n",
       "      <td>2017-03-16 00:00:00+00:00</td>\n",
       "      <td>NaN</td>\n",
       "      <td>NaN</td>\n",
       "      <td>NaN</td>\n",
       "    </tr>\n",
       "    <tr>\n",
       "      <th>2</th>\n",
       "      <td>1668080</td>\n",
       "      <td>285058000</td>\n",
       "      <td>285058000</td>\n",
       "      <td>SNOMED</td>\n",
       "      <td>2017-07-11 00:00:00+00:00</td>\n",
       "      <td>NaN</td>\n",
       "      <td>NaN</td>\n",
       "      <td>NaN</td>\n",
       "    </tr>\n",
       "    <tr>\n",
       "      <th>3</th>\n",
       "      <td>3008258</td>\n",
       "      <td>285058000</td>\n",
       "      <td>285058000</td>\n",
       "      <td>SNOMED</td>\n",
       "      <td>2018-12-05 00:00:00+00:00</td>\n",
       "      <td>NaN</td>\n",
       "      <td>NaN</td>\n",
       "      <td>NaN</td>\n",
       "    </tr>\n",
       "    <tr>\n",
       "      <th>4</th>\n",
       "      <td>1077108</td>\n",
       "      <td>285058000</td>\n",
       "      <td>285058000</td>\n",
       "      <td>SNOMED</td>\n",
       "      <td>2013-06-14 00:00:00+00:00</td>\n",
       "      <td>NaN</td>\n",
       "      <td>NaN</td>\n",
       "      <td>NaN</td>\n",
       "    </tr>\n",
       "  </tbody>\n",
       "</table>\n",
       "</div>"
      ],
      "text/plain": [
       "   person_id standard_concept_code source_concept_code source_vocabulary  \\\n",
       "0    1247519             285058000           285058000            SNOMED   \n",
       "1    1600303             285058000           285058000            SNOMED   \n",
       "2    1668080             285058000           285058000            SNOMED   \n",
       "3    3008258             285058000           285058000            SNOMED   \n",
       "4    1077108             285058000           285058000            SNOMED   \n",
       "\n",
       "   condition_start_datetime ICDcode  effectiveTime ICDsource  \n",
       "0 2020-10-20 00:00:00+00:00     NaN            NaN       NaN  \n",
       "1 2017-03-16 00:00:00+00:00     NaN            NaN       NaN  \n",
       "2 2017-07-11 00:00:00+00:00     NaN            NaN       NaN  \n",
       "3 2018-12-05 00:00:00+00:00     NaN            NaN       NaN  \n",
       "4 2013-06-14 00:00:00+00:00     NaN            NaN       NaN  "
      ]
     },
     "execution_count": 51,
     "metadata": {},
     "output_type": "execute_result"
    }
   ],
   "source": [
    "merge_condition_nonICD_1.head(5)"
   ]
  },
  {
   "cell_type": "code",
   "execution_count": 52,
   "metadata": {
    "hidden": true
   },
   "outputs": [
    {
     "data": {
      "text/plain": [
       "person_id                   29705\n",
       "standard_concept_code       10612\n",
       "source_concept_code         10849\n",
       "source_vocabulary               1\n",
       "condition_start_datetime    75451\n",
       "ICDcode                         0\n",
       "effectiveTime                   0\n",
       "ICDsource                       0\n",
       "dtype: int64"
      ]
     },
     "execution_count": 52,
     "metadata": {},
     "output_type": "execute_result"
    }
   ],
   "source": [
    "# The nan SNOMED-ICD mapping\n",
    "merge_condition_nonICD_1[merge_condition_nonICD_1['ICDcode'].isna()].nunique()"
   ]
  },
  {
   "cell_type": "code",
   "execution_count": 19,
   "metadata": {
    "hidden": true
   },
   "outputs": [
    {
     "data": {
      "text/plain": [
       "person_id                   28673\n",
       "standard_concept_code        5640\n",
       "source_concept_code          5714\n",
       "source_vocabulary               1\n",
       "condition_start_datetime    59283\n",
       "ICDcode                         0\n",
       "ICDsource                       0\n",
       "dtype: int64"
      ]
     },
     "execution_count": 19,
     "metadata": {},
     "output_type": "execute_result"
    }
   ],
   "source": [
    "# The nan SNOMED-ICD mapping\n",
    "# merge_condition_nonICD[merge_condition_nonICD['ICDcode'].isna()].nunique()"
   ]
  },
  {
   "cell_type": "code",
   "execution_count": 53,
   "metadata": {
    "hidden": true
   },
   "outputs": [
    {
     "data": {
      "text/plain": [
       "person_id                    33334\n",
       "standard_concept_code        25475\n",
       "source_concept_code          26006\n",
       "source_vocabulary                1\n",
       "condition_start_datetime    119786\n",
       "ICDcode                       7781\n",
       "effectiveTime                   13\n",
       "ICDsource                        1\n",
       "dtype: int64"
      ]
     },
     "execution_count": 53,
     "metadata": {},
     "output_type": "execute_result"
    }
   ],
   "source": [
    "merge_condition_nonICD_1[~merge_condition_nonICD_1['source_concept_code'].isna()].nunique()"
   ]
  },
  {
   "cell_type": "code",
   "execution_count": 20,
   "metadata": {
    "hidden": true,
    "scrolled": true
   },
   "outputs": [
    {
     "data": {
      "text/plain": [
       "person_id                    33334\n",
       "standard_concept_code        25475\n",
       "source_concept_code          26006\n",
       "source_vocabulary                1\n",
       "condition_start_datetime    119786\n",
       "ICDcode                       9684\n",
       "ICDsource                        1\n",
       "dtype: int64"
      ]
     },
     "execution_count": 20,
     "metadata": {},
     "output_type": "execute_result"
    }
   ],
   "source": [
    "merge_condition_nonICD[~merge_condition_nonICD['source_concept_code'].isna()].nunique()"
   ]
  },
  {
   "cell_type": "markdown",
   "metadata": {
    "hidden": true
   },
   "source": [
    "#### Check codes that cannot find a ICD mapping"
   ]
  },
  {
   "cell_type": "code",
   "execution_count": 55,
   "metadata": {
    "code_folding": [],
    "hidden": true,
    "scrolled": true
   },
   "outputs": [
    {
     "data": {
      "text/plain": [
       "10612"
      ]
     },
     "execution_count": 55,
     "metadata": {},
     "output_type": "execute_result"
    }
   ],
   "source": [
    "na_rows_1 = merge_condition_nonICD_1[merge_condition_nonICD_1['ICDcode'].isna()]\n",
    "na_rows_1.shape#570386 records have NA ==> 1774239\n",
    "len(set(na_rows_1['standard_concept_code']))#9618 SNOMED codes cannot find a mapping ==> 5640"
   ]
  },
  {
   "cell_type": "markdown",
   "metadata": {
    "hidden": true
   },
   "source": [
    "#### Remove unmapped records"
   ]
  },
  {
   "cell_type": "code",
   "execution_count": 56,
   "metadata": {
    "hidden": true
   },
   "outputs": [],
   "source": [
    "merge_condition_nonICD_dropna_1 = merge_condition_nonICD_1.dropna(subset=['ICDcode'])"
   ]
  },
  {
   "cell_type": "code",
   "execution_count": 57,
   "metadata": {
    "hidden": true
   },
   "outputs": [
    {
     "data": {
      "text/plain": [
       "(3680300, 8)"
      ]
     },
     "execution_count": 57,
     "metadata": {},
     "output_type": "execute_result"
    }
   ],
   "source": [
    "merge_condition_nonICD_dropna_1.shape #(6681125, 7)"
   ]
  },
  {
   "cell_type": "code",
   "execution_count": 58,
   "metadata": {
    "hidden": true,
    "scrolled": true
   },
   "outputs": [
    {
     "data": {
      "text/plain": [
       "(3680300, 8)"
      ]
     },
     "execution_count": 58,
     "metadata": {},
     "output_type": "execute_result"
    }
   ],
   "source": [
    "merge_condition_nonICD_dropna_1.shape #(4906886, 7、"
   ]
  },
  {
   "cell_type": "markdown",
   "metadata": {
    "hidden": true
   },
   "source": [
    "#### Concat"
   ]
  },
  {
   "cell_type": "code",
   "execution_count": 60,
   "metadata": {
    "hidden": true
   },
   "outputs": [
    {
     "data": {
      "text/html": [
       "<div>\n",
       "<style scoped>\n",
       "    .dataframe tbody tr th:only-of-type {\n",
       "        vertical-align: middle;\n",
       "    }\n",
       "\n",
       "    .dataframe tbody tr th {\n",
       "        vertical-align: top;\n",
       "    }\n",
       "\n",
       "    .dataframe thead th {\n",
       "        text-align: right;\n",
       "    }\n",
       "</style>\n",
       "<table border=\"1\" class=\"dataframe\">\n",
       "  <thead>\n",
       "    <tr style=\"text-align: right;\">\n",
       "      <th></th>\n",
       "      <th>person_id</th>\n",
       "      <th>standard_concept_code</th>\n",
       "      <th>source_concept_code</th>\n",
       "      <th>source_vocabulary</th>\n",
       "      <th>condition_start_datetime</th>\n",
       "      <th>ICDcode</th>\n",
       "      <th>ICDsource</th>\n",
       "      <th>effectiveTime</th>\n",
       "    </tr>\n",
       "  </thead>\n",
       "  <tbody>\n",
       "    <tr>\n",
       "      <th>0</th>\n",
       "      <td>4567145</td>\n",
       "      <td>59621000</td>\n",
       "      <td>I10</td>\n",
       "      <td>ICD10CM</td>\n",
       "      <td>2020-12-13 13:54:36+00:00</td>\n",
       "      <td>I10</td>\n",
       "      <td>ICD10CM</td>\n",
       "      <td>NaN</td>\n",
       "    </tr>\n",
       "    <tr>\n",
       "      <th>1</th>\n",
       "      <td>7189522</td>\n",
       "      <td>195967001</td>\n",
       "      <td>493.90</td>\n",
       "      <td>ICD9CM</td>\n",
       "      <td>2013-09-05 07:35:00+00:00</td>\n",
       "      <td>493.90</td>\n",
       "      <td>ICD9CM</td>\n",
       "      <td>NaN</td>\n",
       "    </tr>\n",
       "    <tr>\n",
       "      <th>2</th>\n",
       "      <td>3061977</td>\n",
       "      <td>737303004</td>\n",
       "      <td>Z90.49</td>\n",
       "      <td>ICD10CM</td>\n",
       "      <td>2019-08-15 06:00:00+00:00</td>\n",
       "      <td>Z90.49</td>\n",
       "      <td>ICD10CM</td>\n",
       "      <td>NaN</td>\n",
       "    </tr>\n",
       "    <tr>\n",
       "      <th>3</th>\n",
       "      <td>2097491</td>\n",
       "      <td>40739000</td>\n",
       "      <td>R13.10</td>\n",
       "      <td>ICD10CM</td>\n",
       "      <td>2021-10-16 06:00:00+00:00</td>\n",
       "      <td>R13.10</td>\n",
       "      <td>ICD10CM</td>\n",
       "      <td>NaN</td>\n",
       "    </tr>\n",
       "    <tr>\n",
       "      <th>4</th>\n",
       "      <td>1084350</td>\n",
       "      <td>709111008</td>\n",
       "      <td>J96.01</td>\n",
       "      <td>ICD10CM</td>\n",
       "      <td>2022-05-02 06:00:00+00:00</td>\n",
       "      <td>J96.01</td>\n",
       "      <td>ICD10CM</td>\n",
       "      <td>NaN</td>\n",
       "    </tr>\n",
       "    <tr>\n",
       "      <th>...</th>\n",
       "      <td>...</td>\n",
       "      <td>...</td>\n",
       "      <td>...</td>\n",
       "      <td>...</td>\n",
       "      <td>...</td>\n",
       "      <td>...</td>\n",
       "      <td>...</td>\n",
       "      <td>...</td>\n",
       "    </tr>\n",
       "    <tr>\n",
       "      <th>82676903</th>\n",
       "      <td>1093747</td>\n",
       "      <td>77386006</td>\n",
       "      <td>77386006</td>\n",
       "      <td>SNOMED</td>\n",
       "      <td>2020-12-08 23:59:00+00:00</td>\n",
       "      <td>Z33.1</td>\n",
       "      <td>ICD10CM_Mapping_1</td>\n",
       "      <td>20170901.0</td>\n",
       "    </tr>\n",
       "    <tr>\n",
       "      <th>82676904</th>\n",
       "      <td>1663024</td>\n",
       "      <td>77386006</td>\n",
       "      <td>77386006</td>\n",
       "      <td>SNOMED</td>\n",
       "      <td>2019-12-04 14:28:00+00:00</td>\n",
       "      <td>Z33.1</td>\n",
       "      <td>ICD10CM_Mapping_1</td>\n",
       "      <td>20170901.0</td>\n",
       "    </tr>\n",
       "    <tr>\n",
       "      <th>82676905</th>\n",
       "      <td>1769202</td>\n",
       "      <td>77386006</td>\n",
       "      <td>77386006</td>\n",
       "      <td>SNOMED</td>\n",
       "      <td>2018-04-19 15:32:00+00:00</td>\n",
       "      <td>Z33.1</td>\n",
       "      <td>ICD10CM_Mapping_1</td>\n",
       "      <td>20170901.0</td>\n",
       "    </tr>\n",
       "    <tr>\n",
       "      <th>82676906</th>\n",
       "      <td>1400989</td>\n",
       "      <td>77386006</td>\n",
       "      <td>77386006</td>\n",
       "      <td>SNOMED</td>\n",
       "      <td>2019-03-04 07:51:00+00:00</td>\n",
       "      <td>Z33.1</td>\n",
       "      <td>ICD10CM_Mapping_1</td>\n",
       "      <td>20170901.0</td>\n",
       "    </tr>\n",
       "    <tr>\n",
       "      <th>82676907</th>\n",
       "      <td>1895111</td>\n",
       "      <td>77386006</td>\n",
       "      <td>77386006</td>\n",
       "      <td>SNOMED</td>\n",
       "      <td>2019-11-15 09:58:00+00:00</td>\n",
       "      <td>Z33.1</td>\n",
       "      <td>ICD10CM_Mapping_1</td>\n",
       "      <td>20170901.0</td>\n",
       "    </tr>\n",
       "  </tbody>\n",
       "</table>\n",
       "<p>82676908 rows × 8 columns</p>\n",
       "</div>"
      ],
      "text/plain": [
       "          person_id standard_concept_code source_concept_code  \\\n",
       "0           4567145              59621000                 I10   \n",
       "1           7189522             195967001              493.90   \n",
       "2           3061977             737303004              Z90.49   \n",
       "3           2097491              40739000              R13.10   \n",
       "4           1084350             709111008              J96.01   \n",
       "...             ...                   ...                 ...   \n",
       "82676903    1093747              77386006            77386006   \n",
       "82676904    1663024              77386006            77386006   \n",
       "82676905    1769202              77386006            77386006   \n",
       "82676906    1400989              77386006            77386006   \n",
       "82676907    1895111              77386006            77386006   \n",
       "\n",
       "         source_vocabulary  condition_start_datetime ICDcode  \\\n",
       "0                  ICD10CM 2020-12-13 13:54:36+00:00     I10   \n",
       "1                   ICD9CM 2013-09-05 07:35:00+00:00  493.90   \n",
       "2                  ICD10CM 2019-08-15 06:00:00+00:00  Z90.49   \n",
       "3                  ICD10CM 2021-10-16 06:00:00+00:00  R13.10   \n",
       "4                  ICD10CM 2022-05-02 06:00:00+00:00  J96.01   \n",
       "...                    ...                       ...     ...   \n",
       "82676903            SNOMED 2020-12-08 23:59:00+00:00   Z33.1   \n",
       "82676904            SNOMED 2019-12-04 14:28:00+00:00   Z33.1   \n",
       "82676905            SNOMED 2018-04-19 15:32:00+00:00   Z33.1   \n",
       "82676906            SNOMED 2019-03-04 07:51:00+00:00   Z33.1   \n",
       "82676907            SNOMED 2019-11-15 09:58:00+00:00   Z33.1   \n",
       "\n",
       "                  ICDsource  effectiveTime  \n",
       "0                   ICD10CM            NaN  \n",
       "1                    ICD9CM            NaN  \n",
       "2                   ICD10CM            NaN  \n",
       "3                   ICD10CM            NaN  \n",
       "4                   ICD10CM            NaN  \n",
       "...                     ...            ...  \n",
       "82676903  ICD10CM_Mapping_1     20170901.0  \n",
       "82676904  ICD10CM_Mapping_1     20170901.0  \n",
       "82676905  ICD10CM_Mapping_1     20170901.0  \n",
       "82676906  ICD10CM_Mapping_1     20170901.0  \n",
       "82676907  ICD10CM_Mapping_1     20170901.0  \n",
       "\n",
       "[82676908 rows x 8 columns]"
      ]
     },
     "execution_count": 60,
     "metadata": {},
     "output_type": "execute_result"
    }
   ],
   "source": [
    "## merge mapped df to original df\n",
    "dataset_condition_concat_df_1 = pd.concat([dataset_condition_ICD_df,merge_condition_nonICD_dropna_1],ignore_index=True)\n",
    "dataset_condition_concat_df_1"
   ]
  },
  {
   "cell_type": "markdown",
   "metadata": {
    "hidden": true
   },
   "source": [
    "#### Map to ICD"
   ]
  },
  {
   "cell_type": "code",
   "execution_count": 61,
   "metadata": {
    "hidden": true
   },
   "outputs": [],
   "source": [
    "dataset_condition_concat_icd9_df_1 = dataset_condition_concat_df_1[dataset_condition_concat_df_1['source_vocabulary'] == 'ICD9CM']"
   ]
  },
  {
   "cell_type": "code",
   "execution_count": 62,
   "metadata": {
    "hidden": true
   },
   "outputs": [],
   "source": [
    "dataset_condition_concat_icd10_df_1 = dataset_condition_concat_df_1[(dataset_condition_concat_df_1['source_vocabulary'] == 'ICD10CM') |(dataset_condition_concat_df_1['source_vocabulary'] == 'SNOMED')]"
   ]
  },
  {
   "cell_type": "code",
   "execution_count": 63,
   "metadata": {
    "hidden": true
   },
   "outputs": [
    {
     "name": "stdout",
     "output_type": "stream",
     "text": [
      "(28996423, 8)\n",
      "(53680485, 8)\n",
      "(82676908, 8)\n"
     ]
    }
   ],
   "source": [
    "print(dataset_condition_concat_icd9_df_1.shape)#(28996423, 7)\n",
    "print(dataset_condition_concat_icd10_df_1.shape)\n",
    "print(dataset_condition_concat_df_1.shape)"
   ]
  },
  {
   "cell_type": "code",
   "execution_count": 66,
   "metadata": {
    "hidden": true
   },
   "outputs": [],
   "source": [
    "icd9phe = icd9phe.rename(columns = {'ICD':'ICDcode'})\n",
    "phe_icd9_df_1 = dataset_condition_concat_icd9_df_1.merge(icd9phe, how = 'left',on='ICDcode')"
   ]
  },
  {
   "cell_type": "code",
   "execution_count": 69,
   "metadata": {
    "hidden": true
   },
   "outputs": [],
   "source": [
    "icd10phe = icd10phe.rename(columns = {'ICD':'ICDcode'})\n",
    "phe_icd10_df_1 = dataset_condition_concat_icd9_df_1.merge(icd10phe, how = 'left',on='ICDcode')"
   ]
  },
  {
   "cell_type": "code",
   "execution_count": 71,
   "metadata": {
    "hidden": true
   },
   "outputs": [],
   "source": [
    "phe_condition_df_1 = pd.concat([phe_icd9_df_1,phe_icd10_df_1])"
   ]
  },
  {
   "cell_type": "code",
   "execution_count": 72,
   "metadata": {
    "hidden": true
   },
   "outputs": [],
   "source": [
    "non_mapping_code_1 = phe_condition_df_1[phe_condition_df_1['Phecode'].isna()]\n",
    "non_mapping_code_1 = non_mapping_code_1[['ICDcode','ICDsource']].drop_duplicates()"
   ]
  },
  {
   "cell_type": "code",
   "execution_count": 73,
   "metadata": {
    "hidden": true
   },
   "outputs": [
    {
     "data": {
      "text/plain": [
       "ICDsource\n",
       "ICD10CM            1083\n",
       "ICD9CM              370\n",
       "ICD10CM_Mapping     274\n",
       "Name: count, dtype: int64"
      ]
     },
     "execution_count": 73,
     "metadata": {},
     "output_type": "execute_result"
    }
   ],
   "source": [
    "non_mapping_code['ICDsource'].value_counts()"
   ]
  },
  {
   "cell_type": "markdown",
   "metadata": {
    "hidden": true
   },
   "source": [
    "#### Remove NA Phecode mapping "
   ]
  },
  {
   "cell_type": "code",
   "execution_count": 74,
   "metadata": {
    "hidden": true
   },
   "outputs": [],
   "source": [
    "# remove NA\n",
    "phe_condition_drop_df_1 = phe_condition_df_1.dropna(subset=['Phecode'])\n",
    "phe_condition_drop_df_1 = phe_condition_drop_df_1.drop_duplicates()"
   ]
  },
  {
   "cell_type": "code",
   "execution_count": 75,
   "metadata": {
    "hidden": true
   },
   "outputs": [
    {
     "data": {
      "text/plain": [
       "(24085331, 11)"
      ]
     },
     "execution_count": 75,
     "metadata": {},
     "output_type": "execute_result"
    }
   ],
   "source": [
    "phe_condition_drop_df_1.shape #(24085331, 11)"
   ]
  },
  {
   "cell_type": "code",
   "execution_count": 76,
   "metadata": {
    "hidden": true,
    "scrolled": true
   },
   "outputs": [
    {
     "data": {
      "text/plain": [
       "1829"
      ]
     },
     "execution_count": 76,
     "metadata": {},
     "output_type": "execute_result"
    }
   ],
   "source": [
    "all_phecode_1= set(phe_condition_drop_df_1['Phecode'])\n",
    "len(all_phecode_1)#1847 phecode => 1829"
   ]
  },
  {
   "cell_type": "code",
   "execution_count": 4,
   "metadata": {},
   "outputs": [],
   "source": [
    "\n",
    "match_pid = pd.read_csv('result_v2/matched_person_ids.csv')"
   ]
  },
  {
   "cell_type": "code",
   "execution_count": 7,
   "metadata": {},
   "outputs": [
    {
     "data": {
      "text/html": [
       "<div>\n",
       "<style scoped>\n",
       "    .dataframe tbody tr th:only-of-type {\n",
       "        vertical-align: middle;\n",
       "    }\n",
       "\n",
       "    .dataframe tbody tr th {\n",
       "        vertical-align: top;\n",
       "    }\n",
       "\n",
       "    .dataframe thead th {\n",
       "        text-align: right;\n",
       "    }\n",
       "</style>\n",
       "<table border=\"1\" class=\"dataframe\">\n",
       "  <thead>\n",
       "    <tr style=\"text-align: right;\">\n",
       "      <th></th>\n",
       "      <th>x</th>\n",
       "    </tr>\n",
       "  </thead>\n",
       "  <tbody>\n",
       "    <tr>\n",
       "      <th>0</th>\n",
       "      <td>2395521</td>\n",
       "    </tr>\n",
       "    <tr>\n",
       "      <th>1</th>\n",
       "      <td>2563639</td>\n",
       "    </tr>\n",
       "    <tr>\n",
       "      <th>2</th>\n",
       "      <td>1734015</td>\n",
       "    </tr>\n",
       "    <tr>\n",
       "      <th>3</th>\n",
       "      <td>2010154</td>\n",
       "    </tr>\n",
       "    <tr>\n",
       "      <th>4</th>\n",
       "      <td>1067462</td>\n",
       "    </tr>\n",
       "    <tr>\n",
       "      <th>...</th>\n",
       "      <td>...</td>\n",
       "    </tr>\n",
       "    <tr>\n",
       "      <th>24096</th>\n",
       "      <td>1325844</td>\n",
       "    </tr>\n",
       "    <tr>\n",
       "      <th>24097</th>\n",
       "      <td>1449547</td>\n",
       "    </tr>\n",
       "    <tr>\n",
       "      <th>24098</th>\n",
       "      <td>1255958</td>\n",
       "    </tr>\n",
       "    <tr>\n",
       "      <th>24099</th>\n",
       "      <td>3078108</td>\n",
       "    </tr>\n",
       "    <tr>\n",
       "      <th>24100</th>\n",
       "      <td>2332519</td>\n",
       "    </tr>\n",
       "  </tbody>\n",
       "</table>\n",
       "<p>24101 rows × 1 columns</p>\n",
       "</div>"
      ],
      "text/plain": [
       "             x\n",
       "0      2395521\n",
       "1      2563639\n",
       "2      1734015\n",
       "3      2010154\n",
       "4      1067462\n",
       "...        ...\n",
       "24096  1325844\n",
       "24097  1449547\n",
       "24098  1255958\n",
       "24099  3078108\n",
       "24100  2332519\n",
       "\n",
       "[24101 rows x 1 columns]"
      ]
     },
     "execution_count": 7,
     "metadata": {},
     "output_type": "execute_result"
    }
   ],
   "source": [
    "match_pid"
   ]
  },
  {
   "cell_type": "code",
   "execution_count": 3,
   "metadata": {},
   "outputs": [],
   "source": [
    "hs_pid = pd.read_csv('result_v2/HS_pid_v2.csv')"
   ]
  },
  {
   "cell_type": "code",
   "execution_count": 12,
   "metadata": {},
   "outputs": [
    {
     "data": {
      "text/html": [
       "<div>\n",
       "<style scoped>\n",
       "    .dataframe tbody tr th:only-of-type {\n",
       "        vertical-align: middle;\n",
       "    }\n",
       "\n",
       "    .dataframe tbody tr th {\n",
       "        vertical-align: top;\n",
       "    }\n",
       "\n",
       "    .dataframe thead th {\n",
       "        text-align: right;\n",
       "    }\n",
       "</style>\n",
       "<table border=\"1\" class=\"dataframe\">\n",
       "  <thead>\n",
       "    <tr style=\"text-align: right;\">\n",
       "      <th></th>\n",
       "      <th>Unnamed: 0</th>\n",
       "      <th>person_id</th>\n",
       "    </tr>\n",
       "  </thead>\n",
       "  <tbody>\n",
       "    <tr>\n",
       "      <th>0</th>\n",
       "      <td>0</td>\n",
       "      <td>1184743</td>\n",
       "    </tr>\n",
       "    <tr>\n",
       "      <th>1</th>\n",
       "      <td>1</td>\n",
       "      <td>1630386</td>\n",
       "    </tr>\n",
       "    <tr>\n",
       "      <th>2</th>\n",
       "      <td>2</td>\n",
       "      <td>1749834</td>\n",
       "    </tr>\n",
       "    <tr>\n",
       "      <th>3</th>\n",
       "      <td>3</td>\n",
       "      <td>1483576</td>\n",
       "    </tr>\n",
       "    <tr>\n",
       "      <th>4</th>\n",
       "      <td>4</td>\n",
       "      <td>3122578</td>\n",
       "    </tr>\n",
       "    <tr>\n",
       "      <th>...</th>\n",
       "      <td>...</td>\n",
       "      <td>...</td>\n",
       "    </tr>\n",
       "    <tr>\n",
       "      <th>2252</th>\n",
       "      <td>2252</td>\n",
       "      <td>1275562</td>\n",
       "    </tr>\n",
       "    <tr>\n",
       "      <th>2253</th>\n",
       "      <td>2253</td>\n",
       "      <td>1792421</td>\n",
       "    </tr>\n",
       "    <tr>\n",
       "      <th>2254</th>\n",
       "      <td>2254</td>\n",
       "      <td>2375465</td>\n",
       "    </tr>\n",
       "    <tr>\n",
       "      <th>2255</th>\n",
       "      <td>2255</td>\n",
       "      <td>1993406</td>\n",
       "    </tr>\n",
       "    <tr>\n",
       "      <th>2256</th>\n",
       "      <td>2256</td>\n",
       "      <td>3484630</td>\n",
       "    </tr>\n",
       "  </tbody>\n",
       "</table>\n",
       "<p>2257 rows × 2 columns</p>\n",
       "</div>"
      ],
      "text/plain": [
       "      Unnamed: 0  person_id\n",
       "0              0    1184743\n",
       "1              1    1630386\n",
       "2              2    1749834\n",
       "3              3    1483576\n",
       "4              4    3122578\n",
       "...          ...        ...\n",
       "2252        2252    1275562\n",
       "2253        2253    1792421\n",
       "2254        2254    2375465\n",
       "2255        2255    1993406\n",
       "2256        2256    3484630\n",
       "\n",
       "[2257 rows x 2 columns]"
      ]
     },
     "execution_count": 12,
     "metadata": {},
     "output_type": "execute_result"
    }
   ],
   "source": [
    "hs_pid"
   ]
  },
  {
   "cell_type": "code",
   "execution_count": 8,
   "metadata": {},
   "outputs": [],
   "source": [
    "all_pid = pd.concat([hs_pid,control_pid_final_old])"
   ]
  },
  {
   "cell_type": "code",
   "execution_count": 10,
   "metadata": {},
   "outputs": [],
   "source": [
    "all_pid = all_pid['person_id']\n",
    "check = match_pid[~match_pid['x'].isin(all_pid)]\n"
   ]
  }
 ],
 "metadata": {
  "kernelspec": {
   "display_name": "Python 3 (ipykernel)",
   "language": "python",
   "name": "python3"
  },
  "language_info": {
   "codemirror_mode": {
    "name": "ipython",
    "version": 3
   },
   "file_extension": ".py",
   "mimetype": "text/x-python",
   "name": "python",
   "nbconvert_exporter": "python",
   "pygments_lexer": "ipython3",
   "version": "3.12.4"
  },
  "toc": {
   "base_numbering": 1,
   "nav_menu": {},
   "number_sections": true,
   "sideBar": true,
   "skip_h1_title": false,
   "title_cell": "Table of Contents",
   "title_sidebar": "Contents",
   "toc_cell": false,
   "toc_position": {},
   "toc_section_display": true,
   "toc_window_display": false
  }
 },
 "nbformat": 4,
 "nbformat_minor": 4
}
