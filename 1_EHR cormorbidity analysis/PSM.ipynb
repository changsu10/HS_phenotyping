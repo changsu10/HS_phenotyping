{
 "cells": [
  {
   "cell_type": "markdown",
   "id": "9056908f",
   "metadata": {},
   "source": [
    "### Library"
   ]
  },
  {
   "cell_type": "code",
   "execution_count": 3,
   "id": "bec46175",
   "metadata": {},
   "outputs": [],
   "source": [
    "#install.packages(\"MatchIt\")"
   ]
  },
  {
   "cell_type": "code",
   "execution_count": 4,
   "id": "8a28142a",
   "metadata": {
    "scrolled": true
   },
   "outputs": [],
   "source": [
    "library(tidyverse)\n",
    "library(bigrquery)\n",
    "library(MatchIt)\n",
    "library(lubridate)\n",
    "library(dplyr)\n",
    "library(data.table)"
   ]
  },
  {
   "cell_type": "code",
   "execution_count": 5,
   "id": "12751740",
   "metadata": {},
   "outputs": [],
   "source": [
    "#dataset_person_df=read.csv('results/case_control_person_df.csv')"
   ]
  },
  {
   "cell_type": "code",
   "execution_count": 6,
   "id": "9337107d",
   "metadata": {},
   "outputs": [],
   "source": [
    "##nrow(dataset_person_df)"
   ]
  },
  {
   "cell_type": "markdown",
   "id": "35c15bac",
   "metadata": {},
   "source": [
    "### Prepare data"
   ]
  },
  {
   "cell_type": "code",
   "execution_count": 7,
   "id": "952b6739",
   "metadata": {},
   "outputs": [],
   "source": [
    "dataset_person_df_v2=read.csv('cohort_18_to_90_df.csv')"
   ]
  },
  {
   "cell_type": "code",
   "execution_count": 8,
   "id": "2992f7bc",
   "metadata": {},
   "outputs": [
    {
     "data": {
      "text/html": [
       "<style>\n",
       ".list-inline {list-style: none; margin:0; padding: 0}\n",
       ".list-inline>li {display: inline-block}\n",
       ".list-inline>li:not(:last-child)::after {content: \"\\00b7\"; padding: 0 .5ex}\n",
       "</style>\n",
       "<ol class=list-inline><li>'person_id'</li><li>'standard_concept_code'</li><li>'source_concept_code'</li><li>'source_vocabulary'</li><li>'condition_start_datetime'</li><li>'ICDcode'</li><li>'ICDsource'</li><li>'Phecode'</li><li>'Phenotype'</li><li>'category'</li><li>'first_EHR'</li><li>'last_EHR'</li><li>'length_first_to_last'</li><li>'gender'</li><li>'date_of_birth'</li><li>'race'</li><li>'ethnicity'</li><li>'sex_at_birth'</li><li>'birth_year'</li><li>'age_2024'</li><li>'HS'</li><li>'age_last_EHR'</li></ol>\n"
      ],
      "text/latex": [
       "\\begin{enumerate*}\n",
       "\\item 'person\\_id'\n",
       "\\item 'standard\\_concept\\_code'\n",
       "\\item 'source\\_concept\\_code'\n",
       "\\item 'source\\_vocabulary'\n",
       "\\item 'condition\\_start\\_datetime'\n",
       "\\item 'ICDcode'\n",
       "\\item 'ICDsource'\n",
       "\\item 'Phecode'\n",
       "\\item 'Phenotype'\n",
       "\\item 'category'\n",
       "\\item 'first\\_EHR'\n",
       "\\item 'last\\_EHR'\n",
       "\\item 'length\\_first\\_to\\_last'\n",
       "\\item 'gender'\n",
       "\\item 'date\\_of\\_birth'\n",
       "\\item 'race'\n",
       "\\item 'ethnicity'\n",
       "\\item 'sex\\_at\\_birth'\n",
       "\\item 'birth\\_year'\n",
       "\\item 'age\\_2024'\n",
       "\\item 'HS'\n",
       "\\item 'age\\_last\\_EHR'\n",
       "\\end{enumerate*}\n"
      ],
      "text/markdown": [
       "1. 'person_id'\n",
       "2. 'standard_concept_code'\n",
       "3. 'source_concept_code'\n",
       "4. 'source_vocabulary'\n",
       "5. 'condition_start_datetime'\n",
       "6. 'ICDcode'\n",
       "7. 'ICDsource'\n",
       "8. 'Phecode'\n",
       "9. 'Phenotype'\n",
       "10. 'category'\n",
       "11. 'first_EHR'\n",
       "12. 'last_EHR'\n",
       "13. 'length_first_to_last'\n",
       "14. 'gender'\n",
       "15. 'date_of_birth'\n",
       "16. 'race'\n",
       "17. 'ethnicity'\n",
       "18. 'sex_at_birth'\n",
       "19. 'birth_year'\n",
       "20. 'age_2024'\n",
       "21. 'HS'\n",
       "22. 'age_last_EHR'\n",
       "\n",
       "\n"
      ],
      "text/plain": [
       " [1] \"person_id\"                \"standard_concept_code\"   \n",
       " [3] \"source_concept_code\"      \"source_vocabulary\"       \n",
       " [5] \"condition_start_datetime\" \"ICDcode\"                 \n",
       " [7] \"ICDsource\"                \"Phecode\"                 \n",
       " [9] \"Phenotype\"                \"category\"                \n",
       "[11] \"first_EHR\"                \"last_EHR\"                \n",
       "[13] \"length_first_to_last\"     \"gender\"                  \n",
       "[15] \"date_of_birth\"            \"race\"                    \n",
       "[17] \"ethnicity\"                \"sex_at_birth\"            \n",
       "[19] \"birth_year\"               \"age_2024\"                \n",
       "[21] \"HS\"                       \"age_last_EHR\"            "
      ]
     },
     "metadata": {},
     "output_type": "display_data"
    }
   ],
   "source": [
    "colnames(dataset_person_df_v2)"
   ]
  },
  {
   "cell_type": "code",
   "execution_count": 9,
   "id": "953fd8d7",
   "metadata": {},
   "outputs": [],
   "source": [
    "df_sub <- dataset_person_df_v2 %>% select('person_id','race','ethnicity','sex_at_birth','HS','age_last_EHR')"
   ]
  },
  {
   "cell_type": "code",
   "execution_count": 9,
   "id": "ba319d34",
   "metadata": {},
   "outputs": [],
   "source": [
    "# logit <- lapply(phecodes, function(phecode) {\n",
    "#   formula_str <- paste(\"HS ~ `\", phecode, \"`+ \n",
    "# Asian + Black.or.African.American + More.than.one.population + \n",
    "# No.answer.race + Other.race + White +\n",
    "# Female + Male + Other.sex + Hispanic.or.Latino + No.answer.ethinicity +\n",
    "# Not.Hispanic.or.Latino + Other.ethinicity + age_normalized\", sep=\"\")\n",
    "#   model <- glm(formula=as.formula(formula_str), data = matrix, family = binomial, \n",
    "#                weights = matrix$weight) #\n",
    "#   summary(model)\n",
    "# })\n",
    "# #"
   ]
  },
  {
   "cell_type": "code",
   "execution_count": 10,
   "id": "c9b67252",
   "metadata": {},
   "outputs": [],
   "source": [
    "df_sub <- df_sub %>% distinct()"
   ]
  },
  {
   "cell_type": "code",
   "execution_count": 11,
   "id": "b673a465",
   "metadata": {},
   "outputs": [],
   "source": [
    "df_sub <- df_sub %>%\n",
    "  mutate(age_normalized = scale(age_last_EHR))"
   ]
  },
  {
   "cell_type": "code",
   "execution_count": 12,
   "id": "e9118a78",
   "metadata": {},
   "outputs": [
    {
     "data": {
      "text/html": [
       "<table class=\"dataframe\">\n",
       "<caption>A data.frame: 6 × 7</caption>\n",
       "<thead>\n",
       "\t<tr><th></th><th scope=col>person_id</th><th scope=col>race</th><th scope=col>ethnicity</th><th scope=col>sex_at_birth</th><th scope=col>HS</th><th scope=col>age_last_EHR</th><th scope=col>age_normalized</th></tr>\n",
       "\t<tr><th></th><th scope=col>&lt;int&gt;</th><th scope=col>&lt;chr&gt;</th><th scope=col>&lt;chr&gt;</th><th scope=col>&lt;chr&gt;</th><th scope=col>&lt;int&gt;</th><th scope=col>&lt;dbl&gt;</th><th scope=col>&lt;dbl[,1]&gt;</th></tr>\n",
       "</thead>\n",
       "<tbody>\n",
       "\t<tr><th scope=row>1</th><td>7189522</td><td>White</td><td>Not Hispanic or Latino</td><td>Female</td><td>0</td><td>66.06849</td><td> 0.64232336</td></tr>\n",
       "\t<tr><th scope=row>2</th><td>9306478</td><td>White</td><td>Not Hispanic or Latino</td><td>Female</td><td>0</td><td>64.50137</td><td> 0.54854219</td></tr>\n",
       "\t<tr><th scope=row>3</th><td>9557736</td><td>White</td><td>Not Hispanic or Latino</td><td>Male  </td><td>0</td><td>55.07945</td><td>-0.01529251</td></tr>\n",
       "\t<tr><th scope=row>4</th><td>1840872</td><td>White</td><td>Not Hispanic or Latino</td><td>Male  </td><td>0</td><td>60.06575</td><td> 0.28310213</td></tr>\n",
       "\t<tr><th scope=row>5</th><td>3486599</td><td>White</td><td>Not Hispanic or Latino</td><td>Male  </td><td>0</td><td>86.10137</td><td> 1.84114842</td></tr>\n",
       "\t<tr><th scope=row>6</th><td>3161593</td><td>White</td><td>Not Hispanic or Latino</td><td>Female</td><td>0</td><td>57.76438</td><td> 0.14538152</td></tr>\n",
       "</tbody>\n",
       "</table>\n"
      ],
      "text/latex": [
       "A data.frame: 6 × 7\n",
       "\\begin{tabular}{r|lllllll}\n",
       "  & person\\_id & race & ethnicity & sex\\_at\\_birth & HS & age\\_last\\_EHR & age\\_normalized\\\\\n",
       "  & <int> & <chr> & <chr> & <chr> & <int> & <dbl> & <dbl{[},1{]}>\\\\\n",
       "\\hline\n",
       "\t1 & 7189522 & White & Not Hispanic or Latino & Female & 0 & 66.06849 &  0.64232336\\\\\n",
       "\t2 & 9306478 & White & Not Hispanic or Latino & Female & 0 & 64.50137 &  0.54854219\\\\\n",
       "\t3 & 9557736 & White & Not Hispanic or Latino & Male   & 0 & 55.07945 & -0.01529251\\\\\n",
       "\t4 & 1840872 & White & Not Hispanic or Latino & Male   & 0 & 60.06575 &  0.28310213\\\\\n",
       "\t5 & 3486599 & White & Not Hispanic or Latino & Male   & 0 & 86.10137 &  1.84114842\\\\\n",
       "\t6 & 3161593 & White & Not Hispanic or Latino & Female & 0 & 57.76438 &  0.14538152\\\\\n",
       "\\end{tabular}\n"
      ],
      "text/markdown": [
       "\n",
       "A data.frame: 6 × 7\n",
       "\n",
       "| <!--/--> | person_id &lt;int&gt; | race &lt;chr&gt; | ethnicity &lt;chr&gt; | sex_at_birth &lt;chr&gt; | HS &lt;int&gt; | age_last_EHR &lt;dbl&gt; | age_normalized &lt;dbl[,1]&gt; |\n",
       "|---|---|---|---|---|---|---|---|\n",
       "| 1 | 7189522 | White | Not Hispanic or Latino | Female | 0 | 66.06849 |  0.64232336 |\n",
       "| 2 | 9306478 | White | Not Hispanic or Latino | Female | 0 | 64.50137 |  0.54854219 |\n",
       "| 3 | 9557736 | White | Not Hispanic or Latino | Male   | 0 | 55.07945 | -0.01529251 |\n",
       "| 4 | 1840872 | White | Not Hispanic or Latino | Male   | 0 | 60.06575 |  0.28310213 |\n",
       "| 5 | 3486599 | White | Not Hispanic or Latino | Male   | 0 | 86.10137 |  1.84114842 |\n",
       "| 6 | 3161593 | White | Not Hispanic or Latino | Female | 0 | 57.76438 |  0.14538152 |\n",
       "\n"
      ],
      "text/plain": [
       "  person_id race  ethnicity              sex_at_birth HS age_last_EHR\n",
       "1 7189522   White Not Hispanic or Latino Female       0  66.06849    \n",
       "2 9306478   White Not Hispanic or Latino Female       0  64.50137    \n",
       "3 9557736   White Not Hispanic or Latino Male         0  55.07945    \n",
       "4 1840872   White Not Hispanic or Latino Male         0  60.06575    \n",
       "5 3486599   White Not Hispanic or Latino Male         0  86.10137    \n",
       "6 3161593   White Not Hispanic or Latino Female       0  57.76438    \n",
       "  age_normalized\n",
       "1  0.64232336   \n",
       "2  0.54854219   \n",
       "3 -0.01529251   \n",
       "4  0.28310213   \n",
       "5  1.84114842   \n",
       "6  0.14538152   "
      ]
     },
     "metadata": {},
     "output_type": "display_data"
    }
   ],
   "source": [
    "head(df_sub)"
   ]
  },
  {
   "cell_type": "code",
   "execution_count": 13,
   "id": "e217e91a",
   "metadata": {},
   "outputs": [
    {
     "data": {
      "text/html": [
       "216942"
      ],
      "text/latex": [
       "216942"
      ],
      "text/markdown": [
       "216942"
      ],
      "text/plain": [
       "[1] 216942"
      ]
     },
     "metadata": {},
     "output_type": "display_data"
    }
   ],
   "source": [
    "nrow(df_sub) # 216942"
   ]
  },
  {
   "cell_type": "code",
   "execution_count": 13,
   "id": "b3f7c76f",
   "metadata": {},
   "outputs": [],
   "source": [
    "# hs_id=read.csv('result_v2/HS_id.csv',header=FALSE)\n",
    "# hs_id=hs_id$V1\n",
    "# all_control_id=read.csv('result_v2/controlAll_id.csv',header=FALSE)\n",
    "# all_control_id=all_control_id$V1\n",
    "#dataset_person_df=read.csv('result_v2/case_control_person_df.csv')\n",
    "#dataset_person_df=read.csv('result_v2/cohort_18_to_90_df.csv')"
   ]
  },
  {
   "cell_type": "code",
   "execution_count": 14,
   "id": "e8c873b3",
   "metadata": {},
   "outputs": [],
   "source": [
    "# dataset_person_df <- dataset_person_df %>%\n",
    "#   mutate(sex = case_when(\n",
    "#     sex_at_birth %in% c(\"Male\", \"Female\") ~ sex_at_birth,\n",
    "#     TRUE ~ \"Other Sex\"\n",
    "#   ))\n",
    "\n",
    "# dataset_person_df <- dataset_person_df %>%\n",
    "#   mutate(race = case_when(\n",
    "#     race %in% c('Black or African American','White','Asian') ~ race,\n",
    "#     TRUE ~ \"others\"\n",
    "#   ))\n",
    "\n",
    "# dataset_person_df <- dataset_person_df %>%\n",
    "#   mutate(year_of_birth = year(ymd_hms(date_of_birth)))\n",
    "\n",
    "# # standardize categories\n",
    "# dataset_person_df <- dataset_person_df %>%\n",
    "#   mutate(gender = case_when(\n",
    "#     gender %in% c(\"Male\", \"Female\") ~ gender,\n",
    "#     TRUE ~ \"others\"\n",
    "#   ))\n",
    "\n",
    "\n",
    "# dataset_person_df <- dataset_person_df %>%\n",
    "#   mutate(ethnicity = case_when(\n",
    "#     ethnicity %in% c('Hispanic or Latino') ~ ethnicity,\n",
    "#     TRUE ~ \"others\"\n",
    "#   ))"
   ]
  },
  {
   "cell_type": "code",
   "execution_count": 18,
   "id": "86dfb59b",
   "metadata": {},
   "outputs": [],
   "source": [
    "df_sub <- df_sub %>%\n",
    "  mutate(sex = case_when(\n",
    "    sex_at_birth %in% c(\"Male\", \"Female\") ~ sex_at_birth,\n",
    "    TRUE ~ \"Other Sex\"\n",
    "  )) %>%\n",
    "  mutate(race = case_when(\n",
    "    race %in% c('White') ~ 'White',\n",
    "    race %in% c('Black or African American') ~ 'Black or African American',\n",
    "    race %in% c('Asian') ~ 'Asian',\n",
    "    race %in% c('More than one population') ~ 'More than one population',\n",
    "    race %in% c('None of these', 'Middle Eastern or North African', 'Native Hawaiian or Other Pacific Islander ') ~ 'Other race',\n",
    "    race %in% c('None Indicated', 'PMI: Skip', 'I prefer not to answer') ~ 'No answer race',\n",
    "    TRUE ~ 'Other race'\n",
    "  )) %>%\n",
    "  mutate(ethnicity = case_when(\n",
    "    ethnicity %in% c('Hispanic or Latino') ~ 'Hispanic or Latino',\n",
    "    ethnicity %in% c('Not Hispanic or Latino') ~ 'Not Hispanic or Latino',\n",
    "    ethnicity %in% c('What Race Ethnicity: Race Ethnicity None Of These', 'No matching concept') ~ 'Other ethnicity',\n",
    "    ethnicity %in% c('PMI: Prefer Not To Answer', 'PMI: Skip') ~ 'No answer ethnicity',\n",
    "    TRUE ~ 'Others ethnicity'\n",
    "  ))"
   ]
  },
  {
   "cell_type": "code",
   "execution_count": 19,
   "id": "67cdd2da",
   "metadata": {},
   "outputs": [],
   "source": [
    "#dataset_person_df$'is_HS'=as.numeric(c(dataset_person_df$'person_id' %in% hs_id))# create target value (is_HS)"
   ]
  },
  {
   "cell_type": "code",
   "execution_count": 20,
   "id": "43e00f96",
   "metadata": {},
   "outputs": [
    {
     "data": {
      "text/plain": [
       "\n",
       "                    Asian Black or African American  More than one population \n",
       "                     5247                     40329                      3591 \n",
       "           No answer race                Other race                     White \n",
       "                    40429                      3639                    123707 "
      ]
     },
     "metadata": {},
     "output_type": "display_data"
    }
   ],
   "source": [
    "table(df_sub$race)"
   ]
  },
  {
   "cell_type": "code",
   "execution_count": 21,
   "id": "785902d3",
   "metadata": {
    "code_folding": []
   },
   "outputs": [],
   "source": [
    "# df_sub <- df_sub %>%\n",
    "#   mutate(sex = case_when(\n",
    "#     sex_at_birth %in% c(\"Male\", \"Female\") ~ sex_at_birth,\n",
    "#     TRUE ~ \"Others\"\n",
    "#   ))\n",
    "\n",
    "# df_sub <- df_sub %>%\n",
    "#   mutate(race = case_when(\n",
    "#     race %in% c('I prefer not to answer','None Indicated','PMI: Skip') ~ \"No answer\",\n",
    "#     race %in% c('Middle Eastern or North African','Native Hawaiian or Other Pacific Islander','None of these') ~ \"Others\",\n",
    "#     TRUE ~ race\n",
    "#   ))\n",
    "# df_sub <- df_sub %>%\n",
    "#   mutate(ethnicity = case_when(\n",
    "#     ethnicity %in% c('No matching concept','What Race Ethnicity: Race Ethnicity None Of These') ~ 'Others',\n",
    "#     ethnicity %in% c('PMI: Prefer Not To Answer','PMI: Skip') ~ 'No answer',\n",
    "#     TRUE ~ ethnicity\n",
    "#   ))\n",
    "\n",
    "# # dataset_person_df <- dataset_person_df %>%\n",
    "# #  mutate(year_of_birth = year(ymd_hms(date_of_birth)))\n",
    "\n",
    "# # #dataset_person_df$age_2024 <- 2024 - matrix_filtered$year_of_birth"
   ]
  },
  {
   "cell_type": "code",
   "execution_count": 22,
   "id": "32170a2b",
   "metadata": {},
   "outputs": [
    {
     "data": {
      "text/plain": [
       "\n",
       "   Female      Male Other Sex \n",
       "   135757     78852      2333 "
      ]
     },
     "metadata": {},
     "output_type": "display_data"
    }
   ],
   "source": [
    "table(df_sub$sex)"
   ]
  },
  {
   "cell_type": "code",
   "execution_count": 23,
   "id": "d3e49536",
   "metadata": {},
   "outputs": [
    {
     "data": {
      "text/plain": [
       "\n",
       "                    Asian Black or African American  More than one population \n",
       "                     5247                     40329                      3591 \n",
       "           No answer race                Other race                     White \n",
       "                    40429                      3639                    123707 "
      ]
     },
     "metadata": {},
     "output_type": "display_data"
    }
   ],
   "source": [
    "table(df_sub$race)"
   ]
  },
  {
   "cell_type": "code",
   "execution_count": 24,
   "id": "d3db4da3",
   "metadata": {},
   "outputs": [
    {
     "data": {
      "text/plain": [
       "\n",
       "    Hispanic or Latino    No answer ethnicity Not Hispanic or Latino \n",
       "                 39120                   5849                 169766 \n",
       "       Other ethnicity \n",
       "                  2207 "
      ]
     },
     "metadata": {},
     "output_type": "display_data"
    }
   ],
   "source": [
    "table(df_sub$ethnicity)"
   ]
  },
  {
   "cell_type": "code",
   "execution_count": 25,
   "id": "0542f76b",
   "metadata": {},
   "outputs": [
    {
     "data": {
      "text/html": [
       "<style>\n",
       ".list-inline {list-style: none; margin:0; padding: 0}\n",
       ".list-inline>li {display: inline-block}\n",
       ".list-inline>li:not(:last-child)::after {content: \"\\00b7\"; padding: 0 .5ex}\n",
       "</style>\n",
       "<ol class=list-inline><li>'person_id'</li><li>'race'</li><li>'ethnicity'</li><li>'sex_at_birth'</li><li>'HS'</li><li>'age_last_EHR'</li><li>'age_normalized'</li><li>'sex'</li></ol>\n"
      ],
      "text/latex": [
       "\\begin{enumerate*}\n",
       "\\item 'person\\_id'\n",
       "\\item 'race'\n",
       "\\item 'ethnicity'\n",
       "\\item 'sex\\_at\\_birth'\n",
       "\\item 'HS'\n",
       "\\item 'age\\_last\\_EHR'\n",
       "\\item 'age\\_normalized'\n",
       "\\item 'sex'\n",
       "\\end{enumerate*}\n"
      ],
      "text/markdown": [
       "1. 'person_id'\n",
       "2. 'race'\n",
       "3. 'ethnicity'\n",
       "4. 'sex_at_birth'\n",
       "5. 'HS'\n",
       "6. 'age_last_EHR'\n",
       "7. 'age_normalized'\n",
       "8. 'sex'\n",
       "\n",
       "\n"
      ],
      "text/plain": [
       "[1] \"person_id\"      \"race\"           \"ethnicity\"      \"sex_at_birth\"  \n",
       "[5] \"HS\"             \"age_last_EHR\"   \"age_normalized\" \"sex\"           "
      ]
     },
     "metadata": {},
     "output_type": "display_data"
    }
   ],
   "source": [
    "colnames(df_sub)"
   ]
  },
  {
   "cell_type": "code",
   "execution_count": 26,
   "id": "5fe44562",
   "metadata": {},
   "outputs": [],
   "source": [
    "#install.packages(\"fastDummies\")  # if not installed\n",
    "library(fastDummies)"
   ]
  },
  {
   "cell_type": "code",
   "execution_count": 27,
   "id": "e095746a",
   "metadata": {},
   "outputs": [],
   "source": [
    "df_sub_1 <- fastDummies::dummy_cols(df_sub, \n",
    "                                   select_columns = c(\"sex\", \"race\", \"ethnicity\"), \n",
    "                                   remove_first_dummy = FALSE, \n",
    "                                   remove_selected_columns = TRUE)\n"
   ]
  },
  {
   "cell_type": "code",
   "execution_count": 28,
   "id": "6a22c4b3",
   "metadata": {},
   "outputs": [],
   "source": [
    "# df_sub_1 <- fastDummies::dummy_cols(df_sub, \n",
    "#                                    select_columns = c(\"sex\", \"race\", \"ethnicity\"), \n",
    "#                                    remove_first_dummy = FALSE, \n",
    "#                                    remove_selected_columns = TRUE)\n"
   ]
  },
  {
   "cell_type": "code",
   "execution_count": 29,
   "id": "28375c0c",
   "metadata": {},
   "outputs": [
    {
     "data": {
      "text/html": [
       "<table class=\"dataframe\">\n",
       "<caption>A data.frame: 216942 × 18</caption>\n",
       "<thead>\n",
       "\t<tr><th scope=col>person_id</th><th scope=col>sex_at_birth</th><th scope=col>HS</th><th scope=col>age_last_EHR</th><th scope=col>age_normalized</th><th scope=col>sex_Female</th><th scope=col>sex_Male</th><th scope=col>sex_Other.Sex</th><th scope=col>race_Asian</th><th scope=col>race_Black.or.African.American</th><th scope=col>race_More.than.one.population</th><th scope=col>race_No.answer.race</th><th scope=col>race_Other.race</th><th scope=col>race_White</th><th scope=col>ethnicity_Hispanic.or.Latino</th><th scope=col>ethnicity_No.answer.ethnicity</th><th scope=col>ethnicity_Not.Hispanic.or.Latino</th><th scope=col>ethnicity_Other.ethnicity</th></tr>\n",
       "\t<tr><th scope=col>&lt;int&gt;</th><th scope=col>&lt;chr&gt;</th><th scope=col>&lt;int&gt;</th><th scope=col>&lt;dbl&gt;</th><th scope=col>&lt;dbl&gt;</th><th scope=col>&lt;int&gt;</th><th scope=col>&lt;int&gt;</th><th scope=col>&lt;int&gt;</th><th scope=col>&lt;int&gt;</th><th scope=col>&lt;int&gt;</th><th scope=col>&lt;int&gt;</th><th scope=col>&lt;int&gt;</th><th scope=col>&lt;int&gt;</th><th scope=col>&lt;int&gt;</th><th scope=col>&lt;int&gt;</th><th scope=col>&lt;int&gt;</th><th scope=col>&lt;int&gt;</th><th scope=col>&lt;int&gt;</th></tr>\n",
       "</thead>\n",
       "<tbody>\n",
       "\t<tr><td>7189522</td><td>Female</td><td>0</td><td>66.06849</td><td> 0.64232336</td><td>1</td><td>0</td><td>0</td><td>0</td><td>0</td><td>0</td><td>0</td><td>0</td><td>1</td><td>0</td><td>0</td><td>1</td><td>0</td></tr>\n",
       "\t<tr><td>9306478</td><td>Female</td><td>0</td><td>64.50137</td><td> 0.54854219</td><td>1</td><td>0</td><td>0</td><td>0</td><td>0</td><td>0</td><td>0</td><td>0</td><td>1</td><td>0</td><td>0</td><td>1</td><td>0</td></tr>\n",
       "\t<tr><td>9557736</td><td>Male  </td><td>0</td><td>55.07945</td><td>-0.01529251</td><td>0</td><td>1</td><td>0</td><td>0</td><td>0</td><td>0</td><td>0</td><td>0</td><td>1</td><td>0</td><td>0</td><td>1</td><td>0</td></tr>\n",
       "\t<tr><td>1840872</td><td>Male  </td><td>0</td><td>60.06575</td><td> 0.28310213</td><td>0</td><td>1</td><td>0</td><td>0</td><td>0</td><td>0</td><td>0</td><td>0</td><td>1</td><td>0</td><td>0</td><td>1</td><td>0</td></tr>\n",
       "\t<tr><td>3486599</td><td>Male  </td><td>0</td><td>86.10137</td><td> 1.84114842</td><td>0</td><td>1</td><td>0</td><td>0</td><td>0</td><td>0</td><td>0</td><td>0</td><td>1</td><td>0</td><td>0</td><td>1</td><td>0</td></tr>\n",
       "\t<tr><td>3161593</td><td>Female</td><td>0</td><td>57.76438</td><td> 0.14538152</td><td>1</td><td>0</td><td>0</td><td>0</td><td>0</td><td>0</td><td>0</td><td>0</td><td>1</td><td>0</td><td>0</td><td>1</td><td>0</td></tr>\n",
       "\t<tr><td>1328970</td><td>Male  </td><td>0</td><td>64.96164</td><td> 0.57608631</td><td>0</td><td>1</td><td>0</td><td>0</td><td>1</td><td>0</td><td>0</td><td>0</td><td>0</td><td>0</td><td>0</td><td>1</td><td>0</td></tr>\n",
       "\t<tr><td>4906905</td><td>Male  </td><td>0</td><td>59.98904</td><td> 0.27851144</td><td>0</td><td>1</td><td>0</td><td>0</td><td>0</td><td>0</td><td>0</td><td>0</td><td>1</td><td>0</td><td>0</td><td>1</td><td>0</td></tr>\n",
       "\t<tr><td>1706475</td><td>Female</td><td>0</td><td>66.98630</td><td> 0.69724765</td><td>1</td><td>0</td><td>0</td><td>0</td><td>1</td><td>0</td><td>0</td><td>0</td><td>0</td><td>0</td><td>0</td><td>1</td><td>0</td></tr>\n",
       "\t<tr><td>2395521</td><td>Female</td><td>0</td><td>49.05479</td><td>-0.37582537</td><td>1</td><td>0</td><td>0</td><td>0</td><td>0</td><td>0</td><td>0</td><td>0</td><td>1</td><td>0</td><td>0</td><td>1</td><td>0</td></tr>\n",
       "\t<tr><td>2563639</td><td>Female</td><td>0</td><td>36.98904</td><td>-1.09787482</td><td>1</td><td>0</td><td>0</td><td>0</td><td>1</td><td>0</td><td>0</td><td>0</td><td>0</td><td>0</td><td>0</td><td>1</td><td>0</td></tr>\n",
       "\t<tr><td>1739054</td><td>Male  </td><td>0</td><td>66.01918</td><td> 0.63937221</td><td>0</td><td>1</td><td>0</td><td>0</td><td>0</td><td>0</td><td>0</td><td>0</td><td>1</td><td>0</td><td>0</td><td>1</td><td>0</td></tr>\n",
       "\t<tr><td>1681353</td><td>Male  </td><td>0</td><td>75.03562</td><td> 1.17894185</td><td>0</td><td>1</td><td>0</td><td>0</td><td>0</td><td>1</td><td>0</td><td>0</td><td>0</td><td>0</td><td>0</td><td>1</td><td>0</td></tr>\n",
       "\t<tr><td>1587304</td><td>Male  </td><td>0</td><td>61.07945</td><td> 0.34376477</td><td>0</td><td>1</td><td>0</td><td>0</td><td>0</td><td>0</td><td>0</td><td>0</td><td>1</td><td>0</td><td>0</td><td>1</td><td>0</td></tr>\n",
       "\t<tr><td>2490805</td><td>Female</td><td>0</td><td>82.08767</td><td> 1.60095713</td><td>1</td><td>0</td><td>0</td><td>0</td><td>0</td><td>0</td><td>0</td><td>0</td><td>1</td><td>0</td><td>0</td><td>1</td><td>0</td></tr>\n",
       "\t<tr><td>6150624</td><td>Female</td><td>0</td><td>74.04932</td><td> 1.11991874</td><td>1</td><td>0</td><td>0</td><td>0</td><td>0</td><td>0</td><td>0</td><td>0</td><td>1</td><td>0</td><td>0</td><td>1</td><td>0</td></tr>\n",
       "\t<tr><td>9470352</td><td>Female</td><td>0</td><td>62.07397</td><td> 0.40327975</td><td>1</td><td>0</td><td>0</td><td>0</td><td>0</td><td>0</td><td>0</td><td>0</td><td>1</td><td>0</td><td>0</td><td>1</td><td>0</td></tr>\n",
       "\t<tr><td>1734015</td><td>Male  </td><td>0</td><td>75.09589</td><td> 1.18254882</td><td>0</td><td>1</td><td>0</td><td>0</td><td>0</td><td>0</td><td>0</td><td>0</td><td>1</td><td>0</td><td>0</td><td>1</td><td>0</td></tr>\n",
       "\t<tr><td>2010154</td><td>Female</td><td>0</td><td>54.03562</td><td>-0.07775864</td><td>1</td><td>0</td><td>0</td><td>0</td><td>0</td><td>0</td><td>0</td><td>0</td><td>1</td><td>0</td><td>0</td><td>1</td><td>0</td></tr>\n",
       "\t<tr><td>1045125</td><td>Male  </td><td>0</td><td>72.06575</td><td> 1.00121670</td><td>0</td><td>1</td><td>0</td><td>0</td><td>0</td><td>0</td><td>0</td><td>0</td><td>1</td><td>0</td><td>0</td><td>1</td><td>0</td></tr>\n",
       "\t<tr><td>2554121</td><td>Male  </td><td>0</td><td>85.07671</td><td> 1.77982996</td><td>0</td><td>1</td><td>0</td><td>0</td><td>0</td><td>0</td><td>0</td><td>0</td><td>1</td><td>0</td><td>0</td><td>1</td><td>0</td></tr>\n",
       "\t<tr><td>1565049</td><td>Male  </td><td>0</td><td>24.88493</td><td>-1.82221960</td><td>0</td><td>1</td><td>0</td><td>0</td><td>0</td><td>0</td><td>0</td><td>0</td><td>1</td><td>0</td><td>0</td><td>1</td><td>0</td></tr>\n",
       "\t<tr><td>2736968</td><td>Male  </td><td>0</td><td>82.99452</td><td> 1.65522560</td><td>0</td><td>1</td><td>0</td><td>0</td><td>0</td><td>0</td><td>0</td><td>0</td><td>1</td><td>0</td><td>0</td><td>1</td><td>0</td></tr>\n",
       "\t<tr><td>3009547</td><td>Female</td><td>0</td><td>42.83288</td><td>-0.74816286</td><td>1</td><td>0</td><td>0</td><td>0</td><td>0</td><td>0</td><td>0</td><td>0</td><td>1</td><td>0</td><td>0</td><td>1</td><td>0</td></tr>\n",
       "\t<tr><td>2732301</td><td>Male  </td><td>0</td><td>58.87397</td><td> 0.21178253</td><td>0</td><td>1</td><td>0</td><td>0</td><td>1</td><td>0</td><td>0</td><td>0</td><td>0</td><td>0</td><td>0</td><td>1</td><td>0</td></tr>\n",
       "\t<tr><td>3291095</td><td>Female</td><td>0</td><td>72.66301</td><td> 1.03695847</td><td>1</td><td>0</td><td>0</td><td>0</td><td>0</td><td>0</td><td>0</td><td>0</td><td>1</td><td>0</td><td>0</td><td>1</td><td>0</td></tr>\n",
       "\t<tr><td>1507444</td><td>Female</td><td>0</td><td>64.08219</td><td> 0.52345737</td><td>1</td><td>0</td><td>0</td><td>0</td><td>0</td><td>0</td><td>0</td><td>0</td><td>1</td><td>0</td><td>0</td><td>1</td><td>0</td></tr>\n",
       "\t<tr><td>2848880</td><td>Female</td><td>0</td><td>47.01918</td><td>-0.49764253</td><td>1</td><td>0</td><td>0</td><td>0</td><td>0</td><td>0</td><td>0</td><td>0</td><td>1</td><td>0</td><td>0</td><td>1</td><td>0</td></tr>\n",
       "\t<tr><td>1433739</td><td>Female</td><td>0</td><td>85.07945</td><td> 1.77999391</td><td>1</td><td>0</td><td>0</td><td>0</td><td>0</td><td>0</td><td>0</td><td>0</td><td>1</td><td>0</td><td>0</td><td>1</td><td>0</td></tr>\n",
       "\t<tr><td>1067462</td><td>Female</td><td>0</td><td>65.08767</td><td> 0.58362816</td><td>1</td><td>0</td><td>0</td><td>0</td><td>0</td><td>0</td><td>0</td><td>0</td><td>1</td><td>0</td><td>0</td><td>1</td><td>0</td></tr>\n",
       "\t<tr><td>⋮</td><td>⋮</td><td>⋮</td><td>⋮</td><td>⋮</td><td>⋮</td><td>⋮</td><td>⋮</td><td>⋮</td><td>⋮</td><td>⋮</td><td>⋮</td><td>⋮</td><td>⋮</td><td>⋮</td><td>⋮</td><td>⋮</td><td>⋮</td></tr>\n",
       "\t<tr><td>2487349</td><td>No matching concept</td><td>0</td><td>27.18904</td><td>-1.68433505</td><td>0</td><td>0</td><td>1</td><td>0</td><td>0</td><td>0</td><td>1</td><td>0</td><td>0</td><td>0</td><td>1</td><td>0</td><td>0</td></tr>\n",
       "\t<tr><td>3161818</td><td>Female             </td><td>0</td><td>34.80822</td><td>-1.22838148</td><td>1</td><td>0</td><td>0</td><td>0</td><td>1</td><td>0</td><td>0</td><td>0</td><td>0</td><td>0</td><td>0</td><td>1</td><td>0</td></tr>\n",
       "\t<tr><td>2556799</td><td>Male               </td><td>0</td><td>59.05479</td><td> 0.22260343</td><td>0</td><td>1</td><td>0</td><td>0</td><td>0</td><td>0</td><td>0</td><td>1</td><td>0</td><td>0</td><td>0</td><td>0</td><td>1</td></tr>\n",
       "\t<tr><td>3395228</td><td>Male               </td><td>0</td><td>42.03288</td><td>-0.79603716</td><td>0</td><td>1</td><td>0</td><td>0</td><td>1</td><td>0</td><td>0</td><td>0</td><td>0</td><td>0</td><td>0</td><td>1</td><td>0</td></tr>\n",
       "\t<tr><td>3006001</td><td>Male               </td><td>0</td><td>34.92055</td><td>-1.22165941</td><td>0</td><td>1</td><td>0</td><td>0</td><td>1</td><td>0</td><td>0</td><td>0</td><td>0</td><td>0</td><td>0</td><td>1</td><td>0</td></tr>\n",
       "\t<tr><td>2468419</td><td>Female             </td><td>0</td><td>44.98630</td><td>-0.61929572</td><td>1</td><td>0</td><td>0</td><td>0</td><td>0</td><td>0</td><td>1</td><td>0</td><td>0</td><td>1</td><td>0</td><td>0</td><td>0</td></tr>\n",
       "\t<tr><td>1095964</td><td>Female             </td><td>0</td><td>62.45479</td><td> 0.42606923</td><td>1</td><td>0</td><td>0</td><td>0</td><td>1</td><td>0</td><td>0</td><td>0</td><td>0</td><td>0</td><td>0</td><td>1</td><td>0</td></tr>\n",
       "\t<tr><td>3040624</td><td>Female             </td><td>0</td><td>30.89863</td><td>-1.46234255</td><td>1</td><td>0</td><td>0</td><td>0</td><td>1</td><td>0</td><td>0</td><td>0</td><td>0</td><td>0</td><td>0</td><td>1</td><td>0</td></tr>\n",
       "\t<tr><td>3039760</td><td>Female             </td><td>0</td><td>31.06575</td><td>-1.45234141</td><td>1</td><td>0</td><td>0</td><td>0</td><td>0</td><td>0</td><td>1</td><td>0</td><td>0</td><td>1</td><td>0</td><td>0</td><td>0</td></tr>\n",
       "\t<tr><td>1325844</td><td>Female             </td><td>0</td><td>21.74521</td><td>-2.01010985</td><td>1</td><td>0</td><td>0</td><td>0</td><td>1</td><td>0</td><td>0</td><td>0</td><td>0</td><td>0</td><td>0</td><td>1</td><td>0</td></tr>\n",
       "\t<tr><td>3524471</td><td>Female             </td><td>0</td><td>60.53973</td><td> 0.31146601</td><td>1</td><td>0</td><td>0</td><td>0</td><td>1</td><td>0</td><td>0</td><td>0</td><td>0</td><td>0</td><td>0</td><td>1</td><td>0</td></tr>\n",
       "\t<tr><td>3015761</td><td>Male               </td><td>0</td><td>24.29315</td><td>-1.85763347</td><td>0</td><td>1</td><td>0</td><td>0</td><td>1</td><td>0</td><td>0</td><td>0</td><td>0</td><td>0</td><td>0</td><td>1</td><td>0</td></tr>\n",
       "\t<tr><td>1650336</td><td>Female             </td><td>0</td><td>62.51233</td><td> 0.42951224</td><td>1</td><td>0</td><td>0</td><td>0</td><td>1</td><td>0</td><td>0</td><td>0</td><td>0</td><td>0</td><td>0</td><td>1</td><td>0</td></tr>\n",
       "\t<tr><td>1332236</td><td>Male               </td><td>0</td><td>54.24932</td><td>-0.06497030</td><td>0</td><td>1</td><td>0</td><td>0</td><td>1</td><td>0</td><td>0</td><td>0</td><td>0</td><td>0</td><td>0</td><td>1</td><td>0</td></tr>\n",
       "\t<tr><td>3078359</td><td>Female             </td><td>0</td><td>43.69041</td><td>-0.69684554</td><td>1</td><td>0</td><td>0</td><td>0</td><td>0</td><td>0</td><td>1</td><td>0</td><td>0</td><td>0</td><td>1</td><td>0</td><td>0</td></tr>\n",
       "\t<tr><td>1449547</td><td>Female             </td><td>0</td><td>22.70685</td><td>-1.95256232</td><td>1</td><td>0</td><td>0</td><td>0</td><td>1</td><td>0</td><td>0</td><td>0</td><td>0</td><td>0</td><td>0</td><td>1</td><td>0</td></tr>\n",
       "\t<tr><td>2545670</td><td>Male               </td><td>0</td><td>60.64384</td><td> 0.31769623</td><td>0</td><td>1</td><td>0</td><td>0</td><td>1</td><td>0</td><td>0</td><td>0</td><td>0</td><td>0</td><td>0</td><td>1</td><td>0</td></tr>\n",
       "\t<tr><td>3406188</td><td>Female             </td><td>0</td><td>56.14247</td><td> 0.04832129</td><td>1</td><td>0</td><td>0</td><td>0</td><td>1</td><td>0</td><td>0</td><td>0</td><td>0</td><td>0</td><td>0</td><td>1</td><td>0</td></tr>\n",
       "\t<tr><td>1255958</td><td>Female             </td><td>0</td><td>36.40548</td><td>-1.13279683</td><td>1</td><td>0</td><td>0</td><td>0</td><td>0</td><td>0</td><td>1</td><td>0</td><td>0</td><td>1</td><td>0</td><td>0</td><td>0</td></tr>\n",
       "\t<tr><td>3078108</td><td>Female             </td><td>0</td><td>55.57260</td><td> 0.01421905</td><td>1</td><td>0</td><td>0</td><td>0</td><td>1</td><td>0</td><td>0</td><td>0</td><td>0</td><td>0</td><td>0</td><td>1</td><td>0</td></tr>\n",
       "\t<tr><td>2332519</td><td>Female             </td><td>0</td><td>33.37808</td><td>-1.31396500</td><td>1</td><td>0</td><td>0</td><td>0</td><td>1</td><td>0</td><td>0</td><td>0</td><td>0</td><td>0</td><td>0</td><td>1</td><td>0</td></tr>\n",
       "\t<tr><td>2978712</td><td>Male               </td><td>0</td><td>59.87945</td><td> 0.27195332</td><td>0</td><td>1</td><td>0</td><td>0</td><td>1</td><td>0</td><td>0</td><td>0</td><td>0</td><td>0</td><td>0</td><td>1</td><td>0</td></tr>\n",
       "\t<tr><td>2510338</td><td>Female             </td><td>0</td><td>34.19726</td><td>-1.26494302</td><td>1</td><td>0</td><td>0</td><td>0</td><td>1</td><td>0</td><td>0</td><td>0</td><td>0</td><td>0</td><td>0</td><td>1</td><td>0</td></tr>\n",
       "\t<tr><td>1804673</td><td>Female             </td><td>0</td><td>41.34247</td><td>-0.83735334</td><td>1</td><td>0</td><td>0</td><td>0</td><td>1</td><td>0</td><td>0</td><td>0</td><td>0</td><td>0</td><td>0</td><td>1</td><td>0</td></tr>\n",
       "\t<tr><td>1662444</td><td>Male               </td><td>0</td><td>25.89863</td><td>-1.76155696</td><td>0</td><td>1</td><td>0</td><td>0</td><td>0</td><td>0</td><td>1</td><td>0</td><td>0</td><td>1</td><td>0</td><td>0</td><td>0</td></tr>\n",
       "\t<tr><td>3218859</td><td>Male               </td><td>0</td><td>34.66575</td><td>-1.23690704</td><td>0</td><td>1</td><td>0</td><td>0</td><td>0</td><td>0</td><td>1</td><td>0</td><td>0</td><td>1</td><td>0</td><td>0</td><td>0</td></tr>\n",
       "\t<tr><td>1413619</td><td>Male               </td><td>0</td><td>44.01644</td><td>-0.67733512</td><td>0</td><td>1</td><td>0</td><td>0</td><td>0</td><td>0</td><td>1</td><td>0</td><td>0</td><td>1</td><td>0</td><td>0</td><td>0</td></tr>\n",
       "\t<tr><td>2134774</td><td>Male               </td><td>0</td><td>22.19452</td><td>-1.98322155</td><td>0</td><td>1</td><td>0</td><td>0</td><td>0</td><td>0</td><td>1</td><td>0</td><td>0</td><td>1</td><td>0</td><td>0</td><td>0</td></tr>\n",
       "\t<tr><td>4218443</td><td>Female             </td><td>0</td><td>34.80000</td><td>-1.22887334</td><td>1</td><td>0</td><td>0</td><td>0</td><td>1</td><td>0</td><td>0</td><td>0</td><td>0</td><td>0</td><td>0</td><td>1</td><td>0</td></tr>\n",
       "\t<tr><td>1579958</td><td>Male               </td><td>0</td><td>51.90411</td><td>-0.20531415</td><td>0</td><td>1</td><td>0</td><td>0</td><td>1</td><td>0</td><td>0</td><td>0</td><td>0</td><td>0</td><td>0</td><td>1</td><td>0</td></tr>\n",
       "</tbody>\n",
       "</table>\n"
      ],
      "text/latex": [
       "A data.frame: 216942 × 18\n",
       "\\begin{tabular}{llllllllllllllllll}\n",
       " person\\_id & sex\\_at\\_birth & HS & age\\_last\\_EHR & age\\_normalized & sex\\_Female & sex\\_Male & sex\\_Other.Sex & race\\_Asian & race\\_Black.or.African.American & race\\_More.than.one.population & race\\_No.answer.race & race\\_Other.race & race\\_White & ethnicity\\_Hispanic.or.Latino & ethnicity\\_No.answer.ethnicity & ethnicity\\_Not.Hispanic.or.Latino & ethnicity\\_Other.ethnicity\\\\\n",
       " <int> & <chr> & <int> & <dbl> & <dbl> & <int> & <int> & <int> & <int> & <int> & <int> & <int> & <int> & <int> & <int> & <int> & <int> & <int>\\\\\n",
       "\\hline\n",
       "\t 7189522 & Female & 0 & 66.06849 &  0.64232336 & 1 & 0 & 0 & 0 & 0 & 0 & 0 & 0 & 1 & 0 & 0 & 1 & 0\\\\\n",
       "\t 9306478 & Female & 0 & 64.50137 &  0.54854219 & 1 & 0 & 0 & 0 & 0 & 0 & 0 & 0 & 1 & 0 & 0 & 1 & 0\\\\\n",
       "\t 9557736 & Male   & 0 & 55.07945 & -0.01529251 & 0 & 1 & 0 & 0 & 0 & 0 & 0 & 0 & 1 & 0 & 0 & 1 & 0\\\\\n",
       "\t 1840872 & Male   & 0 & 60.06575 &  0.28310213 & 0 & 1 & 0 & 0 & 0 & 0 & 0 & 0 & 1 & 0 & 0 & 1 & 0\\\\\n",
       "\t 3486599 & Male   & 0 & 86.10137 &  1.84114842 & 0 & 1 & 0 & 0 & 0 & 0 & 0 & 0 & 1 & 0 & 0 & 1 & 0\\\\\n",
       "\t 3161593 & Female & 0 & 57.76438 &  0.14538152 & 1 & 0 & 0 & 0 & 0 & 0 & 0 & 0 & 1 & 0 & 0 & 1 & 0\\\\\n",
       "\t 1328970 & Male   & 0 & 64.96164 &  0.57608631 & 0 & 1 & 0 & 0 & 1 & 0 & 0 & 0 & 0 & 0 & 0 & 1 & 0\\\\\n",
       "\t 4906905 & Male   & 0 & 59.98904 &  0.27851144 & 0 & 1 & 0 & 0 & 0 & 0 & 0 & 0 & 1 & 0 & 0 & 1 & 0\\\\\n",
       "\t 1706475 & Female & 0 & 66.98630 &  0.69724765 & 1 & 0 & 0 & 0 & 1 & 0 & 0 & 0 & 0 & 0 & 0 & 1 & 0\\\\\n",
       "\t 2395521 & Female & 0 & 49.05479 & -0.37582537 & 1 & 0 & 0 & 0 & 0 & 0 & 0 & 0 & 1 & 0 & 0 & 1 & 0\\\\\n",
       "\t 2563639 & Female & 0 & 36.98904 & -1.09787482 & 1 & 0 & 0 & 0 & 1 & 0 & 0 & 0 & 0 & 0 & 0 & 1 & 0\\\\\n",
       "\t 1739054 & Male   & 0 & 66.01918 &  0.63937221 & 0 & 1 & 0 & 0 & 0 & 0 & 0 & 0 & 1 & 0 & 0 & 1 & 0\\\\\n",
       "\t 1681353 & Male   & 0 & 75.03562 &  1.17894185 & 0 & 1 & 0 & 0 & 0 & 1 & 0 & 0 & 0 & 0 & 0 & 1 & 0\\\\\n",
       "\t 1587304 & Male   & 0 & 61.07945 &  0.34376477 & 0 & 1 & 0 & 0 & 0 & 0 & 0 & 0 & 1 & 0 & 0 & 1 & 0\\\\\n",
       "\t 2490805 & Female & 0 & 82.08767 &  1.60095713 & 1 & 0 & 0 & 0 & 0 & 0 & 0 & 0 & 1 & 0 & 0 & 1 & 0\\\\\n",
       "\t 6150624 & Female & 0 & 74.04932 &  1.11991874 & 1 & 0 & 0 & 0 & 0 & 0 & 0 & 0 & 1 & 0 & 0 & 1 & 0\\\\\n",
       "\t 9470352 & Female & 0 & 62.07397 &  0.40327975 & 1 & 0 & 0 & 0 & 0 & 0 & 0 & 0 & 1 & 0 & 0 & 1 & 0\\\\\n",
       "\t 1734015 & Male   & 0 & 75.09589 &  1.18254882 & 0 & 1 & 0 & 0 & 0 & 0 & 0 & 0 & 1 & 0 & 0 & 1 & 0\\\\\n",
       "\t 2010154 & Female & 0 & 54.03562 & -0.07775864 & 1 & 0 & 0 & 0 & 0 & 0 & 0 & 0 & 1 & 0 & 0 & 1 & 0\\\\\n",
       "\t 1045125 & Male   & 0 & 72.06575 &  1.00121670 & 0 & 1 & 0 & 0 & 0 & 0 & 0 & 0 & 1 & 0 & 0 & 1 & 0\\\\\n",
       "\t 2554121 & Male   & 0 & 85.07671 &  1.77982996 & 0 & 1 & 0 & 0 & 0 & 0 & 0 & 0 & 1 & 0 & 0 & 1 & 0\\\\\n",
       "\t 1565049 & Male   & 0 & 24.88493 & -1.82221960 & 0 & 1 & 0 & 0 & 0 & 0 & 0 & 0 & 1 & 0 & 0 & 1 & 0\\\\\n",
       "\t 2736968 & Male   & 0 & 82.99452 &  1.65522560 & 0 & 1 & 0 & 0 & 0 & 0 & 0 & 0 & 1 & 0 & 0 & 1 & 0\\\\\n",
       "\t 3009547 & Female & 0 & 42.83288 & -0.74816286 & 1 & 0 & 0 & 0 & 0 & 0 & 0 & 0 & 1 & 0 & 0 & 1 & 0\\\\\n",
       "\t 2732301 & Male   & 0 & 58.87397 &  0.21178253 & 0 & 1 & 0 & 0 & 1 & 0 & 0 & 0 & 0 & 0 & 0 & 1 & 0\\\\\n",
       "\t 3291095 & Female & 0 & 72.66301 &  1.03695847 & 1 & 0 & 0 & 0 & 0 & 0 & 0 & 0 & 1 & 0 & 0 & 1 & 0\\\\\n",
       "\t 1507444 & Female & 0 & 64.08219 &  0.52345737 & 1 & 0 & 0 & 0 & 0 & 0 & 0 & 0 & 1 & 0 & 0 & 1 & 0\\\\\n",
       "\t 2848880 & Female & 0 & 47.01918 & -0.49764253 & 1 & 0 & 0 & 0 & 0 & 0 & 0 & 0 & 1 & 0 & 0 & 1 & 0\\\\\n",
       "\t 1433739 & Female & 0 & 85.07945 &  1.77999391 & 1 & 0 & 0 & 0 & 0 & 0 & 0 & 0 & 1 & 0 & 0 & 1 & 0\\\\\n",
       "\t 1067462 & Female & 0 & 65.08767 &  0.58362816 & 1 & 0 & 0 & 0 & 0 & 0 & 0 & 0 & 1 & 0 & 0 & 1 & 0\\\\\n",
       "\t ⋮ & ⋮ & ⋮ & ⋮ & ⋮ & ⋮ & ⋮ & ⋮ & ⋮ & ⋮ & ⋮ & ⋮ & ⋮ & ⋮ & ⋮ & ⋮ & ⋮ & ⋮\\\\\n",
       "\t 2487349 & No matching concept & 0 & 27.18904 & -1.68433505 & 0 & 0 & 1 & 0 & 0 & 0 & 1 & 0 & 0 & 0 & 1 & 0 & 0\\\\\n",
       "\t 3161818 & Female              & 0 & 34.80822 & -1.22838148 & 1 & 0 & 0 & 0 & 1 & 0 & 0 & 0 & 0 & 0 & 0 & 1 & 0\\\\\n",
       "\t 2556799 & Male                & 0 & 59.05479 &  0.22260343 & 0 & 1 & 0 & 0 & 0 & 0 & 0 & 1 & 0 & 0 & 0 & 0 & 1\\\\\n",
       "\t 3395228 & Male                & 0 & 42.03288 & -0.79603716 & 0 & 1 & 0 & 0 & 1 & 0 & 0 & 0 & 0 & 0 & 0 & 1 & 0\\\\\n",
       "\t 3006001 & Male                & 0 & 34.92055 & -1.22165941 & 0 & 1 & 0 & 0 & 1 & 0 & 0 & 0 & 0 & 0 & 0 & 1 & 0\\\\\n",
       "\t 2468419 & Female              & 0 & 44.98630 & -0.61929572 & 1 & 0 & 0 & 0 & 0 & 0 & 1 & 0 & 0 & 1 & 0 & 0 & 0\\\\\n",
       "\t 1095964 & Female              & 0 & 62.45479 &  0.42606923 & 1 & 0 & 0 & 0 & 1 & 0 & 0 & 0 & 0 & 0 & 0 & 1 & 0\\\\\n",
       "\t 3040624 & Female              & 0 & 30.89863 & -1.46234255 & 1 & 0 & 0 & 0 & 1 & 0 & 0 & 0 & 0 & 0 & 0 & 1 & 0\\\\\n",
       "\t 3039760 & Female              & 0 & 31.06575 & -1.45234141 & 1 & 0 & 0 & 0 & 0 & 0 & 1 & 0 & 0 & 1 & 0 & 0 & 0\\\\\n",
       "\t 1325844 & Female              & 0 & 21.74521 & -2.01010985 & 1 & 0 & 0 & 0 & 1 & 0 & 0 & 0 & 0 & 0 & 0 & 1 & 0\\\\\n",
       "\t 3524471 & Female              & 0 & 60.53973 &  0.31146601 & 1 & 0 & 0 & 0 & 1 & 0 & 0 & 0 & 0 & 0 & 0 & 1 & 0\\\\\n",
       "\t 3015761 & Male                & 0 & 24.29315 & -1.85763347 & 0 & 1 & 0 & 0 & 1 & 0 & 0 & 0 & 0 & 0 & 0 & 1 & 0\\\\\n",
       "\t 1650336 & Female              & 0 & 62.51233 &  0.42951224 & 1 & 0 & 0 & 0 & 1 & 0 & 0 & 0 & 0 & 0 & 0 & 1 & 0\\\\\n",
       "\t 1332236 & Male                & 0 & 54.24932 & -0.06497030 & 0 & 1 & 0 & 0 & 1 & 0 & 0 & 0 & 0 & 0 & 0 & 1 & 0\\\\\n",
       "\t 3078359 & Female              & 0 & 43.69041 & -0.69684554 & 1 & 0 & 0 & 0 & 0 & 0 & 1 & 0 & 0 & 0 & 1 & 0 & 0\\\\\n",
       "\t 1449547 & Female              & 0 & 22.70685 & -1.95256232 & 1 & 0 & 0 & 0 & 1 & 0 & 0 & 0 & 0 & 0 & 0 & 1 & 0\\\\\n",
       "\t 2545670 & Male                & 0 & 60.64384 &  0.31769623 & 0 & 1 & 0 & 0 & 1 & 0 & 0 & 0 & 0 & 0 & 0 & 1 & 0\\\\\n",
       "\t 3406188 & Female              & 0 & 56.14247 &  0.04832129 & 1 & 0 & 0 & 0 & 1 & 0 & 0 & 0 & 0 & 0 & 0 & 1 & 0\\\\\n",
       "\t 1255958 & Female              & 0 & 36.40548 & -1.13279683 & 1 & 0 & 0 & 0 & 0 & 0 & 1 & 0 & 0 & 1 & 0 & 0 & 0\\\\\n",
       "\t 3078108 & Female              & 0 & 55.57260 &  0.01421905 & 1 & 0 & 0 & 0 & 1 & 0 & 0 & 0 & 0 & 0 & 0 & 1 & 0\\\\\n",
       "\t 2332519 & Female              & 0 & 33.37808 & -1.31396500 & 1 & 0 & 0 & 0 & 1 & 0 & 0 & 0 & 0 & 0 & 0 & 1 & 0\\\\\n",
       "\t 2978712 & Male                & 0 & 59.87945 &  0.27195332 & 0 & 1 & 0 & 0 & 1 & 0 & 0 & 0 & 0 & 0 & 0 & 1 & 0\\\\\n",
       "\t 2510338 & Female              & 0 & 34.19726 & -1.26494302 & 1 & 0 & 0 & 0 & 1 & 0 & 0 & 0 & 0 & 0 & 0 & 1 & 0\\\\\n",
       "\t 1804673 & Female              & 0 & 41.34247 & -0.83735334 & 1 & 0 & 0 & 0 & 1 & 0 & 0 & 0 & 0 & 0 & 0 & 1 & 0\\\\\n",
       "\t 1662444 & Male                & 0 & 25.89863 & -1.76155696 & 0 & 1 & 0 & 0 & 0 & 0 & 1 & 0 & 0 & 1 & 0 & 0 & 0\\\\\n",
       "\t 3218859 & Male                & 0 & 34.66575 & -1.23690704 & 0 & 1 & 0 & 0 & 0 & 0 & 1 & 0 & 0 & 1 & 0 & 0 & 0\\\\\n",
       "\t 1413619 & Male                & 0 & 44.01644 & -0.67733512 & 0 & 1 & 0 & 0 & 0 & 0 & 1 & 0 & 0 & 1 & 0 & 0 & 0\\\\\n",
       "\t 2134774 & Male                & 0 & 22.19452 & -1.98322155 & 0 & 1 & 0 & 0 & 0 & 0 & 1 & 0 & 0 & 1 & 0 & 0 & 0\\\\\n",
       "\t 4218443 & Female              & 0 & 34.80000 & -1.22887334 & 1 & 0 & 0 & 0 & 1 & 0 & 0 & 0 & 0 & 0 & 0 & 1 & 0\\\\\n",
       "\t 1579958 & Male                & 0 & 51.90411 & -0.20531415 & 0 & 1 & 0 & 0 & 1 & 0 & 0 & 0 & 0 & 0 & 0 & 1 & 0\\\\\n",
       "\\end{tabular}\n"
      ],
      "text/markdown": [
       "\n",
       "A data.frame: 216942 × 18\n",
       "\n",
       "| person_id &lt;int&gt; | sex_at_birth &lt;chr&gt; | HS &lt;int&gt; | age_last_EHR &lt;dbl&gt; | age_normalized &lt;dbl&gt; | sex_Female &lt;int&gt; | sex_Male &lt;int&gt; | sex_Other.Sex &lt;int&gt; | race_Asian &lt;int&gt; | race_Black.or.African.American &lt;int&gt; | race_More.than.one.population &lt;int&gt; | race_No.answer.race &lt;int&gt; | race_Other.race &lt;int&gt; | race_White &lt;int&gt; | ethnicity_Hispanic.or.Latino &lt;int&gt; | ethnicity_No.answer.ethnicity &lt;int&gt; | ethnicity_Not.Hispanic.or.Latino &lt;int&gt; | ethnicity_Other.ethnicity &lt;int&gt; |\n",
       "|---|---|---|---|---|---|---|---|---|---|---|---|---|---|---|---|---|---|\n",
       "| 7189522 | Female | 0 | 66.06849 |  0.64232336 | 1 | 0 | 0 | 0 | 0 | 0 | 0 | 0 | 1 | 0 | 0 | 1 | 0 |\n",
       "| 9306478 | Female | 0 | 64.50137 |  0.54854219 | 1 | 0 | 0 | 0 | 0 | 0 | 0 | 0 | 1 | 0 | 0 | 1 | 0 |\n",
       "| 9557736 | Male   | 0 | 55.07945 | -0.01529251 | 0 | 1 | 0 | 0 | 0 | 0 | 0 | 0 | 1 | 0 | 0 | 1 | 0 |\n",
       "| 1840872 | Male   | 0 | 60.06575 |  0.28310213 | 0 | 1 | 0 | 0 | 0 | 0 | 0 | 0 | 1 | 0 | 0 | 1 | 0 |\n",
       "| 3486599 | Male   | 0 | 86.10137 |  1.84114842 | 0 | 1 | 0 | 0 | 0 | 0 | 0 | 0 | 1 | 0 | 0 | 1 | 0 |\n",
       "| 3161593 | Female | 0 | 57.76438 |  0.14538152 | 1 | 0 | 0 | 0 | 0 | 0 | 0 | 0 | 1 | 0 | 0 | 1 | 0 |\n",
       "| 1328970 | Male   | 0 | 64.96164 |  0.57608631 | 0 | 1 | 0 | 0 | 1 | 0 | 0 | 0 | 0 | 0 | 0 | 1 | 0 |\n",
       "| 4906905 | Male   | 0 | 59.98904 |  0.27851144 | 0 | 1 | 0 | 0 | 0 | 0 | 0 | 0 | 1 | 0 | 0 | 1 | 0 |\n",
       "| 1706475 | Female | 0 | 66.98630 |  0.69724765 | 1 | 0 | 0 | 0 | 1 | 0 | 0 | 0 | 0 | 0 | 0 | 1 | 0 |\n",
       "| 2395521 | Female | 0 | 49.05479 | -0.37582537 | 1 | 0 | 0 | 0 | 0 | 0 | 0 | 0 | 1 | 0 | 0 | 1 | 0 |\n",
       "| 2563639 | Female | 0 | 36.98904 | -1.09787482 | 1 | 0 | 0 | 0 | 1 | 0 | 0 | 0 | 0 | 0 | 0 | 1 | 0 |\n",
       "| 1739054 | Male   | 0 | 66.01918 |  0.63937221 | 0 | 1 | 0 | 0 | 0 | 0 | 0 | 0 | 1 | 0 | 0 | 1 | 0 |\n",
       "| 1681353 | Male   | 0 | 75.03562 |  1.17894185 | 0 | 1 | 0 | 0 | 0 | 1 | 0 | 0 | 0 | 0 | 0 | 1 | 0 |\n",
       "| 1587304 | Male   | 0 | 61.07945 |  0.34376477 | 0 | 1 | 0 | 0 | 0 | 0 | 0 | 0 | 1 | 0 | 0 | 1 | 0 |\n",
       "| 2490805 | Female | 0 | 82.08767 |  1.60095713 | 1 | 0 | 0 | 0 | 0 | 0 | 0 | 0 | 1 | 0 | 0 | 1 | 0 |\n",
       "| 6150624 | Female | 0 | 74.04932 |  1.11991874 | 1 | 0 | 0 | 0 | 0 | 0 | 0 | 0 | 1 | 0 | 0 | 1 | 0 |\n",
       "| 9470352 | Female | 0 | 62.07397 |  0.40327975 | 1 | 0 | 0 | 0 | 0 | 0 | 0 | 0 | 1 | 0 | 0 | 1 | 0 |\n",
       "| 1734015 | Male   | 0 | 75.09589 |  1.18254882 | 0 | 1 | 0 | 0 | 0 | 0 | 0 | 0 | 1 | 0 | 0 | 1 | 0 |\n",
       "| 2010154 | Female | 0 | 54.03562 | -0.07775864 | 1 | 0 | 0 | 0 | 0 | 0 | 0 | 0 | 1 | 0 | 0 | 1 | 0 |\n",
       "| 1045125 | Male   | 0 | 72.06575 |  1.00121670 | 0 | 1 | 0 | 0 | 0 | 0 | 0 | 0 | 1 | 0 | 0 | 1 | 0 |\n",
       "| 2554121 | Male   | 0 | 85.07671 |  1.77982996 | 0 | 1 | 0 | 0 | 0 | 0 | 0 | 0 | 1 | 0 | 0 | 1 | 0 |\n",
       "| 1565049 | Male   | 0 | 24.88493 | -1.82221960 | 0 | 1 | 0 | 0 | 0 | 0 | 0 | 0 | 1 | 0 | 0 | 1 | 0 |\n",
       "| 2736968 | Male   | 0 | 82.99452 |  1.65522560 | 0 | 1 | 0 | 0 | 0 | 0 | 0 | 0 | 1 | 0 | 0 | 1 | 0 |\n",
       "| 3009547 | Female | 0 | 42.83288 | -0.74816286 | 1 | 0 | 0 | 0 | 0 | 0 | 0 | 0 | 1 | 0 | 0 | 1 | 0 |\n",
       "| 2732301 | Male   | 0 | 58.87397 |  0.21178253 | 0 | 1 | 0 | 0 | 1 | 0 | 0 | 0 | 0 | 0 | 0 | 1 | 0 |\n",
       "| 3291095 | Female | 0 | 72.66301 |  1.03695847 | 1 | 0 | 0 | 0 | 0 | 0 | 0 | 0 | 1 | 0 | 0 | 1 | 0 |\n",
       "| 1507444 | Female | 0 | 64.08219 |  0.52345737 | 1 | 0 | 0 | 0 | 0 | 0 | 0 | 0 | 1 | 0 | 0 | 1 | 0 |\n",
       "| 2848880 | Female | 0 | 47.01918 | -0.49764253 | 1 | 0 | 0 | 0 | 0 | 0 | 0 | 0 | 1 | 0 | 0 | 1 | 0 |\n",
       "| 1433739 | Female | 0 | 85.07945 |  1.77999391 | 1 | 0 | 0 | 0 | 0 | 0 | 0 | 0 | 1 | 0 | 0 | 1 | 0 |\n",
       "| 1067462 | Female | 0 | 65.08767 |  0.58362816 | 1 | 0 | 0 | 0 | 0 | 0 | 0 | 0 | 1 | 0 | 0 | 1 | 0 |\n",
       "| ⋮ | ⋮ | ⋮ | ⋮ | ⋮ | ⋮ | ⋮ | ⋮ | ⋮ | ⋮ | ⋮ | ⋮ | ⋮ | ⋮ | ⋮ | ⋮ | ⋮ | ⋮ |\n",
       "| 2487349 | No matching concept | 0 | 27.18904 | -1.68433505 | 0 | 0 | 1 | 0 | 0 | 0 | 1 | 0 | 0 | 0 | 1 | 0 | 0 |\n",
       "| 3161818 | Female              | 0 | 34.80822 | -1.22838148 | 1 | 0 | 0 | 0 | 1 | 0 | 0 | 0 | 0 | 0 | 0 | 1 | 0 |\n",
       "| 2556799 | Male                | 0 | 59.05479 |  0.22260343 | 0 | 1 | 0 | 0 | 0 | 0 | 0 | 1 | 0 | 0 | 0 | 0 | 1 |\n",
       "| 3395228 | Male                | 0 | 42.03288 | -0.79603716 | 0 | 1 | 0 | 0 | 1 | 0 | 0 | 0 | 0 | 0 | 0 | 1 | 0 |\n",
       "| 3006001 | Male                | 0 | 34.92055 | -1.22165941 | 0 | 1 | 0 | 0 | 1 | 0 | 0 | 0 | 0 | 0 | 0 | 1 | 0 |\n",
       "| 2468419 | Female              | 0 | 44.98630 | -0.61929572 | 1 | 0 | 0 | 0 | 0 | 0 | 1 | 0 | 0 | 1 | 0 | 0 | 0 |\n",
       "| 1095964 | Female              | 0 | 62.45479 |  0.42606923 | 1 | 0 | 0 | 0 | 1 | 0 | 0 | 0 | 0 | 0 | 0 | 1 | 0 |\n",
       "| 3040624 | Female              | 0 | 30.89863 | -1.46234255 | 1 | 0 | 0 | 0 | 1 | 0 | 0 | 0 | 0 | 0 | 0 | 1 | 0 |\n",
       "| 3039760 | Female              | 0 | 31.06575 | -1.45234141 | 1 | 0 | 0 | 0 | 0 | 0 | 1 | 0 | 0 | 1 | 0 | 0 | 0 |\n",
       "| 1325844 | Female              | 0 | 21.74521 | -2.01010985 | 1 | 0 | 0 | 0 | 1 | 0 | 0 | 0 | 0 | 0 | 0 | 1 | 0 |\n",
       "| 3524471 | Female              | 0 | 60.53973 |  0.31146601 | 1 | 0 | 0 | 0 | 1 | 0 | 0 | 0 | 0 | 0 | 0 | 1 | 0 |\n",
       "| 3015761 | Male                | 0 | 24.29315 | -1.85763347 | 0 | 1 | 0 | 0 | 1 | 0 | 0 | 0 | 0 | 0 | 0 | 1 | 0 |\n",
       "| 1650336 | Female              | 0 | 62.51233 |  0.42951224 | 1 | 0 | 0 | 0 | 1 | 0 | 0 | 0 | 0 | 0 | 0 | 1 | 0 |\n",
       "| 1332236 | Male                | 0 | 54.24932 | -0.06497030 | 0 | 1 | 0 | 0 | 1 | 0 | 0 | 0 | 0 | 0 | 0 | 1 | 0 |\n",
       "| 3078359 | Female              | 0 | 43.69041 | -0.69684554 | 1 | 0 | 0 | 0 | 0 | 0 | 1 | 0 | 0 | 0 | 1 | 0 | 0 |\n",
       "| 1449547 | Female              | 0 | 22.70685 | -1.95256232 | 1 | 0 | 0 | 0 | 1 | 0 | 0 | 0 | 0 | 0 | 0 | 1 | 0 |\n",
       "| 2545670 | Male                | 0 | 60.64384 |  0.31769623 | 0 | 1 | 0 | 0 | 1 | 0 | 0 | 0 | 0 | 0 | 0 | 1 | 0 |\n",
       "| 3406188 | Female              | 0 | 56.14247 |  0.04832129 | 1 | 0 | 0 | 0 | 1 | 0 | 0 | 0 | 0 | 0 | 0 | 1 | 0 |\n",
       "| 1255958 | Female              | 0 | 36.40548 | -1.13279683 | 1 | 0 | 0 | 0 | 0 | 0 | 1 | 0 | 0 | 1 | 0 | 0 | 0 |\n",
       "| 3078108 | Female              | 0 | 55.57260 |  0.01421905 | 1 | 0 | 0 | 0 | 1 | 0 | 0 | 0 | 0 | 0 | 0 | 1 | 0 |\n",
       "| 2332519 | Female              | 0 | 33.37808 | -1.31396500 | 1 | 0 | 0 | 0 | 1 | 0 | 0 | 0 | 0 | 0 | 0 | 1 | 0 |\n",
       "| 2978712 | Male                | 0 | 59.87945 |  0.27195332 | 0 | 1 | 0 | 0 | 1 | 0 | 0 | 0 | 0 | 0 | 0 | 1 | 0 |\n",
       "| 2510338 | Female              | 0 | 34.19726 | -1.26494302 | 1 | 0 | 0 | 0 | 1 | 0 | 0 | 0 | 0 | 0 | 0 | 1 | 0 |\n",
       "| 1804673 | Female              | 0 | 41.34247 | -0.83735334 | 1 | 0 | 0 | 0 | 1 | 0 | 0 | 0 | 0 | 0 | 0 | 1 | 0 |\n",
       "| 1662444 | Male                | 0 | 25.89863 | -1.76155696 | 0 | 1 | 0 | 0 | 0 | 0 | 1 | 0 | 0 | 1 | 0 | 0 | 0 |\n",
       "| 3218859 | Male                | 0 | 34.66575 | -1.23690704 | 0 | 1 | 0 | 0 | 0 | 0 | 1 | 0 | 0 | 1 | 0 | 0 | 0 |\n",
       "| 1413619 | Male                | 0 | 44.01644 | -0.67733512 | 0 | 1 | 0 | 0 | 0 | 0 | 1 | 0 | 0 | 1 | 0 | 0 | 0 |\n",
       "| 2134774 | Male                | 0 | 22.19452 | -1.98322155 | 0 | 1 | 0 | 0 | 0 | 0 | 1 | 0 | 0 | 1 | 0 | 0 | 0 |\n",
       "| 4218443 | Female              | 0 | 34.80000 | -1.22887334 | 1 | 0 | 0 | 0 | 1 | 0 | 0 | 0 | 0 | 0 | 0 | 1 | 0 |\n",
       "| 1579958 | Male                | 0 | 51.90411 | -0.20531415 | 0 | 1 | 0 | 0 | 1 | 0 | 0 | 0 | 0 | 0 | 0 | 1 | 0 |\n",
       "\n"
      ],
      "text/plain": [
       "       person_id sex_at_birth        HS age_last_EHR age_normalized sex_Female\n",
       "1      7189522   Female              0  66.06849      0.64232336    1         \n",
       "2      9306478   Female              0  64.50137      0.54854219    1         \n",
       "3      9557736   Male                0  55.07945     -0.01529251    0         \n",
       "4      1840872   Male                0  60.06575      0.28310213    0         \n",
       "5      3486599   Male                0  86.10137      1.84114842    0         \n",
       "6      3161593   Female              0  57.76438      0.14538152    1         \n",
       "7      1328970   Male                0  64.96164      0.57608631    0         \n",
       "8      4906905   Male                0  59.98904      0.27851144    0         \n",
       "9      1706475   Female              0  66.98630      0.69724765    1         \n",
       "10     2395521   Female              0  49.05479     -0.37582537    1         \n",
       "11     2563639   Female              0  36.98904     -1.09787482    1         \n",
       "12     1739054   Male                0  66.01918      0.63937221    0         \n",
       "13     1681353   Male                0  75.03562      1.17894185    0         \n",
       "14     1587304   Male                0  61.07945      0.34376477    0         \n",
       "15     2490805   Female              0  82.08767      1.60095713    1         \n",
       "16     6150624   Female              0  74.04932      1.11991874    1         \n",
       "17     9470352   Female              0  62.07397      0.40327975    1         \n",
       "18     1734015   Male                0  75.09589      1.18254882    0         \n",
       "19     2010154   Female              0  54.03562     -0.07775864    1         \n",
       "20     1045125   Male                0  72.06575      1.00121670    0         \n",
       "21     2554121   Male                0  85.07671      1.77982996    0         \n",
       "22     1565049   Male                0  24.88493     -1.82221960    0         \n",
       "23     2736968   Male                0  82.99452      1.65522560    0         \n",
       "24     3009547   Female              0  42.83288     -0.74816286    1         \n",
       "25     2732301   Male                0  58.87397      0.21178253    0         \n",
       "26     3291095   Female              0  72.66301      1.03695847    1         \n",
       "27     1507444   Female              0  64.08219      0.52345737    1         \n",
       "28     2848880   Female              0  47.01918     -0.49764253    1         \n",
       "29     1433739   Female              0  85.07945      1.77999391    1         \n",
       "30     1067462   Female              0  65.08767      0.58362816    1         \n",
       "⋮      ⋮         ⋮                   ⋮  ⋮            ⋮              ⋮         \n",
       "216913 2487349   No matching concept 0  27.18904     -1.68433505    0         \n",
       "216914 3161818   Female              0  34.80822     -1.22838148    1         \n",
       "216915 2556799   Male                0  59.05479      0.22260343    0         \n",
       "216916 3395228   Male                0  42.03288     -0.79603716    0         \n",
       "216917 3006001   Male                0  34.92055     -1.22165941    0         \n",
       "216918 2468419   Female              0  44.98630     -0.61929572    1         \n",
       "216919 1095964   Female              0  62.45479      0.42606923    1         \n",
       "216920 3040624   Female              0  30.89863     -1.46234255    1         \n",
       "216921 3039760   Female              0  31.06575     -1.45234141    1         \n",
       "216922 1325844   Female              0  21.74521     -2.01010985    1         \n",
       "216923 3524471   Female              0  60.53973      0.31146601    1         \n",
       "216924 3015761   Male                0  24.29315     -1.85763347    0         \n",
       "216925 1650336   Female              0  62.51233      0.42951224    1         \n",
       "216926 1332236   Male                0  54.24932     -0.06497030    0         \n",
       "216927 3078359   Female              0  43.69041     -0.69684554    1         \n",
       "216928 1449547   Female              0  22.70685     -1.95256232    1         \n",
       "216929 2545670   Male                0  60.64384      0.31769623    0         \n",
       "216930 3406188   Female              0  56.14247      0.04832129    1         \n",
       "216931 1255958   Female              0  36.40548     -1.13279683    1         \n",
       "216932 3078108   Female              0  55.57260      0.01421905    1         \n",
       "216933 2332519   Female              0  33.37808     -1.31396500    1         \n",
       "216934 2978712   Male                0  59.87945      0.27195332    0         \n",
       "216935 2510338   Female              0  34.19726     -1.26494302    1         \n",
       "216936 1804673   Female              0  41.34247     -0.83735334    1         \n",
       "216937 1662444   Male                0  25.89863     -1.76155696    0         \n",
       "216938 3218859   Male                0  34.66575     -1.23690704    0         \n",
       "216939 1413619   Male                0  44.01644     -0.67733512    0         \n",
       "216940 2134774   Male                0  22.19452     -1.98322155    0         \n",
       "216941 4218443   Female              0  34.80000     -1.22887334    1         \n",
       "216942 1579958   Male                0  51.90411     -0.20531415    0         \n",
       "       sex_Male sex_Other.Sex race_Asian race_Black.or.African.American\n",
       "1      0        0             0          0                             \n",
       "2      0        0             0          0                             \n",
       "3      1        0             0          0                             \n",
       "4      1        0             0          0                             \n",
       "5      1        0             0          0                             \n",
       "6      0        0             0          0                             \n",
       "7      1        0             0          1                             \n",
       "8      1        0             0          0                             \n",
       "9      0        0             0          1                             \n",
       "10     0        0             0          0                             \n",
       "11     0        0             0          1                             \n",
       "12     1        0             0          0                             \n",
       "13     1        0             0          0                             \n",
       "14     1        0             0          0                             \n",
       "15     0        0             0          0                             \n",
       "16     0        0             0          0                             \n",
       "17     0        0             0          0                             \n",
       "18     1        0             0          0                             \n",
       "19     0        0             0          0                             \n",
       "20     1        0             0          0                             \n",
       "21     1        0             0          0                             \n",
       "22     1        0             0          0                             \n",
       "23     1        0             0          0                             \n",
       "24     0        0             0          0                             \n",
       "25     1        0             0          1                             \n",
       "26     0        0             0          0                             \n",
       "27     0        0             0          0                             \n",
       "28     0        0             0          0                             \n",
       "29     0        0             0          0                             \n",
       "30     0        0             0          0                             \n",
       "⋮      ⋮        ⋮             ⋮          ⋮                             \n",
       "216913 0        1             0          0                             \n",
       "216914 0        0             0          1                             \n",
       "216915 1        0             0          0                             \n",
       "216916 1        0             0          1                             \n",
       "216917 1        0             0          1                             \n",
       "216918 0        0             0          0                             \n",
       "216919 0        0             0          1                             \n",
       "216920 0        0             0          1                             \n",
       "216921 0        0             0          0                             \n",
       "216922 0        0             0          1                             \n",
       "216923 0        0             0          1                             \n",
       "216924 1        0             0          1                             \n",
       "216925 0        0             0          1                             \n",
       "216926 1        0             0          1                             \n",
       "216927 0        0             0          0                             \n",
       "216928 0        0             0          1                             \n",
       "216929 1        0             0          1                             \n",
       "216930 0        0             0          1                             \n",
       "216931 0        0             0          0                             \n",
       "216932 0        0             0          1                             \n",
       "216933 0        0             0          1                             \n",
       "216934 1        0             0          1                             \n",
       "216935 0        0             0          1                             \n",
       "216936 0        0             0          1                             \n",
       "216937 1        0             0          0                             \n",
       "216938 1        0             0          0                             \n",
       "216939 1        0             0          0                             \n",
       "216940 1        0             0          0                             \n",
       "216941 0        0             0          1                             \n",
       "216942 1        0             0          1                             \n",
       "       race_More.than.one.population race_No.answer.race race_Other.race\n",
       "1      0                             0                   0              \n",
       "2      0                             0                   0              \n",
       "3      0                             0                   0              \n",
       "4      0                             0                   0              \n",
       "5      0                             0                   0              \n",
       "6      0                             0                   0              \n",
       "7      0                             0                   0              \n",
       "8      0                             0                   0              \n",
       "9      0                             0                   0              \n",
       "10     0                             0                   0              \n",
       "11     0                             0                   0              \n",
       "12     0                             0                   0              \n",
       "13     1                             0                   0              \n",
       "14     0                             0                   0              \n",
       "15     0                             0                   0              \n",
       "16     0                             0                   0              \n",
       "17     0                             0                   0              \n",
       "18     0                             0                   0              \n",
       "19     0                             0                   0              \n",
       "20     0                             0                   0              \n",
       "21     0                             0                   0              \n",
       "22     0                             0                   0              \n",
       "23     0                             0                   0              \n",
       "24     0                             0                   0              \n",
       "25     0                             0                   0              \n",
       "26     0                             0                   0              \n",
       "27     0                             0                   0              \n",
       "28     0                             0                   0              \n",
       "29     0                             0                   0              \n",
       "30     0                             0                   0              \n",
       "⋮      ⋮                             ⋮                   ⋮              \n",
       "216913 0                             1                   0              \n",
       "216914 0                             0                   0              \n",
       "216915 0                             0                   1              \n",
       "216916 0                             0                   0              \n",
       "216917 0                             0                   0              \n",
       "216918 0                             1                   0              \n",
       "216919 0                             0                   0              \n",
       "216920 0                             0                   0              \n",
       "216921 0                             1                   0              \n",
       "216922 0                             0                   0              \n",
       "216923 0                             0                   0              \n",
       "216924 0                             0                   0              \n",
       "216925 0                             0                   0              \n",
       "216926 0                             0                   0              \n",
       "216927 0                             1                   0              \n",
       "216928 0                             0                   0              \n",
       "216929 0                             0                   0              \n",
       "216930 0                             0                   0              \n",
       "216931 0                             1                   0              \n",
       "216932 0                             0                   0              \n",
       "216933 0                             0                   0              \n",
       "216934 0                             0                   0              \n",
       "216935 0                             0                   0              \n",
       "216936 0                             0                   0              \n",
       "216937 0                             1                   0              \n",
       "216938 0                             1                   0              \n",
       "216939 0                             1                   0              \n",
       "216940 0                             1                   0              \n",
       "216941 0                             0                   0              \n",
       "216942 0                             0                   0              \n",
       "       race_White ethnicity_Hispanic.or.Latino ethnicity_No.answer.ethnicity\n",
       "1      1          0                            0                            \n",
       "2      1          0                            0                            \n",
       "3      1          0                            0                            \n",
       "4      1          0                            0                            \n",
       "5      1          0                            0                            \n",
       "6      1          0                            0                            \n",
       "7      0          0                            0                            \n",
       "8      1          0                            0                            \n",
       "9      0          0                            0                            \n",
       "10     1          0                            0                            \n",
       "11     0          0                            0                            \n",
       "12     1          0                            0                            \n",
       "13     0          0                            0                            \n",
       "14     1          0                            0                            \n",
       "15     1          0                            0                            \n",
       "16     1          0                            0                            \n",
       "17     1          0                            0                            \n",
       "18     1          0                            0                            \n",
       "19     1          0                            0                            \n",
       "20     1          0                            0                            \n",
       "21     1          0                            0                            \n",
       "22     1          0                            0                            \n",
       "23     1          0                            0                            \n",
       "24     1          0                            0                            \n",
       "25     0          0                            0                            \n",
       "26     1          0                            0                            \n",
       "27     1          0                            0                            \n",
       "28     1          0                            0                            \n",
       "29     1          0                            0                            \n",
       "30     1          0                            0                            \n",
       "⋮      ⋮          ⋮                            ⋮                            \n",
       "216913 0          0                            1                            \n",
       "216914 0          0                            0                            \n",
       "216915 0          0                            0                            \n",
       "216916 0          0                            0                            \n",
       "216917 0          0                            0                            \n",
       "216918 0          1                            0                            \n",
       "216919 0          0                            0                            \n",
       "216920 0          0                            0                            \n",
       "216921 0          1                            0                            \n",
       "216922 0          0                            0                            \n",
       "216923 0          0                            0                            \n",
       "216924 0          0                            0                            \n",
       "216925 0          0                            0                            \n",
       "216926 0          0                            0                            \n",
       "216927 0          0                            1                            \n",
       "216928 0          0                            0                            \n",
       "216929 0          0                            0                            \n",
       "216930 0          0                            0                            \n",
       "216931 0          1                            0                            \n",
       "216932 0          0                            0                            \n",
       "216933 0          0                            0                            \n",
       "216934 0          0                            0                            \n",
       "216935 0          0                            0                            \n",
       "216936 0          0                            0                            \n",
       "216937 0          1                            0                            \n",
       "216938 0          1                            0                            \n",
       "216939 0          1                            0                            \n",
       "216940 0          1                            0                            \n",
       "216941 0          0                            0                            \n",
       "216942 0          0                            0                            \n",
       "       ethnicity_Not.Hispanic.or.Latino ethnicity_Other.ethnicity\n",
       "1      1                                0                        \n",
       "2      1                                0                        \n",
       "3      1                                0                        \n",
       "4      1                                0                        \n",
       "5      1                                0                        \n",
       "6      1                                0                        \n",
       "7      1                                0                        \n",
       "8      1                                0                        \n",
       "9      1                                0                        \n",
       "10     1                                0                        \n",
       "11     1                                0                        \n",
       "12     1                                0                        \n",
       "13     1                                0                        \n",
       "14     1                                0                        \n",
       "15     1                                0                        \n",
       "16     1                                0                        \n",
       "17     1                                0                        \n",
       "18     1                                0                        \n",
       "19     1                                0                        \n",
       "20     1                                0                        \n",
       "21     1                                0                        \n",
       "22     1                                0                        \n",
       "23     1                                0                        \n",
       "24     1                                0                        \n",
       "25     1                                0                        \n",
       "26     1                                0                        \n",
       "27     1                                0                        \n",
       "28     1                                0                        \n",
       "29     1                                0                        \n",
       "30     1                                0                        \n",
       "⋮      ⋮                                ⋮                        \n",
       "216913 0                                0                        \n",
       "216914 1                                0                        \n",
       "216915 0                                1                        \n",
       "216916 1                                0                        \n",
       "216917 1                                0                        \n",
       "216918 0                                0                        \n",
       "216919 1                                0                        \n",
       "216920 1                                0                        \n",
       "216921 0                                0                        \n",
       "216922 1                                0                        \n",
       "216923 1                                0                        \n",
       "216924 1                                0                        \n",
       "216925 1                                0                        \n",
       "216926 1                                0                        \n",
       "216927 0                                0                        \n",
       "216928 1                                0                        \n",
       "216929 1                                0                        \n",
       "216930 1                                0                        \n",
       "216931 0                                0                        \n",
       "216932 1                                0                        \n",
       "216933 1                                0                        \n",
       "216934 1                                0                        \n",
       "216935 1                                0                        \n",
       "216936 1                                0                        \n",
       "216937 0                                0                        \n",
       "216938 0                                0                        \n",
       "216939 0                                0                        \n",
       "216940 0                                0                        \n",
       "216941 1                                0                        \n",
       "216942 1                                0                        "
      ]
     },
     "metadata": {},
     "output_type": "display_data"
    }
   ],
   "source": [
    "colnames(df_sub_1) <- make.names(colnames(df_sub_1))\n",
    "df_sub_1"
   ]
  },
  {
   "cell_type": "markdown",
   "id": "57a34606",
   "metadata": {
    "heading_collapsed": true
   },
   "source": [
    "### Sample file for testing"
   ]
  },
  {
   "cell_type": "code",
   "execution_count": 11,
   "id": "65cf79b1",
   "metadata": {
    "hidden": true
   },
   "outputs": [],
   "source": [
    "# control_patients <- dataset_person_df %>%\n",
    "#     filter(is_HS == 0) %>%\n",
    "#     distinct(person_id)\n",
    "\n",
    "# sampled_patient_ids <- control_patients %>% sample_n(1000)\n",
    "# sample_control <- dataset_person_df %>%\n",
    "#     filter(person_id %in% sampled_patient_ids$person_id)"
   ]
  },
  {
   "cell_type": "code",
   "execution_count": 12,
   "id": "e845337e",
   "metadata": {
    "hidden": true
   },
   "outputs": [],
   "source": [
    "# case_patients <- dataset_person_df %>%\n",
    "#     filter(is_HS == 1) %>%\n",
    "#     distinct(person_id)\n",
    "\n",
    "# sampled_patient_ids <- case_patients %>% sample_n(10)\n",
    "# sample_case <- dataset_person_df %>%\n",
    "#     filter(person_id %in% sampled_patient_ids$person_id)"
   ]
  },
  {
   "cell_type": "code",
   "execution_count": 13,
   "id": "b71f5ba4",
   "metadata": {
    "hidden": true
   },
   "outputs": [],
   "source": [
    "# length(unique(sample_control$person_id))\n",
    "# length(unique(sample_case$person_id))"
   ]
  },
  {
   "cell_type": "code",
   "execution_count": 14,
   "id": "527bd4ad",
   "metadata": {
    "hidden": true
   },
   "outputs": [],
   "source": [
    "# sample <- rbind(sample_control, sample_case)"
   ]
  },
  {
   "cell_type": "markdown",
   "id": "1b910e4a",
   "metadata": {},
   "source": [
    "### Matching"
   ]
  },
  {
   "cell_type": "code",
   "execution_count": 36,
   "id": "3a4ae68b",
   "metadata": {},
   "outputs": [],
   "source": [
    "start_time <- Sys.time()"
   ]
  },
  {
   "cell_type": "code",
   "execution_count": 16,
   "id": "fb3a4192",
   "metadata": {},
   "outputs": [],
   "source": [
    "# # Weighted\n",
    "# m.out0 <- matchit(HS ~ sex + age_last_EHR + race ,\n",
    "#                   data = df_sub,\n",
    "#                   method = \"nearest\", \n",
    "#                   ratio = 10)\n",
    "# #distance = \"glm\","
   ]
  },
  {
   "cell_type": "code",
   "execution_count": 45,
   "id": "83c0ad31",
   "metadata": {},
   "outputs": [],
   "source": [
    "m.out0 <- matchit(HS ~ \n",
    "                    sex_Female + sex_Male + sex_Other.Sex +\n",
    "                    race_Asian + race_Black.or.African.American + \n",
    "                    race_More.than.one.population + race_No.answer.race + \n",
    "                    race_Other.race + race_White +\n",
    "                    ethnicity_Hispanic.or.Latino + ethnicity_No.answer.ethnicity +\n",
    "                    ethnicity_Not.Hispanic.or.Latino + ethnicity_Other.ethnicity +\n",
    "                    age_normalized,\n",
    "                  data = df_sub_1,\n",
    "                  method = \"nearest\", \n",
    "                  ratio = 10)\n"
   ]
  },
  {
   "cell_type": "code",
   "execution_count": 46,
   "id": "c0c44a0d",
   "metadata": {},
   "outputs": [
    {
     "name": "stdout",
     "output_type": "stream",
     "text": [
      "Time difference of 8.726087 mins\n"
     ]
    }
   ],
   "source": [
    "end_time <- Sys.time()\n",
    "\n",
    "# Calculate the time difference\n",
    "time_taken <- end_time - start_time\n",
    "print(time_taken)"
   ]
  },
  {
   "cell_type": "code",
   "execution_count": 47,
   "id": "78fae22f",
   "metadata": {},
   "outputs": [
    {
     "data": {
      "text/plain": [
       "\n",
       "Call:\n",
       "matchit(formula = HS ~ sex_Female + sex_Male + sex_Other.Sex + \n",
       "    race_Asian + race_Black.or.African.American + race_More.than.one.population + \n",
       "    race_No.answer.race + race_Other.race + race_White + ethnicity_Hispanic.or.Latino + \n",
       "    ethnicity_No.answer.ethnicity + ethnicity_Not.Hispanic.or.Latino + \n",
       "    ethnicity_Other.ethnicity + age_normalized, data = df_sub_1, \n",
       "    method = \"nearest\", ratio = 10)\n",
       "\n",
       "Summary of Balance for All Data:\n",
       "                                 Means Treated Means Control Std. Mean Diff.\n",
       "distance                                0.0162        0.0100          0.5690\n",
       "sex_Female                              0.7882        0.6241          0.4017\n",
       "sex_Male                                0.2017        0.3651         -0.4071\n",
       "sex_Other.Sex                           0.0100        0.0108         -0.0072\n",
       "race_Asian                              0.0096        0.0243         -0.1514\n",
       "race_Black.or.African.American          0.3998        0.1837          0.4412\n",
       "race_More.than.one.population           0.0205        0.0165          0.0284\n",
       "race_No.answer.race                     0.1639        0.1866         -0.0614\n",
       "race_Other.race                         0.0205        0.0167          0.0268\n",
       "race_White                              0.3857        0.5721         -0.3830\n",
       "ethnicity_Hispanic.or.Latino            0.1639        0.1805         -0.0450\n",
       "ethnicity_No.answer.ethnicity           0.0265        0.0270         -0.0031\n",
       "ethnicity_Not.Hispanic.or.Latino        0.7964        0.7824          0.0349\n",
       "ethnicity_Other.ethnicity               0.0132        0.0101          0.0271\n",
       "age_normalized                         -0.4026        0.0041         -0.4624\n",
       "                                 Var. Ratio eCDF Mean eCDF Max\n",
       "distance                             1.8495    0.1989   0.3143\n",
       "sex_Female                                .    0.1641   0.1641\n",
       "sex_Male                                  .    0.1634   0.1634\n",
       "sex_Other.Sex                             .    0.0007   0.0007\n",
       "race_Asian                                .    0.0148   0.0148\n",
       "race_Black.or.African.American            .    0.2161   0.2161\n",
       "race_More.than.one.population             .    0.0040   0.0040\n",
       "race_No.answer.race                       .    0.0227   0.0227\n",
       "race_Other.race                           .    0.0038   0.0038\n",
       "race_White                                .    0.1864   0.1864\n",
       "ethnicity_Hispanic.or.Latino              .    0.0166   0.0166\n",
       "ethnicity_No.answer.ethnicity             .    0.0005   0.0005\n",
       "ethnicity_Not.Hispanic.or.Latino          .    0.0140   0.0140\n",
       "ethnicity_Other.ethnicity                 .    0.0031   0.0031\n",
       "age_normalized                       0.7731    0.1007   0.1959\n",
       "\n",
       "Summary of Balance for Matched Data:\n",
       "                                 Means Treated Means Control Std. Mean Diff.\n",
       "distance                                0.0162        0.0162          0.0000\n",
       "sex_Female                              0.7882        0.8016         -0.0328\n",
       "sex_Male                                0.2017        0.1910          0.0268\n",
       "sex_Other.Sex                           0.0100        0.0074          0.0266\n",
       "race_Asian                              0.0096        0.0062          0.0347\n",
       "race_Black.or.African.American          0.3998        0.3997          0.0003\n",
       "race_More.than.one.population           0.0205        0.0180          0.0177\n",
       "race_No.answer.race                     0.1639        0.1536          0.0276\n",
       "race_Other.race                         0.0205        0.0178          0.0190\n",
       "race_White                              0.3857        0.4046         -0.0389\n",
       "ethnicity_Hispanic.or.Latino            0.1639        0.1529          0.0296\n",
       "ethnicity_No.answer.ethnicity           0.0265        0.0205          0.0370\n",
       "ethnicity_Not.Hispanic.or.Latino        0.7964        0.8141         -0.0439\n",
       "ethnicity_Other.ethnicity               0.0132        0.0125          0.0068\n",
       "age_normalized                         -0.4026       -0.3835         -0.0217\n",
       "                                 Var. Ratio eCDF Mean eCDF Max Std. Pair Dist.\n",
       "distance                             1.0005    0.0000   0.0014          0.0002\n",
       "sex_Female                                .    0.0134   0.0134          0.3979\n",
       "sex_Male                                  .    0.0108   0.0108          0.3821\n",
       "sex_Other.Sex                             .    0.0026   0.0026          0.1703\n",
       "race_Asian                                .    0.0034   0.0034          0.1377\n",
       "race_Black.or.African.American            .    0.0001   0.0001          0.2783\n",
       "race_More.than.one.population             .    0.0025   0.0025          0.2526\n",
       "race_No.answer.race                       .    0.0102   0.0102          0.4819\n",
       "race_Other.race                           .    0.0027   0.0027          0.2603\n",
       "race_White                                .    0.0189   0.0189          0.4243\n",
       "ethnicity_Hispanic.or.Latino              .    0.0110   0.0110          0.4935\n",
       "ethnicity_No.answer.ethnicity             .    0.0059   0.0059          0.2644\n",
       "ethnicity_Not.Hispanic.or.Latino          .    0.0177   0.0177          0.5456\n",
       "ethnicity_Other.ethnicity                 .    0.0008   0.0008          0.2169\n",
       "age_normalized                       0.9104    0.0098   0.0207          0.4171\n",
       "\n",
       "Sample Sizes:\n",
       "          Control Treated\n",
       "All        214751    2191\n",
       "Matched     21910    2191\n",
       "Unmatched  192841       0\n",
       "Discarded       0       0\n"
      ]
     },
     "metadata": {},
     "output_type": "display_data"
    }
   ],
   "source": [
    "summary(m.out0)"
   ]
  },
  {
   "cell_type": "code",
   "execution_count": 20,
   "id": "d9b96c8e",
   "metadata": {},
   "outputs": [
    {
     "data": {
      "text/plain": [
       "\n",
       "Call:\n",
       "matchit(formula = HS ~ sex + age_last_EHR + race, data = df_sub, \n",
       "    method = \"nearest\", ratio = 10)\n",
       "\n",
       "Summary of Balance for All Data:\n",
       "                              Means Treated Means Control Std. Mean Diff.\n",
       "distance                             0.0161        0.0100          0.5676\n",
       "sexFemale                            0.7882        0.6241          0.4017\n",
       "sexMale                              0.2017        0.3651         -0.4071\n",
       "sexOthers                            0.0100        0.0108         -0.0072\n",
       "age_last_EHR                        48.6079       55.4036         -0.4624\n",
       "raceAsian                            0.0096        0.0243         -0.1514\n",
       "raceBlack or African American        0.3998        0.1837          0.4412\n",
       "raceMore than one population         0.0205        0.0165          0.0284\n",
       "raceNo answer                        0.1639        0.1866         -0.0614\n",
       "raceOthers                           0.0205        0.0167          0.0268\n",
       "raceWhite                            0.3857        0.5721         -0.3830\n",
       "                              Var. Ratio eCDF Mean eCDF Max\n",
       "distance                          1.8425    0.1971   0.3142\n",
       "sexFemale                              .    0.1641   0.1641\n",
       "sexMale                                .    0.1634   0.1634\n",
       "sexOthers                              .    0.0007   0.0007\n",
       "age_last_EHR                      0.7731    0.1007   0.1959\n",
       "raceAsian                              .    0.0148   0.0148\n",
       "raceBlack or African American          .    0.2161   0.2161\n",
       "raceMore than one population           .    0.0040   0.0040\n",
       "raceNo answer                          .    0.0227   0.0227\n",
       "raceOthers                             .    0.0038   0.0038\n",
       "raceWhite                              .    0.1864   0.1864\n",
       "\n",
       "Summary of Balance for Matched Data:\n",
       "                              Means Treated Means Control Std. Mean Diff.\n",
       "distance                             0.0161        0.0161          0.0000\n",
       "sexFemale                            0.7882        0.8020         -0.0337\n",
       "sexMale                              0.2017        0.1893          0.0309\n",
       "sexOthers                            0.0100        0.0087          0.0137\n",
       "age_last_EHR                        48.6079       48.5852          0.0015\n",
       "raceAsian                            0.0096        0.0054          0.0431\n",
       "raceBlack or African American        0.3998        0.3899          0.0202\n",
       "raceMore than one population         0.0205        0.0188          0.0122\n",
       "raceNo answer                        0.1639        0.1601          0.0101\n",
       "raceOthers                           0.0205        0.0174          0.0219\n",
       "raceWhite                            0.3857        0.4084         -0.0466\n",
       "                              Var. Ratio eCDF Mean eCDF Max Std. Pair Dist.\n",
       "distance                          1.0005    0.0000   0.0014          0.0002\n",
       "sexFemale                              .    0.0138   0.0138          0.3843\n",
       "sexMale                                .    0.0124   0.0124          0.3671\n",
       "sexOthers                              .    0.0014   0.0014          0.1785\n",
       "age_last_EHR                      0.9285    0.0065   0.0180          0.3782\n",
       "raceAsian                              .    0.0042   0.0042          0.1237\n",
       "raceBlack or African American          .    0.0099   0.0099          0.2559\n",
       "raceMore than one population           .    0.0017   0.0017          0.2504\n",
       "raceNo answer                          .    0.0037   0.0037          0.4698\n",
       "raceOthers                             .    0.0031   0.0031          0.2439\n",
       "raceWhite                              .    0.0227   0.0227          0.4209\n",
       "\n",
       "Sample Sizes:\n",
       "          Control Treated\n",
       "All        214751    2191\n",
       "Matched     21910    2191\n",
       "Unmatched  192841       0\n",
       "Discarded       0       0\n"
      ]
     },
     "metadata": {},
     "output_type": "display_data"
    }
   ],
   "source": [
    "summary(m.out0)"
   ]
  },
  {
   "cell_type": "markdown",
   "id": "1903576a",
   "metadata": {
    "heading_collapsed": true
   },
   "source": [
    "### Method - glm"
   ]
  },
  {
   "cell_type": "code",
   "execution_count": 135,
   "id": "446cb342",
   "metadata": {
    "hidden": true
   },
   "outputs": [],
   "source": [
    "# Weighted\n",
    "m.out1 <- matchit(HS ~ sex + age_last_EHR + race ,\n",
    "                  data = df_sub,\n",
    "                  method = \"nearest\", \n",
    "                  distance = \"glm\",\n",
    "                  ratio = 10)\n"
   ]
  },
  {
   "cell_type": "code",
   "execution_count": 136,
   "id": "c1e527c7",
   "metadata": {
    "hidden": true
   },
   "outputs": [
    {
     "data": {
      "text/plain": [
       "\n",
       "Call:\n",
       "matchit(formula = HS ~ sex + age_last_EHR + race, data = df_sub, \n",
       "    method = \"nearest\", distance = \"glm\", ratio = 10)\n",
       "\n",
       "Summary of Balance for All Data:\n",
       "                              Means Treated Means Control Std. Mean Diff.\n",
       "distance                             0.0161        0.0100          0.5676\n",
       "sexFemale                            0.7882        0.6241          0.4017\n",
       "sexMale                              0.2017        0.3651         -0.4071\n",
       "sexOthers                            0.0100        0.0108         -0.0072\n",
       "age_last_EHR                        48.6079       55.4036         -0.4624\n",
       "raceAsian                            0.0096        0.0243         -0.1514\n",
       "raceBlack or African American        0.3998        0.1837          0.4412\n",
       "raceMore than one population         0.0205        0.0165          0.0284\n",
       "raceNo answer                        0.1639        0.1866         -0.0614\n",
       "raceOthers                           0.0205        0.0167          0.0268\n",
       "raceWhite                            0.3857        0.5721         -0.3830\n",
       "                              Var. Ratio eCDF Mean eCDF Max\n",
       "distance                          1.8425    0.1971   0.3142\n",
       "sexFemale                              .    0.1641   0.1641\n",
       "sexMale                                .    0.1634   0.1634\n",
       "sexOthers                              .    0.0007   0.0007\n",
       "age_last_EHR                      0.7731    0.1007   0.1959\n",
       "raceAsian                              .    0.0148   0.0148\n",
       "raceBlack or African American          .    0.2161   0.2161\n",
       "raceMore than one population           .    0.0040   0.0040\n",
       "raceNo answer                          .    0.0227   0.0227\n",
       "raceOthers                             .    0.0038   0.0038\n",
       "raceWhite                              .    0.1864   0.1864\n",
       "\n",
       "Summary of Balance for Matched Data:\n",
       "                              Means Treated Means Control Std. Mean Diff.\n",
       "distance                             0.0161        0.0161          0.0000\n",
       "sexFemale                            0.7882        0.8020         -0.0337\n",
       "sexMale                              0.2017        0.1893          0.0309\n",
       "sexOthers                            0.0100        0.0087          0.0137\n",
       "age_last_EHR                        48.6079       48.5852          0.0015\n",
       "raceAsian                            0.0096        0.0054          0.0431\n",
       "raceBlack or African American        0.3998        0.3899          0.0202\n",
       "raceMore than one population         0.0205        0.0188          0.0122\n",
       "raceNo answer                        0.1639        0.1601          0.0101\n",
       "raceOthers                           0.0205        0.0174          0.0219\n",
       "raceWhite                            0.3857        0.4084         -0.0466\n",
       "                              Var. Ratio eCDF Mean eCDF Max Std. Pair Dist.\n",
       "distance                          1.0005    0.0000   0.0014          0.0002\n",
       "sexFemale                              .    0.0138   0.0138          0.3843\n",
       "sexMale                                .    0.0124   0.0124          0.3671\n",
       "sexOthers                              .    0.0014   0.0014          0.1785\n",
       "age_last_EHR                      0.9285    0.0065   0.0180          0.3782\n",
       "raceAsian                              .    0.0042   0.0042          0.1237\n",
       "raceBlack or African American          .    0.0099   0.0099          0.2559\n",
       "raceMore than one population           .    0.0017   0.0017          0.2504\n",
       "raceNo answer                          .    0.0037   0.0037          0.4698\n",
       "raceOthers                             .    0.0031   0.0031          0.2439\n",
       "raceWhite                              .    0.0227   0.0227          0.4209\n",
       "\n",
       "Sample Sizes:\n",
       "          Control Treated\n",
       "All        214751    2191\n",
       "Matched     21910    2191\n",
       "Unmatched  192841       0\n",
       "Discarded       0       0\n"
      ]
     },
     "metadata": {},
     "output_type": "display_data"
    }
   ],
   "source": [
    "summary(m.out1)"
   ]
  },
  {
   "cell_type": "code",
   "execution_count": 137,
   "id": "b7bf8e05",
   "metadata": {
    "hidden": true
   },
   "outputs": [],
   "source": [
    "m.data1 <- match.data(m.out1)"
   ]
  },
  {
   "cell_type": "code",
   "execution_count": 138,
   "id": "9191161b",
   "metadata": {
    "hidden": true
   },
   "outputs": [],
   "source": [
    "a <- m.data1 %>% select('person_id') %>% arrange('person_id')\n",
    "b <- m.data %>% select('person_id') %>% arrange('person_id')\n",
    "c <- matched_data %>% select('person_id') %>% arrange('person_id')"
   ]
  },
  {
   "cell_type": "code",
   "execution_count": 139,
   "id": "2d0e8504",
   "metadata": {
    "hidden": true
   },
   "outputs": [
    {
     "data": {
      "text/html": [
       "TRUE"
      ],
      "text/latex": [
       "TRUE"
      ],
      "text/markdown": [
       "TRUE"
      ],
      "text/plain": [
       "[1] TRUE"
      ]
     },
     "metadata": {},
     "output_type": "display_data"
    }
   ],
   "source": [
    "identical(c, a)"
   ]
  },
  {
   "cell_type": "markdown",
   "id": "220c83a1",
   "metadata": {
    "heading_collapsed": true
   },
   "source": [
    "### Method 2"
   ]
  },
  {
   "cell_type": "code",
   "execution_count": 49,
   "id": "5c7ad009",
   "metadata": {
    "hidden": true
   },
   "outputs": [],
   "source": [
    "## to speed up, follow here https://stackoverflow.com/questions/29672088/speedup-matchit \n",
    "#step 1: calculate glm distance\n",
    "df_sub$fit <- fitted(glm(HS ~  sex + age_last_EHR + race , \n",
    "                                     data = df_sub, family = \"binomial\"))"
   ]
  },
  {
   "cell_type": "code",
   "execution_count": 51,
   "id": "096db775",
   "metadata": {
    "hidden": true
   },
   "outputs": [],
   "source": [
    "#step 2: only keep id, distance, target\n",
    "trimmed_data <- select(df_sub, person_id, fit, HS)\n",
    "# Calculate the time difference"
   ]
  },
  {
   "cell_type": "code",
   "execution_count": 52,
   "id": "d4d2a61b",
   "metadata": {
    "hidden": true
   },
   "outputs": [
    {
     "name": "stdout",
     "output_type": "stream",
     "text": [
      "Time difference of 1.529838 mins\n"
     ]
    }
   ],
   "source": [
    "#step 3: 1:10 match based on distance\n",
    "start_time <- Sys.time()\n",
    "m.out <- matchit(HS ~ person_id, data = trimmed_data, method = \"nearest\", distance = trimmed_data$fit,ratio=10)\n",
    "# Calculate the time difference\n",
    "end_time <- Sys.time()\n",
    "time_taken <- end_time - start_time\n",
    "print(time_taken)"
   ]
  },
  {
   "cell_type": "code",
   "execution_count": 53,
   "id": "d6f6fb12",
   "metadata": {
    "hidden": true
   },
   "outputs": [],
   "source": [
    "matched_ids_etc <- match.data(m.out, data = trimmed_data)"
   ]
  },
  {
   "cell_type": "code",
   "execution_count": 54,
   "id": "3819e6ef",
   "metadata": {
    "hidden": true
   },
   "outputs": [],
   "source": [
    "matched_ids <- select(matched_ids_etc, person_id)"
   ]
  },
  {
   "cell_type": "code",
   "execution_count": 98,
   "id": "61a17eac",
   "metadata": {
    "hidden": true
   },
   "outputs": [
    {
     "name": "stderr",
     "output_type": "stream",
     "text": [
      "\u001b[1m\u001b[22mJoining with `by = join_by(person_id)`\n"
     ]
    }
   ],
   "source": [
    "matched_data <- matched_ids %>% inner_join(df_sub)#case and matched control"
   ]
  },
  {
   "cell_type": "markdown",
   "id": "b761f247",
   "metadata": {},
   "source": [
    "### Check balance"
   ]
  },
  {
   "cell_type": "code",
   "execution_count": 49,
   "id": "0a1eab13",
   "metadata": {},
   "outputs": [
    {
     "data": {
      "image/png": "[encoded data removed]",
      "text/plain": [
       "plot without title"
      ]
     },
     "metadata": {
      "image/png": {
       "height": 420,
       "width": 420
      }
     },
     "output_type": "display_data"
    }
   ],
   "source": [
    "plot(summary(m.out0, pair.dist = FALSE))"
   ]
  },
  {
   "cell_type": "code",
   "execution_count": 82,
   "id": "4a681626",
   "metadata": {},
   "outputs": [
    {
     "data": {
      "image/png": "[encoded data removed]",
      "text/plain": [
       "plot without title"
      ]
     },
     "metadata": {
      "image/png": {
       "height": 420,
       "width": 420
      }
     },
     "output_type": "display_data"
    }
   ],
   "source": [
    "plot(summary(m.out0, pair.dist = FALSE))"
   ]
  },
  {
   "cell_type": "code",
   "execution_count": 83,
   "id": "6a0d5481",
   "metadata": {},
   "outputs": [
    {
     "data": {
      "image/png": "[encoded data removed]",
      "text/plain": [
       "plot without title"
      ]
     },
     "metadata": {
      "image/png": {
       "height": 420,
       "width": 420
      }
     },
     "output_type": "display_data"
    }
   ],
   "source": [
    "plot(summary(m.out1, pair.dist = FALSE))"
   ]
  },
  {
   "cell_type": "code",
   "execution_count": 55,
   "id": "74d4ccf7",
   "metadata": {},
   "outputs": [
    {
     "data": {
      "image/png": "[encoded data removed]",
      "text/plain": [
       "plot without title"
      ]
     },
     "metadata": {
      "image/png": {
       "height": 420,
       "width": 420
      }
     },
     "output_type": "display_data"
    }
   ],
   "source": [
    "# plot(m.out0, type = \"density\", interactive = FALSE,\n",
    "#      which.xs = ~age_normalized + race + sex)\n",
    "# Generate density plot for age_normalized\n",
    "plot(m.out0, type = \"density\", which.xs = ~age_normalized)\n",
    "\n",
    "# Generate bar plots for each dummy variable\n",
    "dummy_vars <- c(\"sex_Female\", \"sex_Male\", \"sex_Other.Sex\",\n",
    "                \"race_Asian\", \"race_Black.or.African.American\",\n",
    "                \"race_More.than.one.population\", \"race_No.answer.race\",\n",
    "                \"race_Other.race\", \"race_White\",\n",
    "                \"ethnicity_Hispanic.or.Latino\", \"ethnicity_No.answer.ethnicity\",\n",
    "                \"ethnicity_Not.Hispanic.or.Latino\", \"ethnicity_Other.ethnicity\")\n",
    "\n",
    "# for (var in dummy_vars) {\n",
    "#   plot(m.out0, type = \"density\", which.xs = as.formula(paste(\"~\", var)))\n",
    "# }\n",
    "for (var in dummy_vars) {\n",
    "  png(paste0(\"matchit_plot_\", var, \".png\"), width = 800, height = 600)\n",
    "  plot(m.out0, type = \"density\", which.xs = as.formula(paste(\"~\", var)))\n",
    "  dev.off()\n",
    "}"
   ]
  },
  {
   "cell_type": "code",
   "execution_count": 72,
   "id": "dc51618e",
   "metadata": {},
   "outputs": [
    {
     "data": {
      "image/png": "[encoded data removed]",
      "text/plain": [
       "plot without title"
      ]
     },
     "metadata": {
      "image/png": {
       "height": 420,
       "width": 420
      }
     },
     "output_type": "display_data"
    }
   ],
   "source": [
    "plot(m.out1, type = \"density\", interactive = FALSE,\n",
    "     which.xs = ~age_last_EHR + race + sex)"
   ]
  },
  {
   "cell_type": "markdown",
   "id": "de9fa517",
   "metadata": {},
   "source": [
    "### Retrieve data"
   ]
  },
  {
   "cell_type": "code",
   "execution_count": 56,
   "id": "b95a3e83",
   "metadata": {},
   "outputs": [],
   "source": [
    "m.data <- match.data(m.out0,distance='pscore')\n",
    "# Get the person_ids of the matched observations\n",
    "matched_person_ids <- m.data$person_id\n",
    "\n",
    "# Write the matched_person_ids to a CSV file\n",
    "write.csv(matched_person_ids, \"matched_person_ids.csv\", row.names = FALSE)"
   ]
  },
  {
   "cell_type": "markdown",
   "id": "801a5942",
   "metadata": {},
   "source": [
    "### Match control for HS female"
   ]
  },
  {
   "cell_type": "code",
   "execution_count": 31,
   "id": "3fbdd01a",
   "metadata": {},
   "outputs": [],
   "source": [
    "df_f=subset(df_sub_1,sex_Female== 1)"
   ]
  },
  {
   "cell_type": "code",
   "execution_count": 32,
   "id": "ea5e93ed",
   "metadata": {},
   "outputs": [
    {
     "data": {
      "text/html": [
       "<table class=\"dataframe\">\n",
       "<caption>A data.frame: 6 × 18</caption>\n",
       "<thead>\n",
       "\t<tr><th></th><th scope=col>person_id</th><th scope=col>sex_at_birth</th><th scope=col>HS</th><th scope=col>age_last_EHR</th><th scope=col>age_normalized</th><th scope=col>sex_Female</th><th scope=col>sex_Male</th><th scope=col>sex_Other.Sex</th><th scope=col>race_Asian</th><th scope=col>race_Black.or.African.American</th><th scope=col>race_More.than.one.population</th><th scope=col>race_No.answer.race</th><th scope=col>race_Other.race</th><th scope=col>race_White</th><th scope=col>ethnicity_Hispanic.or.Latino</th><th scope=col>ethnicity_No.answer.ethnicity</th><th scope=col>ethnicity_Not.Hispanic.or.Latino</th><th scope=col>ethnicity_Other.ethnicity</th></tr>\n",
       "\t<tr><th></th><th scope=col>&lt;int&gt;</th><th scope=col>&lt;chr&gt;</th><th scope=col>&lt;int&gt;</th><th scope=col>&lt;dbl&gt;</th><th scope=col>&lt;dbl&gt;</th><th scope=col>&lt;int&gt;</th><th scope=col>&lt;int&gt;</th><th scope=col>&lt;int&gt;</th><th scope=col>&lt;int&gt;</th><th scope=col>&lt;int&gt;</th><th scope=col>&lt;int&gt;</th><th scope=col>&lt;int&gt;</th><th scope=col>&lt;int&gt;</th><th scope=col>&lt;int&gt;</th><th scope=col>&lt;int&gt;</th><th scope=col>&lt;int&gt;</th><th scope=col>&lt;int&gt;</th><th scope=col>&lt;int&gt;</th></tr>\n",
       "</thead>\n",
       "<tbody>\n",
       "\t<tr><th scope=row>1</th><td>7189522</td><td>Female</td><td>0</td><td>66.06849</td><td> 0.6423234</td><td>1</td><td>0</td><td>0</td><td>0</td><td>0</td><td>0</td><td>0</td><td>0</td><td>1</td><td>0</td><td>0</td><td>1</td><td>0</td></tr>\n",
       "\t<tr><th scope=row>2</th><td>9306478</td><td>Female</td><td>0</td><td>64.50137</td><td> 0.5485422</td><td>1</td><td>0</td><td>0</td><td>0</td><td>0</td><td>0</td><td>0</td><td>0</td><td>1</td><td>0</td><td>0</td><td>1</td><td>0</td></tr>\n",
       "\t<tr><th scope=row>6</th><td>3161593</td><td>Female</td><td>0</td><td>57.76438</td><td> 0.1453815</td><td>1</td><td>0</td><td>0</td><td>0</td><td>0</td><td>0</td><td>0</td><td>0</td><td>1</td><td>0</td><td>0</td><td>1</td><td>0</td></tr>\n",
       "\t<tr><th scope=row>9</th><td>1706475</td><td>Female</td><td>0</td><td>66.98630</td><td> 0.6972477</td><td>1</td><td>0</td><td>0</td><td>0</td><td>1</td><td>0</td><td>0</td><td>0</td><td>0</td><td>0</td><td>0</td><td>1</td><td>0</td></tr>\n",
       "\t<tr><th scope=row>10</th><td>2395521</td><td>Female</td><td>0</td><td>49.05479</td><td>-0.3758254</td><td>1</td><td>0</td><td>0</td><td>0</td><td>0</td><td>0</td><td>0</td><td>0</td><td>1</td><td>0</td><td>0</td><td>1</td><td>0</td></tr>\n",
       "\t<tr><th scope=row>11</th><td>2563639</td><td>Female</td><td>0</td><td>36.98904</td><td>-1.0978748</td><td>1</td><td>0</td><td>0</td><td>0</td><td>1</td><td>0</td><td>0</td><td>0</td><td>0</td><td>0</td><td>0</td><td>1</td><td>0</td></tr>\n",
       "</tbody>\n",
       "</table>\n"
      ],
      "text/latex": [
       "A data.frame: 6 × 18\n",
       "\\begin{tabular}{r|llllllllllllllllll}\n",
       "  & person\\_id & sex\\_at\\_birth & HS & age\\_last\\_EHR & age\\_normalized & sex\\_Female & sex\\_Male & sex\\_Other.Sex & race\\_Asian & race\\_Black.or.African.American & race\\_More.than.one.population & race\\_No.answer.race & race\\_Other.race & race\\_White & ethnicity\\_Hispanic.or.Latino & ethnicity\\_No.answer.ethnicity & ethnicity\\_Not.Hispanic.or.Latino & ethnicity\\_Other.ethnicity\\\\\n",
       "  & <int> & <chr> & <int> & <dbl> & <dbl> & <int> & <int> & <int> & <int> & <int> & <int> & <int> & <int> & <int> & <int> & <int> & <int> & <int>\\\\\n",
       "\\hline\n",
       "\t1 & 7189522 & Female & 0 & 66.06849 &  0.6423234 & 1 & 0 & 0 & 0 & 0 & 0 & 0 & 0 & 1 & 0 & 0 & 1 & 0\\\\\n",
       "\t2 & 9306478 & Female & 0 & 64.50137 &  0.5485422 & 1 & 0 & 0 & 0 & 0 & 0 & 0 & 0 & 1 & 0 & 0 & 1 & 0\\\\\n",
       "\t6 & 3161593 & Female & 0 & 57.76438 &  0.1453815 & 1 & 0 & 0 & 0 & 0 & 0 & 0 & 0 & 1 & 0 & 0 & 1 & 0\\\\\n",
       "\t9 & 1706475 & Female & 0 & 66.98630 &  0.6972477 & 1 & 0 & 0 & 0 & 1 & 0 & 0 & 0 & 0 & 0 & 0 & 1 & 0\\\\\n",
       "\t10 & 2395521 & Female & 0 & 49.05479 & -0.3758254 & 1 & 0 & 0 & 0 & 0 & 0 & 0 & 0 & 1 & 0 & 0 & 1 & 0\\\\\n",
       "\t11 & 2563639 & Female & 0 & 36.98904 & -1.0978748 & 1 & 0 & 0 & 0 & 1 & 0 & 0 & 0 & 0 & 0 & 0 & 1 & 0\\\\\n",
       "\\end{tabular}\n"
      ],
      "text/markdown": [
       "\n",
       "A data.frame: 6 × 18\n",
       "\n",
       "| <!--/--> | person_id &lt;int&gt; | sex_at_birth &lt;chr&gt; | HS &lt;int&gt; | age_last_EHR &lt;dbl&gt; | age_normalized &lt;dbl&gt; | sex_Female &lt;int&gt; | sex_Male &lt;int&gt; | sex_Other.Sex &lt;int&gt; | race_Asian &lt;int&gt; | race_Black.or.African.American &lt;int&gt; | race_More.than.one.population &lt;int&gt; | race_No.answer.race &lt;int&gt; | race_Other.race &lt;int&gt; | race_White &lt;int&gt; | ethnicity_Hispanic.or.Latino &lt;int&gt; | ethnicity_No.answer.ethnicity &lt;int&gt; | ethnicity_Not.Hispanic.or.Latino &lt;int&gt; | ethnicity_Other.ethnicity &lt;int&gt; |\n",
       "|---|---|---|---|---|---|---|---|---|---|---|---|---|---|---|---|---|---|---|\n",
       "| 1 | 7189522 | Female | 0 | 66.06849 |  0.6423234 | 1 | 0 | 0 | 0 | 0 | 0 | 0 | 0 | 1 | 0 | 0 | 1 | 0 |\n",
       "| 2 | 9306478 | Female | 0 | 64.50137 |  0.5485422 | 1 | 0 | 0 | 0 | 0 | 0 | 0 | 0 | 1 | 0 | 0 | 1 | 0 |\n",
       "| 6 | 3161593 | Female | 0 | 57.76438 |  0.1453815 | 1 | 0 | 0 | 0 | 0 | 0 | 0 | 0 | 1 | 0 | 0 | 1 | 0 |\n",
       "| 9 | 1706475 | Female | 0 | 66.98630 |  0.6972477 | 1 | 0 | 0 | 0 | 1 | 0 | 0 | 0 | 0 | 0 | 0 | 1 | 0 |\n",
       "| 10 | 2395521 | Female | 0 | 49.05479 | -0.3758254 | 1 | 0 | 0 | 0 | 0 | 0 | 0 | 0 | 1 | 0 | 0 | 1 | 0 |\n",
       "| 11 | 2563639 | Female | 0 | 36.98904 | -1.0978748 | 1 | 0 | 0 | 0 | 1 | 0 | 0 | 0 | 0 | 0 | 0 | 1 | 0 |\n",
       "\n"
      ],
      "text/plain": [
       "   person_id sex_at_birth HS age_last_EHR age_normalized sex_Female sex_Male\n",
       "1  7189522   Female       0  66.06849      0.6423234     1          0       \n",
       "2  9306478   Female       0  64.50137      0.5485422     1          0       \n",
       "6  3161593   Female       0  57.76438      0.1453815     1          0       \n",
       "9  1706475   Female       0  66.98630      0.6972477     1          0       \n",
       "10 2395521   Female       0  49.05479     -0.3758254     1          0       \n",
       "11 2563639   Female       0  36.98904     -1.0978748     1          0       \n",
       "   sex_Other.Sex race_Asian race_Black.or.African.American\n",
       "1  0             0          0                             \n",
       "2  0             0          0                             \n",
       "6  0             0          0                             \n",
       "9  0             0          1                             \n",
       "10 0             0          0                             \n",
       "11 0             0          1                             \n",
       "   race_More.than.one.population race_No.answer.race race_Other.race race_White\n",
       "1  0                             0                   0               1         \n",
       "2  0                             0                   0               1         \n",
       "6  0                             0                   0               1         \n",
       "9  0                             0                   0               0         \n",
       "10 0                             0                   0               1         \n",
       "11 0                             0                   0               0         \n",
       "   ethnicity_Hispanic.or.Latino ethnicity_No.answer.ethnicity\n",
       "1  0                            0                            \n",
       "2  0                            0                            \n",
       "6  0                            0                            \n",
       "9  0                            0                            \n",
       "10 0                            0                            \n",
       "11 0                            0                            \n",
       "   ethnicity_Not.Hispanic.or.Latino ethnicity_Other.ethnicity\n",
       "1  1                                0                        \n",
       "2  1                                0                        \n",
       "6  1                                0                        \n",
       "9  1                                0                        \n",
       "10 1                                0                        \n",
       "11 1                                0                        "
      ]
     },
     "metadata": {},
     "output_type": "display_data"
    }
   ],
   "source": [
    "head(df_f)"
   ]
  },
  {
   "cell_type": "code",
   "execution_count": 33,
   "id": "ae47ed4f",
   "metadata": {},
   "outputs": [],
   "source": [
    "# m.outf <- matchit(HS ~  age_last_EHR + race ,\n",
    "#                   data = df_f,\n",
    "#                   method = \"nearest\", \n",
    "#                   ratio = 10)\n",
    "\n",
    "m.outf <- matchit(HS ~ \n",
    "                    race_Asian + race_Black.or.African.American + \n",
    "                    race_More.than.one.population + race_No.answer.race + \n",
    "                    race_Other.race + race_White +\n",
    "                    ethnicity_Hispanic.or.Latino + ethnicity_No.answer.ethnicity +\n",
    "                    ethnicity_Not.Hispanic.or.Latino + ethnicity_Other.ethnicity +\n",
    "                    age_normalized,\n",
    "                  data = df_f,\n",
    "                  method = \"nearest\", \n",
    "                  ratio = 10)\n"
   ]
  },
  {
   "cell_type": "code",
   "execution_count": 34,
   "id": "ad651d37",
   "metadata": {},
   "outputs": [
    {
     "data": {
      "text/plain": [
       "\n",
       "Call:\n",
       "matchit(formula = HS ~ race_Asian + race_Black.or.African.American + \n",
       "    race_More.than.one.population + race_No.answer.race + race_Other.race + \n",
       "    race_White + ethnicity_Hispanic.or.Latino + ethnicity_No.answer.ethnicity + \n",
       "    ethnicity_Not.Hispanic.or.Latino + ethnicity_Other.ethnicity + \n",
       "    age_normalized, data = df_f, method = \"nearest\", ratio = 10)\n",
       "\n",
       "Summary of Balance for All Data:\n",
       "                                 Means Treated Means Control Std. Mean Diff.\n",
       "distance                                0.0185        0.0126          0.5214\n",
       "race_Asian                              0.0081        0.0248         -0.1865\n",
       "race_Black.or.African.American          0.3972        0.1848          0.4342\n",
       "race_More.than.one.population           0.0220        0.0182          0.0257\n",
       "race_No.answer.race                     0.1668        0.1965         -0.0798\n",
       "race_Other.race                         0.0208        0.0156          0.0364\n",
       "race_White                              0.3851        0.5600         -0.3595\n",
       "ethnicity_Hispanic.or.Latino            0.1754        0.2028         -0.0719\n",
       "ethnicity_No.answer.ethnicity           0.0185        0.0162          0.0171\n",
       "ethnicity_Not.Hispanic.or.Latino        0.7921        0.7711          0.0518\n",
       "ethnicity_Other.ethnicity               0.0139        0.0099          0.0343\n",
       "age_normalized                         -0.4810       -0.0975         -0.4417\n",
       "                                 Var. Ratio eCDF Mean eCDF Max\n",
       "distance                             1.6368    0.1754   0.2553\n",
       "race_Asian                                .    0.0167   0.0167\n",
       "race_Black.or.African.American            .    0.2124   0.2124\n",
       "race_More.than.one.population             .    0.0038   0.0038\n",
       "race_No.answer.race                       .    0.0298   0.0298\n",
       "race_Other.race                           .    0.0052   0.0052\n",
       "race_White                                .    0.1749   0.1749\n",
       "ethnicity_Hispanic.or.Latino              .    0.0273   0.0273\n",
       "ethnicity_No.answer.ethnicity             .    0.0023   0.0023\n",
       "ethnicity_Not.Hispanic.or.Latino          .    0.0210   0.0210\n",
       "ethnicity_Other.ethnicity                 .    0.0040   0.0040\n",
       "age_normalized                       0.7523    0.0978   0.1910\n",
       "\n",
       "Summary of Balance for Matched Data:\n",
       "                                 Means Treated Means Control Std. Mean Diff.\n",
       "distance                                0.0185        0.0185          0.0000\n",
       "race_Asian                              0.0081        0.0040          0.0458\n",
       "race_Black.or.African.American          0.3972        0.3954          0.0038\n",
       "race_More.than.one.population           0.0220        0.0188          0.0217\n",
       "race_No.answer.race                     0.1668        0.1598          0.0186\n",
       "race_Other.race                         0.0208        0.0183          0.0178\n",
       "race_White                              0.3851        0.4037         -0.0383\n",
       "ethnicity_Hispanic.or.Latino            0.1754        0.1684          0.0184\n",
       "ethnicity_No.answer.ethnicity           0.0185        0.0150          0.0262\n",
       "ethnicity_Not.Hispanic.or.Latino        0.7921        0.8047         -0.0311\n",
       "ethnicity_Other.ethnicity               0.0139        0.0118          0.0178\n",
       "age_normalized                         -0.4810       -0.4873          0.0072\n",
       "                                 Var. Ratio eCDF Mean eCDF Max Std. Pair Dist.\n",
       "distance                             1.0006    0.0000   0.0017          0.0002\n",
       "race_Asian                                .    0.0041   0.0041          0.0807\n",
       "race_Black.or.African.American            .    0.0019   0.0019          0.1595\n",
       "race_More.than.one.population             .    0.0032   0.0032          0.2459\n",
       "race_No.answer.race                       .    0.0069   0.0069          0.4312\n",
       "race_Other.race                           .    0.0025   0.0025          0.2570\n",
       "race_White                                .    0.0186   0.0186          0.3451\n",
       "ethnicity_Hispanic.or.Latino              .    0.0070   0.0070          0.4584\n",
       "ethnicity_No.answer.ethnicity             .    0.0035   0.0035          0.2177\n",
       "ethnicity_Not.Hispanic.or.Latino          .    0.0126   0.0126          0.5031\n",
       "ethnicity_Other.ethnicity                 .    0.0021   0.0021          0.2068\n",
       "age_normalized                       0.9541    0.0042   0.0165          0.2903\n",
       "\n",
       "Sample Sizes:\n",
       "          Control Treated\n",
       "All        134030    1727\n",
       "Matched     17270    1727\n",
       "Unmatched  116760       0\n",
       "Discarded       0       0\n"
      ]
     },
     "metadata": {},
     "output_type": "display_data"
    }
   ],
   "source": [
    "summary(m.outf)"
   ]
  },
  {
   "cell_type": "code",
   "execution_count": 35,
   "id": "181b1aba",
   "metadata": {},
   "outputs": [
    {
     "data": {
      "image/png": "[encoded data removed]",
      "text/plain": [
       "plot without title"
      ]
     },
     "metadata": {
      "image/png": {
       "height": 420,
       "width": 420
      }
     },
     "output_type": "display_data"
    }
   ],
   "source": [
    "plot(summary(m.outf, pair.dist = FALSE))"
   ]
  },
  {
   "cell_type": "code",
   "execution_count": 39,
   "id": "d99ae6f5",
   "metadata": {},
   "outputs": [
    {
     "data": {
      "image/png": "[encoded data removed]",
      "text/plain": [
       "plot without title"
      ]
     },
     "metadata": {
      "image/png": {
       "height": 420,
       "width": 420
      }
     },
     "output_type": "display_data"
    },
    {
     "data": {
      "image/png": "[encoded data removed]",
      "text/plain": [
       "plot without title"
      ]
     },
     "metadata": {
      "image/png": {
       "height": 420,
       "width": 420
      }
     },
     "output_type": "display_data"
    },
    {
     "data": {
      "image/png": "[encoded data removed]",
      "text/plain": [
       "plot without title"
      ]
     },
     "metadata": {
      "image/png": {
       "height": 420,
       "width": 420
      }
     },
     "output_type": "display_data"
    },
    {
     "data": {
      "image/png": "[encoded data removed]",
      "text/plain": [
       "plot without title"
      ]
     },
     "metadata": {
      "image/png": {
       "height": 420,
       "width": 420
      }
     },
     "output_type": "display_data"
    },
    {
     "data": {
      "image/png": "[encoded data removed]",
      "text/plain": [
       "plot without title"
      ]
     },
     "metadata": {
      "image/png": {
       "height": 420,
       "width": 420
      }
     },
     "output_type": "display_data"
    },
    {
     "data": {
      "image/png": "[encoded data removed]",
      "text/plain": [
       "plot without title"
      ]
     },
     "metadata": {
      "image/png": {
       "height": 420,
       "width": 420
      }
     },
     "output_type": "display_data"
    },
    {
     "data": {
      "image/png": "[encoded data removed]",
      "text/plain": [
       "plot without title"
      ]
     },
     "metadata": {
      "image/png": {
       "height": 420,
       "width": 420
      }
     },
     "output_type": "display_data"
    },
    {
     "data": {
      "image/png": "[encoded data removed]",
      "text/plain": [
       "plot without title"
      ]
     },
     "metadata": {
      "image/png": {
       "height": 420,
       "width": 420
      }
     },
     "output_type": "display_data"
    },
    {
     "data": {
      "image/png": "[encoded data removed]",
      "text/plain": [
       "plot without title"
      ]
     },
     "metadata": {
      "image/png": {
       "height": 420,
       "width": 420
      }
     },
     "output_type": "display_data"
    },
    {
     "data": {
      "image/png": "[encoded data removed]",
      "text/plain": [
       "plot without title"
      ]
     },
     "metadata": {
      "image/png": {
       "height": 420,
       "width": 420
      }
     },
     "output_type": "display_data"
    },
    {
     "data": {
      "image/png": "[encoded data removed]",
      "text/plain": [
       "plot without title"
      ]
     },
     "metadata": {
      "image/png": {
       "height": 420,
       "width": 420
      }
     },
     "output_type": "display_data"
    }
   ],
   "source": [
    "plot(m.outf, type = \"density\", which.xs = ~age_normalized)\n",
    "\n",
    "# Generate bar plots for each dummy variable\n",
    "dummy_vars <- c(\n",
    "                \"race_Asian\", \"race_Black.or.African.American\",\n",
    "                \"race_More.than.one.population\", \"race_No.answer.race\",\n",
    "                \"race_Other.race\", \"race_White\",\n",
    "                \"ethnicity_Hispanic.or.Latino\", \"ethnicity_No.answer.ethnicity\",\n",
    "                \"ethnicity_Not.Hispanic.or.Latino\", \"ethnicity_Other.ethnicity\")\n",
    "\n",
    "for (var in dummy_vars) {\n",
    "  plot(m.outf, type = \"density\", which.xs = as.formula(paste(\"~\", var)))\n",
    "}\n",
    "# for (var in dummy_vars) {\n",
    "#   png(paste0(\"matchit_plot_f\", var, \".png\"), width = 800, height = 600)\n",
    "#   plot(m.outf, type = \"density\", which.xs = as.formula(paste(\"~\", var)))\n",
    "#   dev.off()\n",
    "# }"
   ]
  },
  {
   "cell_type": "code",
   "execution_count": 40,
   "id": "5edd4262",
   "metadata": {},
   "outputs": [],
   "source": [
    "m.data <- match.data(m.outf,distance='pscore')\n",
    "# Get the person_ids of the matched observations\n",
    "matched_person_ids <- m.data$person_id\n",
    "\n",
    "# Write the matched_person_ids to a CSV file\n",
    "write.csv(matched_person_ids, \"matched_person_ids_female.csv\", row.names = FALSE)"
   ]
  },
  {
   "cell_type": "markdown",
   "id": "256d7bfa",
   "metadata": {},
   "source": [
    "### Match control for HS male"
   ]
  },
  {
   "cell_type": "code",
   "execution_count": 41,
   "id": "0728f30c",
   "metadata": {},
   "outputs": [],
   "source": [
    "df_m=subset(df_sub_1,sex_Male== 1)"
   ]
  },
  {
   "cell_type": "code",
   "execution_count": 42,
   "id": "20fb1025",
   "metadata": {},
   "outputs": [
    {
     "data": {
      "text/html": [
       "<table class=\"dataframe\">\n",
       "<caption>A data.frame: 6 × 18</caption>\n",
       "<thead>\n",
       "\t<tr><th></th><th scope=col>person_id</th><th scope=col>sex_at_birth</th><th scope=col>HS</th><th scope=col>age_last_EHR</th><th scope=col>age_normalized</th><th scope=col>sex_Female</th><th scope=col>sex_Male</th><th scope=col>sex_Other.Sex</th><th scope=col>race_Asian</th><th scope=col>race_Black.or.African.American</th><th scope=col>race_More.than.one.population</th><th scope=col>race_No.answer.race</th><th scope=col>race_Other.race</th><th scope=col>race_White</th><th scope=col>ethnicity_Hispanic.or.Latino</th><th scope=col>ethnicity_No.answer.ethnicity</th><th scope=col>ethnicity_Not.Hispanic.or.Latino</th><th scope=col>ethnicity_Other.ethnicity</th></tr>\n",
       "\t<tr><th></th><th scope=col>&lt;int&gt;</th><th scope=col>&lt;chr&gt;</th><th scope=col>&lt;int&gt;</th><th scope=col>&lt;dbl&gt;</th><th scope=col>&lt;dbl&gt;</th><th scope=col>&lt;int&gt;</th><th scope=col>&lt;int&gt;</th><th scope=col>&lt;int&gt;</th><th scope=col>&lt;int&gt;</th><th scope=col>&lt;int&gt;</th><th scope=col>&lt;int&gt;</th><th scope=col>&lt;int&gt;</th><th scope=col>&lt;int&gt;</th><th scope=col>&lt;int&gt;</th><th scope=col>&lt;int&gt;</th><th scope=col>&lt;int&gt;</th><th scope=col>&lt;int&gt;</th><th scope=col>&lt;int&gt;</th></tr>\n",
       "</thead>\n",
       "<tbody>\n",
       "\t<tr><th scope=row>3</th><td>9557736</td><td>Male</td><td>0</td><td>55.07945</td><td>-0.01529251</td><td>0</td><td>1</td><td>0</td><td>0</td><td>0</td><td>0</td><td>0</td><td>0</td><td>1</td><td>0</td><td>0</td><td>1</td><td>0</td></tr>\n",
       "\t<tr><th scope=row>4</th><td>1840872</td><td>Male</td><td>0</td><td>60.06575</td><td> 0.28310213</td><td>0</td><td>1</td><td>0</td><td>0</td><td>0</td><td>0</td><td>0</td><td>0</td><td>1</td><td>0</td><td>0</td><td>1</td><td>0</td></tr>\n",
       "\t<tr><th scope=row>5</th><td>3486599</td><td>Male</td><td>0</td><td>86.10137</td><td> 1.84114842</td><td>0</td><td>1</td><td>0</td><td>0</td><td>0</td><td>0</td><td>0</td><td>0</td><td>1</td><td>0</td><td>0</td><td>1</td><td>0</td></tr>\n",
       "\t<tr><th scope=row>7</th><td>1328970</td><td>Male</td><td>0</td><td>64.96164</td><td> 0.57608631</td><td>0</td><td>1</td><td>0</td><td>0</td><td>1</td><td>0</td><td>0</td><td>0</td><td>0</td><td>0</td><td>0</td><td>1</td><td>0</td></tr>\n",
       "\t<tr><th scope=row>8</th><td>4906905</td><td>Male</td><td>0</td><td>59.98904</td><td> 0.27851144</td><td>0</td><td>1</td><td>0</td><td>0</td><td>0</td><td>0</td><td>0</td><td>0</td><td>1</td><td>0</td><td>0</td><td>1</td><td>0</td></tr>\n",
       "\t<tr><th scope=row>12</th><td>1739054</td><td>Male</td><td>0</td><td>66.01918</td><td> 0.63937221</td><td>0</td><td>1</td><td>0</td><td>0</td><td>0</td><td>0</td><td>0</td><td>0</td><td>1</td><td>0</td><td>0</td><td>1</td><td>0</td></tr>\n",
       "</tbody>\n",
       "</table>\n"
      ],
      "text/latex": [
       "A data.frame: 6 × 18\n",
       "\\begin{tabular}{r|llllllllllllllllll}\n",
       "  & person\\_id & sex\\_at\\_birth & HS & age\\_last\\_EHR & age\\_normalized & sex\\_Female & sex\\_Male & sex\\_Other.Sex & race\\_Asian & race\\_Black.or.African.American & race\\_More.than.one.population & race\\_No.answer.race & race\\_Other.race & race\\_White & ethnicity\\_Hispanic.or.Latino & ethnicity\\_No.answer.ethnicity & ethnicity\\_Not.Hispanic.or.Latino & ethnicity\\_Other.ethnicity\\\\\n",
       "  & <int> & <chr> & <int> & <dbl> & <dbl> & <int> & <int> & <int> & <int> & <int> & <int> & <int> & <int> & <int> & <int> & <int> & <int> & <int>\\\\\n",
       "\\hline\n",
       "\t3 & 9557736 & Male & 0 & 55.07945 & -0.01529251 & 0 & 1 & 0 & 0 & 0 & 0 & 0 & 0 & 1 & 0 & 0 & 1 & 0\\\\\n",
       "\t4 & 1840872 & Male & 0 & 60.06575 &  0.28310213 & 0 & 1 & 0 & 0 & 0 & 0 & 0 & 0 & 1 & 0 & 0 & 1 & 0\\\\\n",
       "\t5 & 3486599 & Male & 0 & 86.10137 &  1.84114842 & 0 & 1 & 0 & 0 & 0 & 0 & 0 & 0 & 1 & 0 & 0 & 1 & 0\\\\\n",
       "\t7 & 1328970 & Male & 0 & 64.96164 &  0.57608631 & 0 & 1 & 0 & 0 & 1 & 0 & 0 & 0 & 0 & 0 & 0 & 1 & 0\\\\\n",
       "\t8 & 4906905 & Male & 0 & 59.98904 &  0.27851144 & 0 & 1 & 0 & 0 & 0 & 0 & 0 & 0 & 1 & 0 & 0 & 1 & 0\\\\\n",
       "\t12 & 1739054 & Male & 0 & 66.01918 &  0.63937221 & 0 & 1 & 0 & 0 & 0 & 0 & 0 & 0 & 1 & 0 & 0 & 1 & 0\\\\\n",
       "\\end{tabular}\n"
      ],
      "text/markdown": [
       "\n",
       "A data.frame: 6 × 18\n",
       "\n",
       "| <!--/--> | person_id &lt;int&gt; | sex_at_birth &lt;chr&gt; | HS &lt;int&gt; | age_last_EHR &lt;dbl&gt; | age_normalized &lt;dbl&gt; | sex_Female &lt;int&gt; | sex_Male &lt;int&gt; | sex_Other.Sex &lt;int&gt; | race_Asian &lt;int&gt; | race_Black.or.African.American &lt;int&gt; | race_More.than.one.population &lt;int&gt; | race_No.answer.race &lt;int&gt; | race_Other.race &lt;int&gt; | race_White &lt;int&gt; | ethnicity_Hispanic.or.Latino &lt;int&gt; | ethnicity_No.answer.ethnicity &lt;int&gt; | ethnicity_Not.Hispanic.or.Latino &lt;int&gt; | ethnicity_Other.ethnicity &lt;int&gt; |\n",
       "|---|---|---|---|---|---|---|---|---|---|---|---|---|---|---|---|---|---|---|\n",
       "| 3 | 9557736 | Male | 0 | 55.07945 | -0.01529251 | 0 | 1 | 0 | 0 | 0 | 0 | 0 | 0 | 1 | 0 | 0 | 1 | 0 |\n",
       "| 4 | 1840872 | Male | 0 | 60.06575 |  0.28310213 | 0 | 1 | 0 | 0 | 0 | 0 | 0 | 0 | 1 | 0 | 0 | 1 | 0 |\n",
       "| 5 | 3486599 | Male | 0 | 86.10137 |  1.84114842 | 0 | 1 | 0 | 0 | 0 | 0 | 0 | 0 | 1 | 0 | 0 | 1 | 0 |\n",
       "| 7 | 1328970 | Male | 0 | 64.96164 |  0.57608631 | 0 | 1 | 0 | 0 | 1 | 0 | 0 | 0 | 0 | 0 | 0 | 1 | 0 |\n",
       "| 8 | 4906905 | Male | 0 | 59.98904 |  0.27851144 | 0 | 1 | 0 | 0 | 0 | 0 | 0 | 0 | 1 | 0 | 0 | 1 | 0 |\n",
       "| 12 | 1739054 | Male | 0 | 66.01918 |  0.63937221 | 0 | 1 | 0 | 0 | 0 | 0 | 0 | 0 | 1 | 0 | 0 | 1 | 0 |\n",
       "\n"
      ],
      "text/plain": [
       "   person_id sex_at_birth HS age_last_EHR age_normalized sex_Female sex_Male\n",
       "3  9557736   Male         0  55.07945     -0.01529251    0          1       \n",
       "4  1840872   Male         0  60.06575      0.28310213    0          1       \n",
       "5  3486599   Male         0  86.10137      1.84114842    0          1       \n",
       "7  1328970   Male         0  64.96164      0.57608631    0          1       \n",
       "8  4906905   Male         0  59.98904      0.27851144    0          1       \n",
       "12 1739054   Male         0  66.01918      0.63937221    0          1       \n",
       "   sex_Other.Sex race_Asian race_Black.or.African.American\n",
       "3  0             0          0                             \n",
       "4  0             0          0                             \n",
       "5  0             0          0                             \n",
       "7  0             0          1                             \n",
       "8  0             0          0                             \n",
       "12 0             0          0                             \n",
       "   race_More.than.one.population race_No.answer.race race_Other.race race_White\n",
       "3  0                             0                   0               1         \n",
       "4  0                             0                   0               1         \n",
       "5  0                             0                   0               1         \n",
       "7  0                             0                   0               0         \n",
       "8  0                             0                   0               1         \n",
       "12 0                             0                   0               1         \n",
       "   ethnicity_Hispanic.or.Latino ethnicity_No.answer.ethnicity\n",
       "3  0                            0                            \n",
       "4  0                            0                            \n",
       "5  0                            0                            \n",
       "7  0                            0                            \n",
       "8  0                            0                            \n",
       "12 0                            0                            \n",
       "   ethnicity_Not.Hispanic.or.Latino ethnicity_Other.ethnicity\n",
       "3  1                                0                        \n",
       "4  1                                0                        \n",
       "5  1                                0                        \n",
       "7  1                                0                        \n",
       "8  1                                0                        \n",
       "12 1                                0                        "
      ]
     },
     "metadata": {},
     "output_type": "display_data"
    }
   ],
   "source": [
    "head(df_m)"
   ]
  },
  {
   "cell_type": "code",
   "execution_count": 43,
   "id": "03706f93",
   "metadata": {},
   "outputs": [],
   "source": [
    "# m.outm <- matchit(HS ~  age_last_EHR + race ,\n",
    "#                   data = df_m,\n",
    "#                   method = \"nearest\", \n",
    "#                   ratio = 10)\n",
    "m.outm <- matchit(HS ~ \n",
    "                    race_Asian + race_Black.or.African.American + \n",
    "                    race_More.than.one.population + race_No.answer.race + \n",
    "                    race_Other.race + race_White +\n",
    "                    ethnicity_Hispanic.or.Latino + ethnicity_No.answer.ethnicity +\n",
    "                    ethnicity_Not.Hispanic.or.Latino + ethnicity_Other.ethnicity +\n",
    "                    age_normalized,\n",
    "                  data = df_m,\n",
    "                  method = \"nearest\", \n",
    "                  ratio = 10)\n"
   ]
  },
  {
   "cell_type": "code",
   "execution_count": 44,
   "id": "d5651b8f",
   "metadata": {},
   "outputs": [
    {
     "data": {
      "text/plain": [
       "\n",
       "Call:\n",
       "matchit(formula = HS ~ race_Asian + race_Black.or.African.American + \n",
       "    race_More.than.one.population + race_No.answer.race + race_Other.race + \n",
       "    race_White + ethnicity_Hispanic.or.Latino + ethnicity_No.answer.ethnicity + \n",
       "    ethnicity_Not.Hispanic.or.Latino + ethnicity_Other.ethnicity + \n",
       "    age_normalized, data = df_m, method = \"nearest\", ratio = 10)\n",
       "\n",
       "Summary of Balance for All Data:\n",
       "                                 Means Treated Means Control Std. Mean Diff.\n",
       "distance                                0.0078        0.0056          0.5139\n",
       "race_Asian                              0.0158        0.0241         -0.0664\n",
       "race_Black.or.African.American          0.4208        0.1863          0.4750\n",
       "race_More.than.one.population           0.0158        0.0139          0.0152\n",
       "race_No.answer.race                     0.1244        0.1485         -0.0729\n",
       "race_Other.race                         0.0204        0.0189          0.0103\n",
       "race_White                              0.4027        0.6082         -0.4191\n",
       "ethnicity_Hispanic.or.Latino            0.1244        0.1471         -0.0688\n",
       "ethnicity_No.answer.ethnicity           0.0226        0.0200          0.0178\n",
       "ethnicity_Not.Hispanic.or.Latino        0.8416        0.8222          0.0533\n",
       "ethnicity_Other.ethnicity               0.0113        0.0107          0.0054\n",
       "age_normalized                         -0.1068        0.1765         -0.3288\n",
       "                                 Var. Ratio eCDF Mean eCDF Max\n",
       "distance                             1.4367    0.1799   0.2686\n",
       "race_Asian                                .    0.0083   0.0083\n",
       "race_Black.or.African.American            .    0.2345   0.2345\n",
       "race_More.than.one.population             .    0.0019   0.0019\n",
       "race_No.answer.race                       .    0.0241   0.0241\n",
       "race_Other.race                           .    0.0015   0.0015\n",
       "race_White                                .    0.2055   0.2055\n",
       "ethnicity_Hispanic.or.Latino              .    0.0227   0.0227\n",
       "ethnicity_No.answer.ethnicity             .    0.0027   0.0027\n",
       "ethnicity_Not.Hispanic.or.Latino          .    0.0195   0.0195\n",
       "ethnicity_Other.ethnicity                 .    0.0006   0.0006\n",
       "age_normalized                       0.7797    0.0773   0.1881\n",
       "\n",
       "Summary of Balance for Matched Data:\n",
       "                                 Means Treated Means Control Std. Mean Diff.\n",
       "distance                                0.0078        0.0078          0.0000\n",
       "race_Asian                              0.0158        0.0140          0.0145\n",
       "race_Black.or.African.American          0.4208        0.4242         -0.0069\n",
       "race_More.than.one.population           0.0158        0.0170         -0.0091\n",
       "race_No.answer.race                     0.1244        0.1154          0.0274\n",
       "race_Other.race                         0.0204        0.0197          0.0048\n",
       "race_White                              0.4027        0.4097         -0.0143\n",
       "ethnicity_Hispanic.or.Latino            0.1244        0.1138          0.0322\n",
       "ethnicity_No.answer.ethnicity           0.0226        0.0197          0.0198\n",
       "ethnicity_Not.Hispanic.or.Latino        0.8416        0.8552         -0.0372\n",
       "ethnicity_Other.ethnicity               0.0113        0.0113          0.0000\n",
       "age_normalized                         -0.1068       -0.0975         -0.0108\n",
       "                                 Var. Ratio eCDF Mean eCDF Max Std. Pair Dist.\n",
       "distance                             1.0021    0.0000   0.0043          0.0002\n",
       "race_Asian                                .    0.0018   0.0018          0.2356\n",
       "race_Black.or.African.American            .    0.0034   0.0034          0.0197\n",
       "race_More.than.one.population             .    0.0011   0.0011          0.2338\n",
       "race_No.answer.race                       .    0.0090   0.0090          0.4812\n",
       "race_Other.race                           .    0.0007   0.0007          0.2419\n",
       "race_White                                .    0.0070   0.0070          0.3418\n",
       "ethnicity_Hispanic.or.Latino              .    0.0106   0.0106          0.4791\n",
       "ethnicity_No.answer.ethnicity             .    0.0029   0.0029          0.2328\n",
       "ethnicity_Not.Hispanic.or.Latino          .    0.0136   0.0136          0.4908\n",
       "ethnicity_Other.ethnicity                 .    0.0000   0.0000          0.0204\n",
       "age_normalized                       0.9367    0.0076   0.0226          0.2049\n",
       "\n",
       "Sample Sizes:\n",
       "          Control Treated\n",
       "All         78410     442\n",
       "Matched      4420     442\n",
       "Unmatched   73990       0\n",
       "Discarded       0       0\n"
      ]
     },
     "metadata": {},
     "output_type": "display_data"
    }
   ],
   "source": [
    "summary(m.outm)"
   ]
  },
  {
   "cell_type": "code",
   "execution_count": 46,
   "id": "25796d65",
   "metadata": {},
   "outputs": [
    {
     "data": {
      "image/png": "[encoded data removed]",
      "text/plain": [
       "plot without title"
      ]
     },
     "metadata": {
      "image/png": {
       "height": 420,
       "width": 420
      }
     },
     "output_type": "display_data"
    }
   ],
   "source": [
    "plot(summary(m.outm, pair.dist = FALSE))"
   ]
  },
  {
   "cell_type": "code",
   "execution_count": 48,
   "id": "bfd9a31b",
   "metadata": {},
   "outputs": [
    {
     "data": {
      "image/png": "[encoded data removed]",
      "text/plain": [
       "plot without title"
      ]
     },
     "metadata": {
      "image/png": {
       "height": 420,
       "width": 420
      }
     },
     "output_type": "display_data"
    }
   ],
   "source": [
    "plot(m.outm, type = \"density\", which.xs = ~age_normalized)\n",
    "\n",
    "# Generate bar plots for each dummy variable\n",
    "dummy_vars <- c(\n",
    "                \"race_Asian\", \"race_Black.or.African.American\",\n",
    "                \"race_More.than.one.population\", \"race_No.answer.race\",\n",
    "                \"race_Other.race\", \"race_White\",\n",
    "                \"ethnicity_Hispanic.or.Latino\", \"ethnicity_No.answer.ethnicity\",\n",
    "                \"ethnicity_Not.Hispanic.or.Latino\", \"ethnicity_Other.ethnicity\")\n",
    "\n",
    "# for (var in dummy_vars) {\n",
    "#   plot(m.outm, type = \"density\", which.xs = as.formula(paste(\"~\", var)))\n",
    "# }\n",
    "for (var in dummy_vars) {\n",
    "  png(paste0(\"matchit_plot_m\", var, \".png\"), width = 800, height = 600)\n",
    "  plot(m.outm, type = \"density\", which.xs = as.formula(paste(\"~\", var)))\n",
    "  dev.off()\n",
    "}"
   ]
  },
  {
   "cell_type": "code",
   "execution_count": 45,
   "id": "c58eb88d",
   "metadata": {},
   "outputs": [],
   "source": [
    "m.datam <- match.data(m.outm,distance='pscore')\n",
    "# Get the person_ids of the matched observations\n",
    "matched_person_ids_male <- m.datam$person_id\n",
    "\n",
    "# Write the matched_person_ids to a CSV file\n",
    "write.csv(matched_person_ids_male, \"matched_person_ids_male.csv\", row.names = FALSE)"
   ]
  },
  {
   "cell_type": "markdown",
   "id": "6fe1c0c7",
   "metadata": {
    "heading_collapsed": true
   },
   "source": [
    "### Plot"
   ]
  },
  {
   "cell_type": "code",
   "execution_count": 53,
   "id": "7a40a903",
   "metadata": {
    "hidden": true
   },
   "outputs": [
    {
     "data": {
      "text/html": [
       "<strong>png:</strong> 2"
      ],
      "text/latex": [
       "\\textbf{png:} 2"
      ],
      "text/markdown": [
       "**png:** 2"
      ],
      "text/plain": [
       "png \n",
       "  2 "
      ]
     },
     "metadata": {},
     "output_type": "display_data"
    }
   ],
   "source": [
    "pdf(\"love_plot.pdf\", width = 8, height = 6) \n",
    "plot(summary(m.out0, pair.dist = FALSE))\n",
    "dev.off()"
   ]
  },
  {
   "cell_type": "code",
   "execution_count": 54,
   "id": "644e5034",
   "metadata": {
    "hidden": true
   },
   "outputs": [
    {
     "data": {
      "text/html": [
       "<strong>png:</strong> 2"
      ],
      "text/latex": [
       "\\textbf{png:} 2"
      ],
      "text/markdown": [
       "**png:** 2"
      ],
      "text/plain": [
       "png \n",
       "  2 "
      ]
     },
     "metadata": {},
     "output_type": "display_data"
    }
   ],
   "source": [
    "# pdf(\"density_plot.pdf\", width = 8, height = 6) \n",
    "\n",
    "# plot(m.out0, type = \"density\", interactive = FALSE,\n",
    "#      which.xs = ~age_last_EHR + race )\n",
    "\n",
    "# dev.off()\n",
    "png(\"matchit_density_plot.png\", width = 800, height = 600)\n",
    "plot(m.out0, type = \"density\", which.xs = ~age_normalized)\n",
    "dev.off()\n"
   ]
  },
  {
   "cell_type": "code",
   "execution_count": 31,
   "id": "a6ea4984",
   "metadata": {
    "code_folding": [
     0
    ],
    "hidden": true
   },
   "outputs": [
    {
     "ename": "ERROR",
     "evalue": "Error in density.default(m.out0$age_last_EHR): argument 'x' must be numeric\n",
     "output_type": "error",
     "traceback": [
      "Error in density.default(m.out0$age_last_EHR): argument 'x' must be numeric\nTraceback:\n",
      "1. density(m.out0$age_last_EHR)",
      "2. density.default(m.out0$age_last_EHR)",
      "3. stop(\"argument 'x' must be numeric\")"
     ]
    }
   ],
   "source": [
    "# 提取 PSM 後的數據\n",
    "age_density <- density(m.out0$age_last_EHR)\n",
    "race_density <- density(m.out0$race)\n",
    "\n",
    "# 繪製年齡的密度圖，並指定顏色\n",
    "plot(age_density, col = \"blue\", main = \"Density Plot of Age and Race\", xlab = \"Values\", ylab = \"Density\")\n",
    "\n",
    "# 疊加種族的密度圖，並指定顏色\n",
    "lines(race_density, col = \"green\")\n"
   ]
  },
  {
   "cell_type": "code",
   "execution_count": null,
   "id": "fcc19ade",
   "metadata": {
    "hidden": true
   },
   "outputs": [],
   "source": []
  }
 ],
 "metadata": {
  "kernelspec": {
   "display_name": "R",
   "language": "R",
   "name": "ir"
  },
  "language_info": {
   "codemirror_mode": "r",
   "file_extension": ".r",
   "mimetype": "text/x-r-source",
   "name": "R",
   "pygments_lexer": "r",
   "version": "4.4.0"
  },
  "toc": {
   "base_numbering": 1,
   "nav_menu": {},
   "number_sections": true,
   "sideBar": true,
   "skip_h1_title": false,
   "title_cell": "Table of Contents",
   "title_sidebar": "Contents",
   "toc_cell": false,
   "toc_position": {
    "height": "calc(100% - 180px)",
    "left": "10px",
    "top": "150px",
    "width": "165px"
   },
   "toc_section_display": true,
   "toc_window_display": true
  }
 },
 "nbformat": 4,
 "nbformat_minor": 5
}
