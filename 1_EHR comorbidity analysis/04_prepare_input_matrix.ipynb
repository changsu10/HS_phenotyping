{
 "cells": [
  {
   "cell_type": "markdown",
   "id": "9f5a0626-27d0-4393-9737-59fce7579887",
   "metadata": {},
   "source": [
    "Format cohort data into matrix. (for logistic regression)"
   ]
  },
  {
   "cell_type": "code",
   "execution_count": null,
   "id": "e2d28721-0309-49ae-9b65-ce2a82207103",
   "metadata": {},
   "outputs": [],
   "source": [
    "import pandas as pd\n",
    "import numpy as np\n",
    "from scipy import stats\n",
    "\n",
    "cohort = pd.read('cohort_18_to_90_df.csv')"
   ]
  },
  {
   "cell_type": "code",
   "execution_count": null,
   "id": "d0f91095-795d-42d2-8954-1ef2705ea71b",
   "metadata": {},
   "outputs": [],
   "source": [
    "cohort_demo = cohort[[\n",
    "    'person_id','gender', 'date_of_birth', 'race', 'ethnicity','sex_at_birth',\n",
    "    'birth_year', 'age_last_EHR', 'HS']\n",
    "].drop_duplicates()"
   ]
  },
  {
   "cell_type": "code",
   "execution_count": null,
   "id": "a7fa2ad6-2469-48a2-98be-4fa8b7110d2d",
   "metadata": {},
   "outputs": [],
   "source": [
    "# --- Standardize demographic values ---\n",
    "# sex\n",
    "sex_mapping = {\n",
    "    'Male': 'Male',\n",
    "    'Female': 'Female',\n",
    "    'I prefer not to answer': 'Other sex',\n",
    "    'Intersex': 'Other sex',\n",
    "    'No matching concept': 'Other sex'\n",
    "}\n",
    "\n",
    "cohort_demo['sex_revised'] = cohort_demo['sex_at_birth'].map(sex_mapping)\n",
    "\n",
    "# race\n",
    "race_mapping = {\n",
    "    'White':'White' ,                                     \n",
    "    'Black or African American':'Black or African American' , \n",
    "    'Asian':'Asian' ,                                    \n",
    "    'More than one population':'More than one population',                      \n",
    "    'None of these':'Other race',    \n",
    "    'None Indicated':'No answer race',                                                              \n",
    "    'PMI: Skip': 'No answer race',\n",
    "    'I prefer not to answer':'No answer race',                        \n",
    "    'Middle Eastern or North African':'Other race',               \n",
    "    'Native Hawaiian or Other Pacific Islander ':'Other race'    \n",
    "    }\n",
    "\n",
    "cohort_demo['race_revised'] = cohort_demo['race'].map(race_mapping)\n",
    "\n",
    "# ethnicity\n",
    "ethnicity_mapping = {\n",
    "    'Not Hispanic or Latino':'Not Hispanic or Latino',                            \n",
    "    'Hispanic or Latino':'Hispanic or Latino',                                                                            \n",
    "    'What Race Ethnicity: Race Ethnicity None Of These':'Other ethnicity', \n",
    "    'No matching concept': 'Other ethinicity',\n",
    "    'PMI: Prefer Not To Answer':'No answer ethnicity', \n",
    "    'PMI: Skip':'No answer ethnicity'\n",
    "    }\n",
    "\n",
    "cohort_demo['ethnicity_revised'] = cohort_demo['ethnicity'].map(ethnicity_mapping)"
   ]
  },
  {
   "cell_type": "code",
   "execution_count": null,
   "id": "d0019ffc-c3ed-4d0d-b32a-d71f51c68e89",
   "metadata": {},
   "outputs": [],
   "source": [
    "# --- Create binary matrices for categorical variables ---\n",
    "\n",
    "# Sex matrix (Male / Female / Other sex)\n",
    "sex_matrix = cohort_demo.assign(value=1).pivot_table(\n",
    "    index='person_id', columns='sex_revised', values='value', fill_value=0\n",
    ")\n",
    "\n",
    "# Race matrix (e.g., White / Asian / Other race / etc.)\n",
    "race_matrix = cohort_demo.assign(value=1).pivot_table(\n",
    "    index='person_id', columns='race_revised', values='value', fill_value=0\n",
    ")\n",
    "\n",
    "# Ethnicity matrix (note spelling correction)\n",
    "ethnicity_matrix = cohort_demo.assign(value=1).pivot_table(\n",
    "    index='person_id', columns='ethnicity_revised', values='value', fill_value=0\n",
    ")\n"
   ]
  },
  {
   "cell_type": "code",
   "execution_count": null,
   "id": "f89b40d9-1cf1-4f09-95e0-989f9b4a92b2",
   "metadata": {},
   "outputs": [],
   "source": [
    "# --- Create final logistic regression matrix ---\n",
    "def create_matrix(df):\n",
    "    # Drop duplicate entries for person_id and Phecode\n",
    "    df = df.drop_duplicates(subset=['person_id', 'Phecode'])\n",
    "    \n",
    "    # Create the binary matrix using pivot_table\n",
    "    binary_matrix = df.assign(value=1).pivot_table(\n",
    "        index='person_id',columns='Phecode', values='value', fill_value=0)\n",
    "        \n",
    "    return binary_matrix\n",
    "\n",
    "# Apply z-score normalization to age\n",
    "cohort_demo['age_normalized'] = stats.zscore(cohort_demo['age_last_EHR'])\n",
    "\n",
    "df_features = cohort_demo[['person_id','HS','age_normalized']].drop_duplicates()\n",
    "\n",
    "df_demo_matrix = (df_features\n",
    "                   .merge(race_matrix, on='person_id', how='left')\n",
    "                   .merge(sex_matrix, on='person_id', how='left')\n",
    "                   .merge(ethinicity_matrix, on='person_id', how='left'))\n",
    "\n",
    "df_phecode_matrix = create_matrix(cohort)\n",
    "df_final_matrix = df_phecode_matrix.merge(df_demo_matrix,on = 'person_id', how = 'left')\n",
    "df_final_matrix.to_csv('df_final_matrix.csv',index = False)"
   ]
  },
  {
   "cell_type": "code",
   "execution_count": null,
   "id": "c240db10-ad9d-46c2-8af3-7c11aa101812",
   "metadata": {},
   "outputs": [],
   "source": [
    "\n"
   ]
  }
 ],
 "metadata": {
  "kernelspec": {
   "display_name": "Python 3 (ipykernel)",
   "language": "python",
   "name": "python3"
  },
  "language_info": {
   "codemirror_mode": {
    "name": "ipython",
    "version": 3
   },
   "file_extension": ".py",
   "mimetype": "text/x-python",
   "name": "python",
   "nbconvert_exporter": "python",
   "pygments_lexer": "ipython3",
   "version": "3.12.4"
  }
 },
 "nbformat": 4,
 "nbformat_minor": 5
}
