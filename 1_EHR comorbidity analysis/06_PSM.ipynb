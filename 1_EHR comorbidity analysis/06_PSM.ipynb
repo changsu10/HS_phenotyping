{
 "cells": [
  {
   "cell_type": "markdown",
   "id": "c675c9cb-e35f-4557-b6df-e313ab8810ee",
   "metadata": {},
   "source": [
    "Propensity Score Matching (PSM) for HS vs Controls"
   ]
  },
  {
   "cell_type": "code",
   "execution_count": 2,
   "id": "8a28142a",
   "metadata": {
    "scrolled": true
   },
   "outputs": [],
   "source": [
    "install.packages(\"MatchIt\")\n",
    "library(tidyverse)\n",
    "library(bigrquery)\n",
    "library(MatchIt)\n",
    "library(lubridate)\n",
    "library(dplyr)\n",
    "library(data.table)\n",
    "library(fastDummies)"
   ]
  },
  {
   "cell_type": "code",
   "execution_count": 7,
   "id": "952b6739",
   "metadata": {},
   "outputs": [],
   "source": [
    "# --- Load data ---\n",
    "df =read.csv('cohort_18_to_90_df.csv')"
   ]
  },
  {
   "cell_type": "code",
   "execution_count": 9,
   "id": "953fd8d7",
   "metadata": {},
   "outputs": [],
   "source": [
    "# Select key covariates and remove duplicates\n",
    "df_sub <- df %>% \n",
    "  select(person_id, race, ethnicity, sex_at_birth, HS, age_last_EHR) %>% \n",
    "  distinct()"
   ]
  },
  {
   "cell_type": "code",
   "execution_count": 18,
   "id": "86dfb59b",
   "metadata": {},
   "outputs": [],
   "source": [
    "# ---  Standardize sex, race, and ethnicity labels ---\n",
    "df_sub <- df_sub %>%\n",
    "  mutate(sex = case_when(\n",
    "    sex_at_birth %in% c(\"Male\", \"Female\") ~ sex_at_birth,\n",
    "    TRUE ~ \"Other Sex\"\n",
    "  )) %>%\n",
    "  mutate(race = case_when(\n",
    "    race %in% c('White') ~ 'White',\n",
    "    race %in% c('Black or African American') ~ 'Black or African American',\n",
    "    race %in% c('Asian') ~ 'Asian',\n",
    "    race %in% c('More than one population') ~ 'More than one population',\n",
    "    race %in% c('None of these', 'Middle Eastern or North African', 'Native Hawaiian or Other Pacific Islander ') ~ 'Other race',\n",
    "    race %in% c('None Indicated', 'PMI: Skip', 'I prefer not to answer') ~ 'No answer race',\n",
    "    TRUE ~ 'Other race'\n",
    "  )) %>%\n",
    "  mutate(ethnicity = case_when(\n",
    "    ethnicity %in% c('Hispanic or Latino') ~ 'Hispanic or Latino',\n",
    "    ethnicity %in% c('Not Hispanic or Latino') ~ 'Not Hispanic or Latino',\n",
    "    ethnicity %in% c('What Race Ethnicity: Race Ethnicity None Of These', 'No matching concept') ~ 'Other ethnicity',\n",
    "    ethnicity %in% c('PMI: Prefer Not To Answer', 'PMI: Skip') ~ 'No answer ethnicity',\n",
    "    TRUE ~ 'Others ethnicity'\n",
    "  ))"
   ]
  },
  {
   "cell_type": "code",
   "execution_count": 10,
   "id": "c9b67252",
   "metadata": {},
   "outputs": [],
   "source": [
    "df_sub <- df_sub %>%\n",
    "  mutate(age_normalized = scale(age_last_EHR))"
   ]
  },
  {
   "cell_type": "code",
   "execution_count": 27,
   "id": "e095746a",
   "metadata": {},
   "outputs": [],
   "source": [
    "df_sub_dummy <- fastDummies::dummy_cols(df_sub, \n",
    "                                   select_columns = c(\"sex\", \"race\", \"ethnicity\"), \n",
    "                                   remove_first_dummy = FALSE, \n",
    "                                   remove_selected_columns = TRUE)\n",
    "colnames(df_sub_dummy) <- make.names(colnames(df_sub_dummy))"
   ]
  },
  {
   "cell_type": "code",
   "execution_count": 45,
   "id": "83c0ad31",
   "metadata": {},
   "outputs": [],
   "source": [
    "# --- Run PSM using MatchIt (1:10 nearest match)---\n",
    "start_time <- Sys.time()\n",
    "m.out0 <- matchit(HS ~ \n",
    "                    sex_Female + sex_Male + sex_Other.Sex +\n",
    "                    race_Asian + race_Black.or.African.American + \n",
    "                    race_More.than.one.population + race_No.answer.race + \n",
    "                    race_Other.race + race_White +\n",
    "                    ethnicity_Hispanic.or.Latino + ethnicity_No.answer.ethnicity +\n",
    "                    ethnicity_Not.Hispanic.or.Latino + ethnicity_Other.ethnicity +\n",
    "                    age_normalized,\n",
    "                  data = df_sub_1,\n",
    "                  method = \"nearest\", \n",
    "                  ratio = 10)\n",
    "end_time <- Sys.time()\n",
    "print(end_time - start_time)"
   ]
  },
  {
   "cell_type": "code",
   "execution_count": null,
   "id": "c42812d3-4980-4e27-88ca-0646439fe18b",
   "metadata": {},
   "outputs": [],
   "source": [
    "# --- Visualize covariate balance (before/after) ---\n",
    "# Plot distribution of age (normalized)\n",
    "plot(m.out, type = \"density\", which.xs = ~age_normalized)\n",
    "\n",
    "# Generate bar plots for each dummy variable\n",
    "dummy_vars <- c(\"sex_Female\", \"sex_Male\", \"sex_Other.Sex\",\n",
    "                \"race_Asian\", \"race_Black.or.African.American\",\n",
    "                \"race_More.than.one.population\", \"race_No.answer.race\",\n",
    "                \"race_Other.race\", \"race_White\",\n",
    "                \"ethnicity_Hispanic.or.Latino\", \"ethnicity_No.answer.ethnicity\",\n",
    "                \"ethnicity_Not.Hispanic.or.Latino\", \"ethnicity_Other.ethnicity\")\n",
    "\n",
    "for (var in dummy_vars) {\n",
    "  png(paste0(\"matchit_plot_\", var, \".png\"), width = 800, height = 600)\n",
    "  plot(m.out0, type = \"density\", which.xs = as.formula(paste(\"~\", var)))\n",
    "  dev.off()\n",
    "}"
   ]
  }
 ],
 "metadata": {
  "kernelspec": {
   "display_name": "Python 3 (ipykernel)",
   "language": "python",
   "name": "python3"
  },
  "language_info": {
   "codemirror_mode": {
    "name": "ipython",
    "version": 3
   },
   "file_extension": ".py",
   "mimetype": "text/x-python",
   "name": "python",
   "nbconvert_exporter": "python",
   "pygments_lexer": "ipython3",
   "version": "3.12.4"
  },
  "toc": {
   "base_numbering": 1,
   "nav_menu": {},
   "number_sections": true,
   "sideBar": true,
   "skip_h1_title": false,
   "title_cell": "Table of Contents",
   "title_sidebar": "Contents",
   "toc_cell": false,
   "toc_position": {
    "height": "calc(100% - 180px)",
    "left": "10px",
    "top": "150px",
    "width": "165px"
   },
   "toc_section_display": true,
   "toc_window_display": true
  }
 },
 "nbformat": 4,
 "nbformat_minor": 5
}
