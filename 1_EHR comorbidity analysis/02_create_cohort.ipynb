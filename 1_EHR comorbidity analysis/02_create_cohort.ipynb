{
 "cells": [
  {
   "cell_type": "markdown",
   "id": "ed258a03-b252-4be5-ae27-ad0f53627c79",
   "metadata": {},
   "source": [
    "Construct initial cohort"
   ]
  },
  {
   "cell_type": "code",
   "execution_count": null,
   "id": "18aa4fea-f3c6-413d-bb90-733f797612d3",
   "metadata": {},
   "outputs": [],
   "source": [
    "df_phe_condition_mapped = pd.read_csv('df_phe_condition_mapped.csv')"
   ]
  },
  {
   "cell_type": "code",
   "execution_count": null,
   "id": "e3f040b3-c191-4fc1-8e82-83def86b79a8",
   "metadata": {},
   "outputs": [],
   "source": [
    "# --- Define HS-related codes ---\n",
    "HS_SNOMED_list = ['69741000', '59393003', '402826001', '402828000', '18638007']\n",
    "HS_ICD_code = ['705.83', 'L73.2']\n",
    "white_list = [\n",
    "    \"724834006\", \"1254916008\", \"275448003\", \"59393003\", \"18638007\",\n",
    "    \"404176003\", \"402825002\", \"238992001\", \"403640008\", \"69741000\",\n",
    "    \"402827005\", \"785724007\", \"238754005\", \"402826001\", \"1254915007\",\n",
    "    \"402828000\", \"402706007\", \"404175004\", \"402752000\", \"74578003\"\n",
    "]"
   ]
  },
  {
   "cell_type": "code",
   "execution_count": null,
   "id": "7ccc6820-b62d-444c-9b05-f57c08deb6bb",
   "metadata": {},
   "outputs": [],
   "source": [
    "# --- Identify HS case person_ids ---\n",
    "df_hs_pid = df_phe_condition_mapped[\n",
    "    df_phe_condition_mapped['standard_concept_code'].isin(HS_SNOMED_list) |\n",
    "    df_phe_condition_mapped['ICDcode'].isin(HS_ICD_code)\n",
    "][['person_id']].drop_duplicates()\n",
    "\n",
    "# --- Identify control person_ids: not in HS group ---\n",
    "df_control_condition = df_phe_condition_mapped[\n",
    "    ~df_phe_condition_mapped['person_id'].isin(df_hs_pid['person_id'])\n",
    "]\n",
    "\n",
    "# --- Remove control individuals who appear in white-listed SNOMED codes ---\n",
    "df_white_list_pid = df_control_condition[df_control_condition['standard_concept_code'].isin(white_list)]['person_id'].unique()\n",
    "df_control_clean = df_control_condition[~df_control_condition['person_id'].isin(df_white_list_pid)]\n",
    "df_control_clean_pid = df_control_clean[['person_id']].drop_duplicates()\n",
    "\n",
    "# --- Final unique IDs ---\n",
    "print('Number of case individuals:', len(df_hs_pid))\n",
    "print('Number of control individuals:', df_control_clean['person_id'].nunique())"
   ]
  },
  {
   "cell_type": "code",
   "execution_count": null,
   "id": "76f40095-b47f-4490-ab09-05aa6ee06976",
   "metadata": {},
   "outputs": [],
   "source": [
    "# --- Select cohort\n",
    "df_cohort = df_phe_condition_mapped[\n",
    "    df_phe_condition_mapped['person_id'].isin(df_hs_pid['person_id']) |\n",
    "    df_phe_condition_mapped['person_id'].isin(df_control_clean['person_id'])\n",
    "]\n",
    "df_cohort['HS'] = None\n",
    "df_cohort.loc[df_cohort['person_id'].isin(df_hs_pid['person_id']), 'HS'] = 1\n",
    "df_cohort.loc[df_cohort['person_id'].isin(df_control_clean['person_id']), 'HS'] = 0"
   ]
  },
  {
   "cell_type": "code",
   "execution_count": null,
   "id": "7f7fd280-14c3-4644-87ca-7ffd08468a1e",
   "metadata": {},
   "outputs": [],
   "source": [
    "# --- Save PIDs\n",
    "df_hs_pid.to_csv('HS_pid.csv', index=False)\n",
    "df_control_clean_pid.to_csv('control_pid.csv', index=False)\n",
    "df_cohort.to_csv('df_cohort.csv', index = False)"
   ]
  }
 ],
 "metadata": {
  "kernelspec": {
   "display_name": "Python 3 (ipykernel)",
   "language": "python",
   "name": "python3"
  },
  "language_info": {
   "codemirror_mode": {
    "name": "ipython",
    "version": 3
   },
   "file_extension": ".py",
   "mimetype": "text/x-python",
   "name": "python",
   "nbconvert_exporter": "python",
   "pygments_lexer": "ipython3",
   "version": "3.12.4"
  }
 },
 "nbformat": 4,
 "nbformat_minor": 5
}
