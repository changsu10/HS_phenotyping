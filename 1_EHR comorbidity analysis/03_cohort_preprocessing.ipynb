{
 "cells": [
  {
   "cell_type": "markdown",
   "id": "f7f72317-0149-46ac-b036-42cbc207f02f",
   "metadata": {},
   "source": [
    "Cleaning data: Remove patients with missing sex and short EHR observation period (< 1 year)"
   ]
  },
  {
   "cell_type": "code",
   "execution_count": null,
   "id": "917495f6-dbc5-4354-8e3a-ebc0470e29d9",
   "metadata": {},
   "outputs": [],
   "source": [
    "import pandas as pd\n",
    "import numpy as np\n",
    "\n",
    "# --- Load data ---\n",
    "df_cohort = pd.read_csv('df_cohort.csv', dtype={\n",
    "    'source_concept_code': str, 'ICDcode': str, 'Phecode': str\n",
    "})\n",
    "\n",
    "demographic_data = pd.read_csv('demographic_dataset.csv')\n",
    "\n",
    "# --- Compute first and last EHR record per person ---\n",
    "\n",
    "df_cohort['condition_start_datetime'] = pd.to_datetime(\n",
    "    df_cohort['condition_start_datetime'],format='mixed'\n",
    ")\n",
    "ehr_dates = df_cohort.groupby('person_id')['condition_start_datetime'].agg(\n",
    "    first_EHR = 'min', \n",
    "    last_EHR = 'max'\n",
    ")\n",
    "df_cohort = df_cohort.merge(ehr_dates, on='person_id', how='left')\n",
    "\n",
    "df_cohort['length_first_to_last'] = (\n",
    "    (df_cohort['last_EHR'] - df_cohort['first_EHR']).dt.days/365\n",
    ")"
   ]
  },
  {
   "cell_type": "code",
   "execution_count": null,
   "id": "b81b4786-98f4-4be5-9602-a7505bd07ac3",
   "metadata": {},
   "outputs": [],
   "source": [
    "# --- Filter out patients with less than 1 year of data ---\n",
    "\n",
    "person_ids_to_remove = df_cohort.loc[df_cohort['length_first_to_last'] < 1, 'person_id'].unique()\n",
    "df_cohort_filter = df_cohort[~df_cohort['person_id'].isin(person_ids_to_remove)]\n",
    "\n",
    "num_case = df_cohort_filter[df_cohort_filter['HS'] == 1]['person_id'].nunique()\n",
    "num_control = df_cohort_filter[df_cohort_filter['HS'] == 0]['person_id'].nunique()\n",
    "\n",
    "print('Number of case patients (HS=1):', num_case)\n",
    "print('Number of control patients (HS=0):', num_control)\n"
   ]
  },
  {
   "cell_type": "code",
   "execution_count": null,
   "id": "74d18deb-b543-4457-bcb4-96b190a62407",
   "metadata": {},
   "outputs": [],
   "source": [
    "# --- Add demographic data ---\n",
    "cohort_df= phe_condition_filter_df.merge(demographic_data,on='person_id',how='left')\n",
    "\n",
    "cohort_df['age_first_visit'] = (cohort_df['first_EHR'] - cohort_df['date_of_birth']).dt.days/365\n",
    "\n",
    "# --- Remove patient sex missing ---\n",
    "sub_sex = cohort_df_sub[\n",
    "    (cohort_df_sub['sex_at_birth'] == 'PMI: Skip') |\n",
    "    (cohort_df_sub['sex_at_birth'] == 'None')\n",
    "]\n",
    "remove_sex = set(sub_sex['person_id'])\n",
    "cohort_df = cohort_df[~cohort_df['person_id'].isin(remove_sex)]\n",
    "\n",
    "num_case = cohort_df[cohort_df['HS'] == 1]['person_id'].nunique()\n",
    "num_control = cohort_df[cohort_df['HS'] == 0]['person_id'].nunique()\n",
    "\n",
    "print('Number of patients in case and control after removing missing sex info:')\n",
    "print('Number of case patients (HS=1):', num_case)\n",
    "print('Number of control patients (HS=0):', num_control)"
   ]
  },
  {
   "cell_type": "code",
   "execution_count": null,
   "id": "737fb705-cdd9-4102-b369-35159c814734",
   "metadata": {},
   "outputs": [],
   "source": [
    "# --- Remove patients with age < 18 or > 90 at last EHR date ---\n",
    "cohort_df['last_EHR'] = pd.to_datetime(cohort_df['last_EHR'], format = 'mixed')\n",
    "cohort_df['date_of_birth'] = pd.to_datetime(cohort_df['date_of_birth'])\n",
    "cohort_df['age_last_EHR'] = (cohort_df['last_EHR']- cohort_df['date_of_birth']).dt.days/365\n",
    "\n",
    "# Get patients outside 18–90 range\n",
    "age_over_90 = cohort_df[cohort_df['age_last_EHR'] > 90][['person_id']].drop_duplicates()\n",
    "age_less_18 = cohort_df[cohort_df['age_last_EHR'] <18 ][['person_id']].drop_duplicates()\n",
    "\n",
    "age_over_90 = age_over_90['person_id'].to_list()\n",
    "age_less_18 = age_less_18['person_id'].to_list()\n",
    "\n",
    "age_less_18_over_90 = age_less_18 + age_over_90\n",
    "\n",
    "print('Number of patients less than 18:', len(age_less_18))\n",
    "print('Number of patients over 90:', len(age_over_90))\n",
    "print('Total removed due to age out of range:', len(age_less_18_over_90))"
   ]
  },
  {
   "cell_type": "code",
   "execution_count": null,
   "id": "b732a02c-ccac-4b0d-b8a8-0afa05c5b21e",
   "metadata": {},
   "outputs": [],
   "source": [
    "# --- Filter final cohort ---\n",
    "cohort_18_to_90_df = cohort_df[~cohort_df['person_id'].isin(age_less_18_over_90)]\n",
    "\n",
    "print('\\nRemaining patients by group (HS):')\n",
    "print(cohort_18_to_90_df.groupby('HS')['person_id'].nunique())\n",
    "\n",
    "cohort_18_to_90_df.to_csv('cohort_18_to_90_df.csv',index=False)"
   ]
  }
 ],
 "metadata": {
  "kernelspec": {
   "display_name": "Python 3 (ipykernel)",
   "language": "python",
   "name": "python3"
  },
  "language_info": {
   "codemirror_mode": {
    "name": "ipython",
    "version": 3
   },
   "file_extension": ".py",
   "mimetype": "text/x-python",
   "name": "python",
   "nbconvert_exporter": "python",
   "pygments_lexer": "ipython3",
   "version": "3.12.4"
  },
  "toc": {
   "base_numbering": 1,
   "nav_menu": {},
   "number_sections": true,
   "sideBar": true,
   "skip_h1_title": false,
   "title_cell": "Table of Contents",
   "title_sidebar": "Contents",
   "toc_cell": false,
   "toc_position": {},
   "toc_section_display": true,
   "toc_window_display": false
  }
 },
 "nbformat": 4,
 "nbformat_minor": 5
}
