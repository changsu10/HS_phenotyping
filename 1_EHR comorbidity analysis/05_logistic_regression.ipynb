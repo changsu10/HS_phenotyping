{
 "cells": [
  {
   "cell_type": "markdown",
   "id": "f68c0f12-e188-4791-9ca0-1266ef62247b",
   "metadata": {},
   "source": [
    "Logistic Regression: HS vs Controls"
   ]
  },
  {
   "cell_type": "code",
   "execution_count": null,
   "id": "cd7461f4-6b56-45a5-83e6-bda4f483f7d9",
   "metadata": {},
   "outputs": [],
   "source": [
    "# --- Load required libraries ---\n",
    "library(dplyr)\n",
    "library(tidyverse)\n",
    "library(bigrquery)\n",
    "library(MatchIt)\n",
    "library(lubridate)\n",
    "library(data.table)"
   ]
  },
  {
   "cell_type": "code",
   "execution_count": null,
   "id": "eb91ea06-e7e1-4745-bd40-69a2d2b0134f",
   "metadata": {},
   "outputs": [],
   "source": [
    "matrix <- read.csv(\"df_final_matrix.csv\") "
   ]
  },
  {
   "cell_type": "code",
   "execution_count": null,
   "id": "1a7574d2-8f22-4070-bc2a-26f6235e33fd",
   "metadata": {},
   "outputs": [],
   "source": [
    "# --- Define Phecode features\n",
    "phecodes <- setdiff(names(matrix), c('person_id','HS','Asian',\n",
    "                                     'Black.or.African.American',\n",
    "                                     'More.than.one.population',\n",
    "                                     'No.answer.race',\n",
    "                                     'Other.race',\n",
    "                                     'White',\n",
    "                                     'Female',\n",
    "                                     'Male',\n",
    "                                     'Other.sex',\n",
    "                                     'Hispanic.or.Latino',\n",
    "                                     'No.answer.ethinicity',\n",
    "                                     'Not.Hispanic.or.Latino',\n",
    "                                     'Other.ethinicity',\n",
    "                                     'age_last_EHR',\n",
    "                                     'age_normalized'))"
   ]
  },
  {
   "cell_type": "code",
   "execution_count": null,
   "id": "f42137e8-969c-42b0-afbb-172202d25e07",
   "metadata": {},
   "outputs": [],
   "source": [
    "# --- Compute sample weights to address class imbalance ---\n",
    "fraction_0 <- rep(1 - (sum(matrix$HS == 0))/nrow(matrix))\n",
    "fraction_1 <- rep(1 - (sum(matrix$HS == 1))/nrow(matrix))\n",
    "matrix$weight <- ifelse(matrix$HS == 0, fraction_0, fraction_1)"
   ]
  },
  {
   "cell_type": "code",
   "execution_count": null,
   "id": "9f767194-3a36-4b24-a905-f36e3cd6a048",
   "metadata": {},
   "outputs": [],
   "source": [
    "# --- Run weighted logistic regression for each phecode ---\n",
    "start_time <- Sys.time()\n",
    "#\n",
    "logit <- lapply(phecodes, function(phecode) {\n",
    "  formula_str <- paste(\"HS ~ `\", phecode, \"`+ Asian + Black.or.African.American + More.than.one.population + No.answer.race + Other.race + White + Female + Male + Other.sex + Hispanic.or.Latino + No.answer.ethinicity + Not.Hispanic.or.Latino + Other.ethinicity + age_normalized\", sep=\"\")\n",
    "  model <- glm(formula=as.formula(formula_str), data = matrix, family = binomial, weights = matrix$weight) \n",
    "  s <- summary(model)\n",
    "  ci <- confint.default(model)[phecode, ]\n",
    "  list(s,ci)\n",
    "})\n",
    "\n",
    "end_time <- Sys.time()\n",
    "print(end_time - start_time)"
   ]
  },
  {
   "cell_type": "code",
   "execution_count": null,
   "id": "1041516c-69b8-4678-8c54-2f9d10c1c0be",
   "metadata": {},
   "outputs": [],
   "source": [
    "# --- Extract model outputs ---\n",
    "beta_vals  <- unlist(lapply(logit, function(res) if (is.null(res)) NA else res[[1]]$coefficients[2, 1]))\n",
    "std_vals   <- unlist(lapply(logit, function(res) if (is.null(res)) NA else res[[1]]$coefficients[2, 2]))\n",
    "z_vals     <- unlist(lapply(logit, function(res) if (is.null(res)) NA else res[[1]]$coefficients[2, 3]))\n",
    "p_values   <- unlist(lapply(logit, function(res) if (is.null(res)) NA else res[[1]]$coefficients[2, 4]))\n",
    "\n",
    "lower_ci   <- unlist(lapply(logit, function(res) if (is.null(res)) NA else res[[2]][1]))\n",
    "upper_ci   <- unlist(lapply(logit, function(res) if (is.null(res)) NA else res[[2]][2]))\n",
    "adjusted_pvalues_bh <- p.adjust(p_values, method = \"BH\")"
   ]
  },
  {
   "cell_type": "code",
   "execution_count": null,
   "id": "810de93f-0307-42da-8422-8a24dc06da95",
   "metadata": {},
   "outputs": [],
   "source": [
    "plot_data <- data.frame(\n",
    "    Phecode  = phecodes, \n",
    "    Beta     = beta_vals,\n",
    "    Std      = std_vals,\n",
    "    Z_score  = z_vals,\n",
    "    lower_CI = lower_ci,\n",
    "    upper_CI = upper_ci,    \n",
    "    Pvalue   = p_values,\n",
    "    Adjust_PV = adjusted_pvalues_bh\n",
    ")\n",
    "plot_data$NegativeLogP = -log10(plot_data$Adjust_PV)\n",
    "plot_data$BetaDirection <- ifelse(plot_data$Beta > 0, \"Positive\", \"Negative\")\n",
    "head(plot_data)"
   ]
  },
  {
   "cell_type": "code",
   "execution_count": null,
   "id": "cce0f6cb-bd61-4b24-aa20-57a24fc3aca9",
   "metadata": {},
   "outputs": [],
   "source": [
    "# --- Output results ---\n",
    "write.csv(plot_data, \"plot_data_df.csv\", row.names = FALSE)"
   ]
  }
 ],
 "metadata": {
  "kernelspec": {
   "display_name": "Python 3 (ipykernel)",
   "language": "python",
   "name": "python3"
  },
  "language_info": {
   "codemirror_mode": {
    "name": "ipython",
    "version": 3
   },
   "file_extension": ".py",
   "mimetype": "text/x-python",
   "name": "python",
   "nbconvert_exporter": "python",
   "pygments_lexer": "ipython3",
   "version": "3.12.4"
  }
 },
 "nbformat": 4,
 "nbformat_minor": 5
}
